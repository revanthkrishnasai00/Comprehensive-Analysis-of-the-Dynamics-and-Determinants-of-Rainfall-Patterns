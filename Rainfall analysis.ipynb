{
 "cells": [
  {
   "cell_type": "code",
   "execution_count": 668,
   "id": "ad721468-afd0-40fa-8cb8-591a81793adf",
   "metadata": {
    "tags": []
   },
   "outputs": [],
   "source": [
    "import numpy as np\n",
    "import pandas as pd"
   ]
  },
  {
   "cell_type": "code",
   "execution_count": 669,
   "id": "7fc494e3-a7c4-4526-8179-fe5b92c413c2",
   "metadata": {
    "tags": []
   },
   "outputs": [
    {
     "data": {
      "text/html": [
       "<div>\n",
       "<style scoped>\n",
       "    .dataframe tbody tr th:only-of-type {\n",
       "        vertical-align: middle;\n",
       "    }\n",
       "\n",
       "    .dataframe tbody tr th {\n",
       "        vertical-align: top;\n",
       "    }\n",
       "\n",
       "    .dataframe thead th {\n",
       "        text-align: right;\n",
       "    }\n",
       "</style>\n",
       "<table border=\"1\" class=\"dataframe\">\n",
       "  <thead>\n",
       "    <tr style=\"text-align: right;\">\n",
       "      <th></th>\n",
       "      <th>State</th>\n",
       "      <th>District</th>\n",
       "      <th>Date</th>\n",
       "      <th>Year</th>\n",
       "      <th>Month</th>\n",
       "      <th>Avg_rainfall</th>\n",
       "      <th>Agency_name</th>\n",
       "    </tr>\n",
       "  </thead>\n",
       "  <tbody>\n",
       "    <tr>\n",
       "      <th>0</th>\n",
       "      <td>Andhra Pradesh</td>\n",
       "      <td>Anantapur</td>\n",
       "      <td>18/07/2023</td>\n",
       "      <td>2023</td>\n",
       "      <td>7</td>\n",
       "      <td>3.645032</td>\n",
       "      <td>NRSC VIC MODEL</td>\n",
       "    </tr>\n",
       "    <tr>\n",
       "      <th>1</th>\n",
       "      <td>Andhra Pradesh</td>\n",
       "      <td>Anantapur</td>\n",
       "      <td>19/07/2023</td>\n",
       "      <td>2023</td>\n",
       "      <td>7</td>\n",
       "      <td>1.572020</td>\n",
       "      <td>NRSC VIC MODEL</td>\n",
       "    </tr>\n",
       "    <tr>\n",
       "      <th>2</th>\n",
       "      <td>Andhra Pradesh</td>\n",
       "      <td>Anantapur</td>\n",
       "      <td>20/07/2023</td>\n",
       "      <td>2023</td>\n",
       "      <td>7</td>\n",
       "      <td>3.788880</td>\n",
       "      <td>NRSC VIC MODEL</td>\n",
       "    </tr>\n",
       "    <tr>\n",
       "      <th>3</th>\n",
       "      <td>Andhra Pradesh</td>\n",
       "      <td>Anantapur</td>\n",
       "      <td>21/07/2023</td>\n",
       "      <td>2023</td>\n",
       "      <td>7</td>\n",
       "      <td>4.961644</td>\n",
       "      <td>NRSC VIC MODEL</td>\n",
       "    </tr>\n",
       "    <tr>\n",
       "      <th>4</th>\n",
       "      <td>Andhra Pradesh</td>\n",
       "      <td>Anantapur</td>\n",
       "      <td>01/07/2023</td>\n",
       "      <td>2023</td>\n",
       "      <td>7</td>\n",
       "      <td>0.102643</td>\n",
       "      <td>NRSC VIC MODEL</td>\n",
       "    </tr>\n",
       "    <tr>\n",
       "      <th>...</th>\n",
       "      <td>...</td>\n",
       "      <td>...</td>\n",
       "      <td>...</td>\n",
       "      <td>...</td>\n",
       "      <td>...</td>\n",
       "      <td>...</td>\n",
       "      <td>...</td>\n",
       "    </tr>\n",
       "    <tr>\n",
       "      <th>15325</th>\n",
       "      <td>West Bengal</td>\n",
       "      <td>Purulia</td>\n",
       "      <td>13/07/2023</td>\n",
       "      <td>2023</td>\n",
       "      <td>7</td>\n",
       "      <td>6.528606</td>\n",
       "      <td>NRSC VIC MODEL</td>\n",
       "    </tr>\n",
       "    <tr>\n",
       "      <th>15326</th>\n",
       "      <td>West Bengal</td>\n",
       "      <td>Purulia</td>\n",
       "      <td>14/07/2023</td>\n",
       "      <td>2023</td>\n",
       "      <td>7</td>\n",
       "      <td>0.296827</td>\n",
       "      <td>NRSC VIC MODEL</td>\n",
       "    </tr>\n",
       "    <tr>\n",
       "      <th>15327</th>\n",
       "      <td>West Bengal</td>\n",
       "      <td>Purulia</td>\n",
       "      <td>15/07/2023</td>\n",
       "      <td>2023</td>\n",
       "      <td>7</td>\n",
       "      <td>16.767326</td>\n",
       "      <td>NRSC VIC MODEL</td>\n",
       "    </tr>\n",
       "    <tr>\n",
       "      <th>15328</th>\n",
       "      <td>West Bengal</td>\n",
       "      <td>Purulia</td>\n",
       "      <td>16/07/2023</td>\n",
       "      <td>2023</td>\n",
       "      <td>7</td>\n",
       "      <td>13.872437</td>\n",
       "      <td>NRSC VIC MODEL</td>\n",
       "    </tr>\n",
       "    <tr>\n",
       "      <th>15329</th>\n",
       "      <td>West Bengal</td>\n",
       "      <td>Purulia</td>\n",
       "      <td>17/07/2023</td>\n",
       "      <td>2023</td>\n",
       "      <td>7</td>\n",
       "      <td>5.912179</td>\n",
       "      <td>NRSC VIC MODEL</td>\n",
       "    </tr>\n",
       "  </tbody>\n",
       "</table>\n",
       "<p>15330 rows × 7 columns</p>\n",
       "</div>"
      ],
      "text/plain": [
       "                State   District        Date  Year  Month  Avg_rainfall  \\\n",
       "0      Andhra Pradesh  Anantapur  18/07/2023  2023      7      3.645032   \n",
       "1      Andhra Pradesh  Anantapur  19/07/2023  2023      7      1.572020   \n",
       "2      Andhra Pradesh  Anantapur  20/07/2023  2023      7      3.788880   \n",
       "3      Andhra Pradesh  Anantapur  21/07/2023  2023      7      4.961644   \n",
       "4      Andhra Pradesh  Anantapur  01/07/2023  2023      7      0.102643   \n",
       "...               ...        ...         ...   ...    ...           ...   \n",
       "15325     West Bengal    Purulia  13/07/2023  2023      7      6.528606   \n",
       "15326     West Bengal    Purulia  14/07/2023  2023      7      0.296827   \n",
       "15327     West Bengal    Purulia  15/07/2023  2023      7     16.767326   \n",
       "15328     West Bengal    Purulia  16/07/2023  2023      7     13.872437   \n",
       "15329     West Bengal    Purulia  17/07/2023  2023      7      5.912179   \n",
       "\n",
       "          Agency_name  \n",
       "0      NRSC VIC MODEL  \n",
       "1      NRSC VIC MODEL  \n",
       "2      NRSC VIC MODEL  \n",
       "3      NRSC VIC MODEL  \n",
       "4      NRSC VIC MODEL  \n",
       "...               ...  \n",
       "15325  NRSC VIC MODEL  \n",
       "15326  NRSC VIC MODEL  \n",
       "15327  NRSC VIC MODEL  \n",
       "15328  NRSC VIC MODEL  \n",
       "15329  NRSC VIC MODEL  \n",
       "\n",
       "[15330 rows x 7 columns]"
      ]
     },
     "execution_count": 669,
     "metadata": {},
     "output_type": "execute_result"
    }
   ],
   "source": [
    "Y2023_data=pd.read_csv('C:\\\\Users\\\\revan\\\\Documents\\\\raindata.csv')\n",
    "Y2023_data"
   ]
  },
  {
   "cell_type": "code",
   "execution_count": 670,
   "id": "8308f17d-7a45-41c1-984d-d7714a5c0c4a",
   "metadata": {
    "tags": []
   },
   "outputs": [
    {
     "data": {
      "text/html": [
       "<div>\n",
       "<style scoped>\n",
       "    .dataframe tbody tr th:only-of-type {\n",
       "        vertical-align: middle;\n",
       "    }\n",
       "\n",
       "    .dataframe tbody tr th {\n",
       "        vertical-align: top;\n",
       "    }\n",
       "\n",
       "    .dataframe thead th {\n",
       "        text-align: right;\n",
       "    }\n",
       "</style>\n",
       "<table border=\"1\" class=\"dataframe\">\n",
       "  <thead>\n",
       "    <tr style=\"text-align: right;\">\n",
       "      <th></th>\n",
       "      <th>State</th>\n",
       "      <th>District</th>\n",
       "      <th>Date</th>\n",
       "      <th>Year</th>\n",
       "      <th>Month</th>\n",
       "      <th>Avg_rainfall</th>\n",
       "      <th>Agency_name</th>\n",
       "    </tr>\n",
       "  </thead>\n",
       "  <tbody>\n",
       "    <tr>\n",
       "      <th>0</th>\n",
       "      <td>Andaman &amp; Nicobar</td>\n",
       "      <td>Nicobars</td>\n",
       "      <td>2020-10-23</td>\n",
       "      <td>2020</td>\n",
       "      <td>10</td>\n",
       "      <td>NaN</td>\n",
       "      <td>IMD GRID MODEL</td>\n",
       "    </tr>\n",
       "    <tr>\n",
       "      <th>1</th>\n",
       "      <td>Andaman &amp; Nicobar</td>\n",
       "      <td>Nicobars</td>\n",
       "      <td>2020-10-27</td>\n",
       "      <td>2020</td>\n",
       "      <td>10</td>\n",
       "      <td>NaN</td>\n",
       "      <td>IMD GRID MODEL</td>\n",
       "    </tr>\n",
       "    <tr>\n",
       "      <th>2</th>\n",
       "      <td>Andaman &amp; Nicobar</td>\n",
       "      <td>Nicobars</td>\n",
       "      <td>2020-10-02</td>\n",
       "      <td>2020</td>\n",
       "      <td>10</td>\n",
       "      <td>NaN</td>\n",
       "      <td>IMD GRID MODEL</td>\n",
       "    </tr>\n",
       "    <tr>\n",
       "      <th>3</th>\n",
       "      <td>Andaman &amp; Nicobar</td>\n",
       "      <td>Nicobars</td>\n",
       "      <td>2020-10-03</td>\n",
       "      <td>2020</td>\n",
       "      <td>10</td>\n",
       "      <td>NaN</td>\n",
       "      <td>IMD GRID MODEL</td>\n",
       "    </tr>\n",
       "    <tr>\n",
       "      <th>4</th>\n",
       "      <td>Andaman &amp; Nicobar</td>\n",
       "      <td>Nicobars</td>\n",
       "      <td>2020-10-04</td>\n",
       "      <td>2020</td>\n",
       "      <td>10</td>\n",
       "      <td>NaN</td>\n",
       "      <td>IMD GRID MODEL</td>\n",
       "    </tr>\n",
       "    <tr>\n",
       "      <th>...</th>\n",
       "      <td>...</td>\n",
       "      <td>...</td>\n",
       "      <td>...</td>\n",
       "      <td>...</td>\n",
       "      <td>...</td>\n",
       "      <td>...</td>\n",
       "      <td>...</td>\n",
       "    </tr>\n",
       "    <tr>\n",
       "      <th>22718</th>\n",
       "      <td>West Bengal</td>\n",
       "      <td>Purulia</td>\n",
       "      <td>2020-10-27</td>\n",
       "      <td>2020</td>\n",
       "      <td>10</td>\n",
       "      <td>NaN</td>\n",
       "      <td>IMD GRID MODEL</td>\n",
       "    </tr>\n",
       "    <tr>\n",
       "      <th>22719</th>\n",
       "      <td>West Bengal</td>\n",
       "      <td>Purulia</td>\n",
       "      <td>2020-10-28</td>\n",
       "      <td>2020</td>\n",
       "      <td>10</td>\n",
       "      <td>0.000407</td>\n",
       "      <td>IMD GRID MODEL</td>\n",
       "    </tr>\n",
       "    <tr>\n",
       "      <th>22720</th>\n",
       "      <td>West Bengal</td>\n",
       "      <td>Purulia</td>\n",
       "      <td>2020-10-29</td>\n",
       "      <td>2020</td>\n",
       "      <td>10</td>\n",
       "      <td>NaN</td>\n",
       "      <td>IMD GRID MODEL</td>\n",
       "    </tr>\n",
       "    <tr>\n",
       "      <th>22721</th>\n",
       "      <td>West Bengal</td>\n",
       "      <td>Purulia</td>\n",
       "      <td>2020-10-30</td>\n",
       "      <td>2020</td>\n",
       "      <td>10</td>\n",
       "      <td>0.060265</td>\n",
       "      <td>IMD GRID MODEL</td>\n",
       "    </tr>\n",
       "    <tr>\n",
       "      <th>22722</th>\n",
       "      <td>West Bengal</td>\n",
       "      <td>Purulia</td>\n",
       "      <td>2020-10-31</td>\n",
       "      <td>2020</td>\n",
       "      <td>10</td>\n",
       "      <td>14.070974</td>\n",
       "      <td>IMD GRID MODEL</td>\n",
       "    </tr>\n",
       "  </tbody>\n",
       "</table>\n",
       "<p>22723 rows × 7 columns</p>\n",
       "</div>"
      ],
      "text/plain": [
       "                   State  District        Date  Year  Month  Avg_rainfall  \\\n",
       "0      Andaman & Nicobar  Nicobars  2020-10-23  2020     10           NaN   \n",
       "1      Andaman & Nicobar  Nicobars  2020-10-27  2020     10           NaN   \n",
       "2      Andaman & Nicobar  Nicobars  2020-10-02  2020     10           NaN   \n",
       "3      Andaman & Nicobar  Nicobars  2020-10-03  2020     10           NaN   \n",
       "4      Andaman & Nicobar  Nicobars  2020-10-04  2020     10           NaN   \n",
       "...                  ...       ...         ...   ...    ...           ...   \n",
       "22718        West Bengal   Purulia  2020-10-27  2020     10           NaN   \n",
       "22719        West Bengal   Purulia  2020-10-28  2020     10      0.000407   \n",
       "22720        West Bengal   Purulia  2020-10-29  2020     10           NaN   \n",
       "22721        West Bengal   Purulia  2020-10-30  2020     10      0.060265   \n",
       "22722        West Bengal   Purulia  2020-10-31  2020     10     14.070974   \n",
       "\n",
       "          Agency_name  \n",
       "0      IMD GRID MODEL  \n",
       "1      IMD GRID MODEL  \n",
       "2      IMD GRID MODEL  \n",
       "3      IMD GRID MODEL  \n",
       "4      IMD GRID MODEL  \n",
       "...               ...  \n",
       "22718  IMD GRID MODEL  \n",
       "22719  IMD GRID MODEL  \n",
       "22720  IMD GRID MODEL  \n",
       "22721  IMD GRID MODEL  \n",
       "22722  IMD GRID MODEL  \n",
       "\n",
       "[22723 rows x 7 columns]"
      ]
     },
     "execution_count": 670,
     "metadata": {},
     "output_type": "execute_result"
    }
   ],
   "source": [
    "Y2020_data=pd.read_csv('C:\\\\Users\\\\revan\\\\Documents\\\\Linear_regression\\\\Rainfalldata__2020.csv')\n",
    "Y2020_data"
   ]
  },
  {
   "cell_type": "code",
   "execution_count": 671,
   "id": "13da1a2a-f8a7-4d06-8856-3f38d2e71948",
   "metadata": {
    "tags": []
   },
   "outputs": [
    {
     "data": {
      "text/html": [
       "<div>\n",
       "<style scoped>\n",
       "    .dataframe tbody tr th:only-of-type {\n",
       "        vertical-align: middle;\n",
       "    }\n",
       "\n",
       "    .dataframe tbody tr th {\n",
       "        vertical-align: top;\n",
       "    }\n",
       "\n",
       "    .dataframe thead th {\n",
       "        text-align: right;\n",
       "    }\n",
       "</style>\n",
       "<table border=\"1\" class=\"dataframe\">\n",
       "  <thead>\n",
       "    <tr style=\"text-align: right;\">\n",
       "      <th></th>\n",
       "      <th>State</th>\n",
       "      <th>District</th>\n",
       "      <th>Date</th>\n",
       "      <th>Year</th>\n",
       "      <th>Month</th>\n",
       "      <th>Avg_rainfall</th>\n",
       "      <th>Agency_name</th>\n",
       "    </tr>\n",
       "  </thead>\n",
       "  <tbody>\n",
       "    <tr>\n",
       "      <th>0</th>\n",
       "      <td>Andaman &amp; Nicobar</td>\n",
       "      <td>Nicobars</td>\n",
       "      <td>2021-07-06</td>\n",
       "      <td>2021</td>\n",
       "      <td>7</td>\n",
       "      <td>NaN</td>\n",
       "      <td>IMD GRID MODEL</td>\n",
       "    </tr>\n",
       "    <tr>\n",
       "      <th>1</th>\n",
       "      <td>Andaman &amp; Nicobar</td>\n",
       "      <td>Nicobars</td>\n",
       "      <td>2021-07-21</td>\n",
       "      <td>2021</td>\n",
       "      <td>7</td>\n",
       "      <td>NaN</td>\n",
       "      <td>IMD GRID MODEL</td>\n",
       "    </tr>\n",
       "    <tr>\n",
       "      <th>2</th>\n",
       "      <td>Andaman &amp; Nicobar</td>\n",
       "      <td>Nicobars</td>\n",
       "      <td>2021-07-31</td>\n",
       "      <td>2021</td>\n",
       "      <td>7</td>\n",
       "      <td>NaN</td>\n",
       "      <td>IMD GRID MODEL</td>\n",
       "    </tr>\n",
       "    <tr>\n",
       "      <th>3</th>\n",
       "      <td>Andaman &amp; Nicobar</td>\n",
       "      <td>Nicobars</td>\n",
       "      <td>2021-07-01</td>\n",
       "      <td>2021</td>\n",
       "      <td>7</td>\n",
       "      <td>NaN</td>\n",
       "      <td>IMD GRID MODEL</td>\n",
       "    </tr>\n",
       "    <tr>\n",
       "      <th>4</th>\n",
       "      <td>Andaman &amp; Nicobar</td>\n",
       "      <td>Nicobars</td>\n",
       "      <td>2021-07-02</td>\n",
       "      <td>2021</td>\n",
       "      <td>7</td>\n",
       "      <td>NaN</td>\n",
       "      <td>IMD GRID MODEL</td>\n",
       "    </tr>\n",
       "    <tr>\n",
       "      <th>...</th>\n",
       "      <td>...</td>\n",
       "      <td>...</td>\n",
       "      <td>...</td>\n",
       "      <td>...</td>\n",
       "      <td>...</td>\n",
       "      <td>...</td>\n",
       "      <td>...</td>\n",
       "    </tr>\n",
       "    <tr>\n",
       "      <th>22718</th>\n",
       "      <td>West Bengal</td>\n",
       "      <td>Purulia</td>\n",
       "      <td>2021-07-27</td>\n",
       "      <td>2021</td>\n",
       "      <td>7</td>\n",
       "      <td>13.524320</td>\n",
       "      <td>IMD GRID MODEL</td>\n",
       "    </tr>\n",
       "    <tr>\n",
       "      <th>22719</th>\n",
       "      <td>West Bengal</td>\n",
       "      <td>Purulia</td>\n",
       "      <td>2021-07-28</td>\n",
       "      <td>2021</td>\n",
       "      <td>7</td>\n",
       "      <td>8.988346</td>\n",
       "      <td>IMD GRID MODEL</td>\n",
       "    </tr>\n",
       "    <tr>\n",
       "      <th>22720</th>\n",
       "      <td>West Bengal</td>\n",
       "      <td>Purulia</td>\n",
       "      <td>2021-07-29</td>\n",
       "      <td>2021</td>\n",
       "      <td>7</td>\n",
       "      <td>38.758321</td>\n",
       "      <td>IMD GRID MODEL</td>\n",
       "    </tr>\n",
       "    <tr>\n",
       "      <th>22721</th>\n",
       "      <td>West Bengal</td>\n",
       "      <td>Purulia</td>\n",
       "      <td>2021-07-30</td>\n",
       "      <td>2021</td>\n",
       "      <td>7</td>\n",
       "      <td>71.228018</td>\n",
       "      <td>IMD GRID MODEL</td>\n",
       "    </tr>\n",
       "    <tr>\n",
       "      <th>22722</th>\n",
       "      <td>West Bengal</td>\n",
       "      <td>Purulia</td>\n",
       "      <td>2021-07-31</td>\n",
       "      <td>2021</td>\n",
       "      <td>7</td>\n",
       "      <td>49.244897</td>\n",
       "      <td>IMD GRID MODEL</td>\n",
       "    </tr>\n",
       "  </tbody>\n",
       "</table>\n",
       "<p>22723 rows × 7 columns</p>\n",
       "</div>"
      ],
      "text/plain": [
       "                   State  District        Date  Year  Month  Avg_rainfall  \\\n",
       "0      Andaman & Nicobar  Nicobars  2021-07-06  2021      7           NaN   \n",
       "1      Andaman & Nicobar  Nicobars  2021-07-21  2021      7           NaN   \n",
       "2      Andaman & Nicobar  Nicobars  2021-07-31  2021      7           NaN   \n",
       "3      Andaman & Nicobar  Nicobars  2021-07-01  2021      7           NaN   \n",
       "4      Andaman & Nicobar  Nicobars  2021-07-02  2021      7           NaN   \n",
       "...                  ...       ...         ...   ...    ...           ...   \n",
       "22718        West Bengal   Purulia  2021-07-27  2021      7     13.524320   \n",
       "22719        West Bengal   Purulia  2021-07-28  2021      7      8.988346   \n",
       "22720        West Bengal   Purulia  2021-07-29  2021      7     38.758321   \n",
       "22721        West Bengal   Purulia  2021-07-30  2021      7     71.228018   \n",
       "22722        West Bengal   Purulia  2021-07-31  2021      7     49.244897   \n",
       "\n",
       "          Agency_name  \n",
       "0      IMD GRID MODEL  \n",
       "1      IMD GRID MODEL  \n",
       "2      IMD GRID MODEL  \n",
       "3      IMD GRID MODEL  \n",
       "4      IMD GRID MODEL  \n",
       "...               ...  \n",
       "22718  IMD GRID MODEL  \n",
       "22719  IMD GRID MODEL  \n",
       "22720  IMD GRID MODEL  \n",
       "22721  IMD GRID MODEL  \n",
       "22722  IMD GRID MODEL  \n",
       "\n",
       "[22723 rows x 7 columns]"
      ]
     },
     "execution_count": 671,
     "metadata": {},
     "output_type": "execute_result"
    }
   ],
   "source": [
    "Y2021_data=pd.read_csv('C:\\\\Users\\\\revan\\\\Documents\\\\Linear_regression\\\\Rainfalldata__2021.csv')\n",
    "Y2021_data"
   ]
  },
  {
   "cell_type": "code",
   "execution_count": 672,
   "id": "680b76a4-a48f-4c94-af1c-d7746070e8c9",
   "metadata": {
    "tags": []
   },
   "outputs": [
    {
     "data": {
      "text/html": [
       "<div>\n",
       "<style scoped>\n",
       "    .dataframe tbody tr th:only-of-type {\n",
       "        vertical-align: middle;\n",
       "    }\n",
       "\n",
       "    .dataframe tbody tr th {\n",
       "        vertical-align: top;\n",
       "    }\n",
       "\n",
       "    .dataframe thead th {\n",
       "        text-align: right;\n",
       "    }\n",
       "</style>\n",
       "<table border=\"1\" class=\"dataframe\">\n",
       "  <thead>\n",
       "    <tr style=\"text-align: right;\">\n",
       "      <th></th>\n",
       "      <th>State</th>\n",
       "      <th>District</th>\n",
       "      <th>Date</th>\n",
       "      <th>Year</th>\n",
       "      <th>Month</th>\n",
       "      <th>Avg_rainfall</th>\n",
       "      <th>Agency_name</th>\n",
       "    </tr>\n",
       "  </thead>\n",
       "  <tbody>\n",
       "    <tr>\n",
       "      <th>0</th>\n",
       "      <td>Andaman &amp; Nicobar</td>\n",
       "      <td>Nicobars</td>\n",
       "      <td>2022-07-02</td>\n",
       "      <td>2022</td>\n",
       "      <td>7</td>\n",
       "      <td>NaN</td>\n",
       "      <td>IMD GRID MODEL</td>\n",
       "    </tr>\n",
       "    <tr>\n",
       "      <th>1</th>\n",
       "      <td>Andaman &amp; Nicobar</td>\n",
       "      <td>Nicobars</td>\n",
       "      <td>2022-07-03</td>\n",
       "      <td>2022</td>\n",
       "      <td>7</td>\n",
       "      <td>NaN</td>\n",
       "      <td>IMD GRID MODEL</td>\n",
       "    </tr>\n",
       "    <tr>\n",
       "      <th>2</th>\n",
       "      <td>Andaman &amp; Nicobar</td>\n",
       "      <td>Nicobars</td>\n",
       "      <td>2022-07-04</td>\n",
       "      <td>2022</td>\n",
       "      <td>7</td>\n",
       "      <td>NaN</td>\n",
       "      <td>IMD GRID MODEL</td>\n",
       "    </tr>\n",
       "    <tr>\n",
       "      <th>3</th>\n",
       "      <td>Andaman &amp; Nicobar</td>\n",
       "      <td>Nicobars</td>\n",
       "      <td>2022-07-05</td>\n",
       "      <td>2022</td>\n",
       "      <td>7</td>\n",
       "      <td>NaN</td>\n",
       "      <td>IMD GRID MODEL</td>\n",
       "    </tr>\n",
       "    <tr>\n",
       "      <th>4</th>\n",
       "      <td>Andaman &amp; Nicobar</td>\n",
       "      <td>Nicobars</td>\n",
       "      <td>2022-07-07</td>\n",
       "      <td>2022</td>\n",
       "      <td>7</td>\n",
       "      <td>NaN</td>\n",
       "      <td>IMD GRID MODEL</td>\n",
       "    </tr>\n",
       "    <tr>\n",
       "      <th>...</th>\n",
       "      <td>...</td>\n",
       "      <td>...</td>\n",
       "      <td>...</td>\n",
       "      <td>...</td>\n",
       "      <td>...</td>\n",
       "      <td>...</td>\n",
       "      <td>...</td>\n",
       "    </tr>\n",
       "    <tr>\n",
       "      <th>21252</th>\n",
       "      <td>West Bengal</td>\n",
       "      <td>Purulia</td>\n",
       "      <td>2022-07-25</td>\n",
       "      <td>2022</td>\n",
       "      <td>7</td>\n",
       "      <td>7.369212</td>\n",
       "      <td>IMD GRID MODEL</td>\n",
       "    </tr>\n",
       "    <tr>\n",
       "      <th>21253</th>\n",
       "      <td>West Bengal</td>\n",
       "      <td>Purulia</td>\n",
       "      <td>2022-07-26</td>\n",
       "      <td>2022</td>\n",
       "      <td>7</td>\n",
       "      <td>2.824182</td>\n",
       "      <td>IMD GRID MODEL</td>\n",
       "    </tr>\n",
       "    <tr>\n",
       "      <th>21254</th>\n",
       "      <td>West Bengal</td>\n",
       "      <td>Purulia</td>\n",
       "      <td>2022-07-27</td>\n",
       "      <td>2022</td>\n",
       "      <td>7</td>\n",
       "      <td>1.366582</td>\n",
       "      <td>IMD GRID MODEL</td>\n",
       "    </tr>\n",
       "    <tr>\n",
       "      <th>21255</th>\n",
       "      <td>West Bengal</td>\n",
       "      <td>Purulia</td>\n",
       "      <td>2022-07-28</td>\n",
       "      <td>2022</td>\n",
       "      <td>7</td>\n",
       "      <td>0.067867</td>\n",
       "      <td>IMD GRID MODEL</td>\n",
       "    </tr>\n",
       "    <tr>\n",
       "      <th>21256</th>\n",
       "      <td>West Bengal</td>\n",
       "      <td>Purulia</td>\n",
       "      <td>2022-07-29</td>\n",
       "      <td>2022</td>\n",
       "      <td>7</td>\n",
       "      <td>0.863145</td>\n",
       "      <td>IMD GRID MODEL</td>\n",
       "    </tr>\n",
       "  </tbody>\n",
       "</table>\n",
       "<p>21257 rows × 7 columns</p>\n",
       "</div>"
      ],
      "text/plain": [
       "                   State  District        Date  Year  Month  Avg_rainfall  \\\n",
       "0      Andaman & Nicobar  Nicobars  2022-07-02  2022      7           NaN   \n",
       "1      Andaman & Nicobar  Nicobars  2022-07-03  2022      7           NaN   \n",
       "2      Andaman & Nicobar  Nicobars  2022-07-04  2022      7           NaN   \n",
       "3      Andaman & Nicobar  Nicobars  2022-07-05  2022      7           NaN   \n",
       "4      Andaman & Nicobar  Nicobars  2022-07-07  2022      7           NaN   \n",
       "...                  ...       ...         ...   ...    ...           ...   \n",
       "21252        West Bengal   Purulia  2022-07-25  2022      7      7.369212   \n",
       "21253        West Bengal   Purulia  2022-07-26  2022      7      2.824182   \n",
       "21254        West Bengal   Purulia  2022-07-27  2022      7      1.366582   \n",
       "21255        West Bengal   Purulia  2022-07-28  2022      7      0.067867   \n",
       "21256        West Bengal   Purulia  2022-07-29  2022      7      0.863145   \n",
       "\n",
       "          Agency_name  \n",
       "0      IMD GRID MODEL  \n",
       "1      IMD GRID MODEL  \n",
       "2      IMD GRID MODEL  \n",
       "3      IMD GRID MODEL  \n",
       "4      IMD GRID MODEL  \n",
       "...               ...  \n",
       "21252  IMD GRID MODEL  \n",
       "21253  IMD GRID MODEL  \n",
       "21254  IMD GRID MODEL  \n",
       "21255  IMD GRID MODEL  \n",
       "21256  IMD GRID MODEL  \n",
       "\n",
       "[21257 rows x 7 columns]"
      ]
     },
     "execution_count": 672,
     "metadata": {},
     "output_type": "execute_result"
    }
   ],
   "source": [
    "Y2022_data=pd.read_csv('C:\\\\Users\\\\revan\\\\Documents\\\\Linear_regression\\\\Rainfalldata_2022.csv')\n",
    "Y2022_data"
   ]
  },
  {
   "cell_type": "code",
   "execution_count": 673,
   "id": "358e1a6e-08ad-4666-ab14-5d7fb97609a2",
   "metadata": {
    "tags": []
   },
   "outputs": [
    {
     "data": {
      "text/plain": [
       "5.128567057842491"
      ]
     },
     "execution_count": 673,
     "metadata": {},
     "output_type": "execute_result"
    }
   ],
   "source": [
    "AP2023_avg = Y2023_data.Avg_rainfall[0:273]\n",
    "avg_avgAP2023=AP2023_avg.mean()\n",
    "avg_avgAP2023"
   ]
  },
  {
   "cell_type": "code",
   "execution_count": 674,
   "id": "b68c96b7-6f8f-4214-ad42-ba7a7beeee0b",
   "metadata": {
    "tags": []
   },
   "outputs": [
    {
     "data": {
      "text/plain": [
       "5.987307724460705"
      ]
     },
     "execution_count": 674,
     "metadata": {},
     "output_type": "execute_result"
    }
   ],
   "source": [
    "AP2022_avg = Y2022_data.iloc[88:464]\n",
    "avg_avgAP2022=AP2022_avg.Avg_rainfall.mean()\n",
    "avg_avgAP2022"
   ]
  },
  {
   "cell_type": "code",
   "execution_count": 675,
   "id": "869bbafe-d9c2-4de3-98d7-fae2aae56ee4",
   "metadata": {
    "tags": []
   },
   "outputs": [
    {
     "data": {
      "text/plain": [
       "7.244670869354498"
      ]
     },
     "execution_count": 675,
     "metadata": {},
     "output_type": "execute_result"
    }
   ],
   "source": [
    "AP2021_avg = Y2021_data.iloc[93:496]\n",
    "avg_avgAP2021=AP2021_avg.Avg_rainfall.mean()\n",
    "avg_avgAP2021"
   ]
  },
  {
   "cell_type": "code",
   "execution_count": 676,
   "id": "e6c3799b-bbb7-43c9-9620-342b379c6231",
   "metadata": {
    "tags": []
   },
   "outputs": [
    {
     "data": {
      "text/plain": [
       "1.7673200281699348"
      ]
     },
     "execution_count": 676,
     "metadata": {},
     "output_type": "execute_result"
    }
   ],
   "source": [
    "AP2020_avg= Y2020_data.iloc[93:496]\n",
    "avg_avgAP2020=AP2020_avg.Avg_rainfall.mean()\n",
    "avg_avgAP2020"
   ]
  },
  {
   "cell_type": "code",
   "execution_count": 677,
   "id": "e8d2fcb6-a713-4eec-a0a3-0bf72391d0a3",
   "metadata": {
    "tags": []
   },
   "outputs": [
    {
     "data": {
      "text/html": [
       "<div>\n",
       "<style scoped>\n",
       "    .dataframe tbody tr th:only-of-type {\n",
       "        vertical-align: middle;\n",
       "    }\n",
       "\n",
       "    .dataframe tbody tr th {\n",
       "        vertical-align: top;\n",
       "    }\n",
       "\n",
       "    .dataframe thead th {\n",
       "        text-align: right;\n",
       "    }\n",
       "</style>\n",
       "<table border=\"1\" class=\"dataframe\">\n",
       "  <thead>\n",
       "    <tr style=\"text-align: right;\">\n",
       "      <th></th>\n",
       "      <th>State</th>\n",
       "      <th>Year</th>\n",
       "      <th>Avg(avgRain)</th>\n",
       "    </tr>\n",
       "  </thead>\n",
       "  <tbody>\n",
       "    <tr>\n",
       "      <th>0</th>\n",
       "      <td>A.P</td>\n",
       "      <td>2023</td>\n",
       "      <td>5.128567</td>\n",
       "    </tr>\n",
       "    <tr>\n",
       "      <th>1</th>\n",
       "      <td>A.P</td>\n",
       "      <td>2022</td>\n",
       "      <td>5.987308</td>\n",
       "    </tr>\n",
       "    <tr>\n",
       "      <th>2</th>\n",
       "      <td>A.P</td>\n",
       "      <td>2021</td>\n",
       "      <td>7.244671</td>\n",
       "    </tr>\n",
       "    <tr>\n",
       "      <th>3</th>\n",
       "      <td>A.P</td>\n",
       "      <td>2020</td>\n",
       "      <td>1.767320</td>\n",
       "    </tr>\n",
       "  </tbody>\n",
       "</table>\n",
       "</div>"
      ],
      "text/plain": [
       "  State  Year  Avg(avgRain)\n",
       "0   A.P  2023      5.128567\n",
       "1   A.P  2022      5.987308\n",
       "2   A.P  2021      7.244671\n",
       "3   A.P  2020      1.767320"
      ]
     },
     "execution_count": 677,
     "metadata": {},
     "output_type": "execute_result"
    }
   ],
   "source": [
    "AP_AVGTABLE= {\"State\":['A.P','A.P','A.P','A.P'],\"Year\":[2023,2022,2021,2020],\n",
    "              \"Avg(avgRain)\":[avg_avgAP2023,avg_avgAP2022,avg_avgAP2021,avg_avgAP2020]}\n",
    "AP_FRAME=pd.DataFrame(AP_AVGTABLE)\n",
    "AP_FRAME"
   ]
  },
  {
   "cell_type": "code",
   "execution_count": 678,
   "id": "b3cd34d2-582d-495c-845f-5a9eadf7b24d",
   "metadata": {
    "tags": []
   },
   "outputs": [
    {
     "data": {
      "text/plain": [
       "16.398609533809523"
      ]
     },
     "execution_count": 678,
     "metadata": {},
     "output_type": "execute_result"
    }
   ],
   "source": [
    "MH2023_avg = Y2023_data.iloc[7686:8442]\n",
    "avg_avgMH2023=MH2023_avg.Avg_rainfall.mean()\n",
    "avg_avgMH2023"
   ]
  },
  {
   "cell_type": "code",
   "execution_count": 679,
   "id": "cbad04a1-ee90-410d-9f2b-8e077e8beef3",
   "metadata": {
    "tags": []
   },
   "outputs": [
    {
     "data": {
      "text/plain": [
       "21.093919728855084"
      ]
     },
     "execution_count": 679,
     "metadata": {},
     "output_type": "execute_result"
    }
   ],
   "source": [
    "MH2022_avg = Y2022_data.iloc[10701:11745]\n",
    "avg_avgMH2022= MH2022_avg.Avg_rainfall.mean()\n",
    "avg_avgMH2022"
   ]
  },
  {
   "cell_type": "code",
   "execution_count": 680,
   "id": "5547d5a2-1908-4dab-87d8-69443b993b08",
   "metadata": {
    "tags": []
   },
   "outputs": [
    {
     "data": {
      "text/plain": [
       "15.645612427245796"
      ]
     },
     "execution_count": 680,
     "metadata": {},
     "output_type": "execute_result"
    }
   ],
   "source": [
    "MH2021_avg = Y2021_data.iloc[11439:12555]\n",
    "avg_avgMH2021= MH2021_avg.Avg_rainfall.mean()\n",
    "avg_avgMH2021"
   ]
  },
  {
   "cell_type": "code",
   "execution_count": null,
   "id": "965083d7-0de1-4996-b8de-cb31abadda85",
   "metadata": {},
   "outputs": [],
   "source": []
  },
  {
   "cell_type": "code",
   "execution_count": 681,
   "id": "1c460574-3f4f-435b-b9fd-4b3bc4581e86",
   "metadata": {
    "tags": []
   },
   "outputs": [
    {
     "data": {
      "text/plain": [
       "1.8361590098498786"
      ]
     },
     "execution_count": 681,
     "metadata": {},
     "output_type": "execute_result"
    }
   ],
   "source": [
    "# splitting dataframe by groups\n",
    "# grouping by particular dataframe column\n",
    "grouped_MH2020 = Y2020_data.groupby(Y2020_data.State)\n",
    "MH2020_avg = grouped_MH2020.get_group(\"Maharashtra\")\n",
    "avg_avgMH2020=MH2020_avg.Avg_rainfall.mean()\n",
    "avg_avgMH2020"
   ]
  },
  {
   "cell_type": "code",
   "execution_count": 682,
   "id": "1f11f197-aed5-4390-a2bc-5e3f279fbaef",
   "metadata": {
    "tags": []
   },
   "outputs": [
    {
     "data": {
      "text/html": [
       "<div>\n",
       "<style scoped>\n",
       "    .dataframe tbody tr th:only-of-type {\n",
       "        vertical-align: middle;\n",
       "    }\n",
       "\n",
       "    .dataframe tbody tr th {\n",
       "        vertical-align: top;\n",
       "    }\n",
       "\n",
       "    .dataframe thead th {\n",
       "        text-align: right;\n",
       "    }\n",
       "</style>\n",
       "<table border=\"1\" class=\"dataframe\">\n",
       "  <thead>\n",
       "    <tr style=\"text-align: right;\">\n",
       "      <th></th>\n",
       "      <th>State</th>\n",
       "      <th>Year</th>\n",
       "      <th>Avg(avg rainfall)</th>\n",
       "    </tr>\n",
       "  </thead>\n",
       "  <tbody>\n",
       "    <tr>\n",
       "      <th>0</th>\n",
       "      <td>Maharastra</td>\n",
       "      <td>2023</td>\n",
       "      <td>16.398610</td>\n",
       "    </tr>\n",
       "    <tr>\n",
       "      <th>1</th>\n",
       "      <td>Maharastra</td>\n",
       "      <td>2022</td>\n",
       "      <td>21.093920</td>\n",
       "    </tr>\n",
       "    <tr>\n",
       "      <th>2</th>\n",
       "      <td>Maharastra</td>\n",
       "      <td>2021</td>\n",
       "      <td>15.645612</td>\n",
       "    </tr>\n",
       "    <tr>\n",
       "      <th>3</th>\n",
       "      <td>Maharastra</td>\n",
       "      <td>2020</td>\n",
       "      <td>1.836159</td>\n",
       "    </tr>\n",
       "  </tbody>\n",
       "</table>\n",
       "</div>"
      ],
      "text/plain": [
       "        State  Year  Avg(avg rainfall)\n",
       "0  Maharastra  2023          16.398610\n",
       "1  Maharastra  2022          21.093920\n",
       "2  Maharastra  2021          15.645612\n",
       "3  Maharastra  2020           1.836159"
      ]
     },
     "execution_count": 682,
     "metadata": {},
     "output_type": "execute_result"
    }
   ],
   "source": [
    "MH_AVGTABLE = {\"State\":['Maharastra','Maharastra','Maharastra','Maharastra'],\"Year\":[2023,2022,2021,2020],\n",
    "            \"Avg(avg rainfall)\":[avg_avgMH2023,avg_avgMH2022,avg_avgMH2021,avg_avgMH2020]}\n",
    "MH_FRAME= pd.DataFrame(MH_AVGTABLE)\n",
    "MH_FRAME"
   ]
  },
  {
   "cell_type": "code",
   "execution_count": 683,
   "id": "30f0f9aa-ae2e-4d83-bc31-5a3c1b6ccbf5",
   "metadata": {
    "tags": []
   },
   "outputs": [
    {
     "data": {
      "text/plain": [
       "2.715752387961003"
      ]
     },
     "execution_count": 683,
     "metadata": {},
     "output_type": "execute_result"
    }
   ],
   "source": [
    "TN2023_avg =Y2023_data.groupby(Y2023_data.State)\n",
    "TN2023_avgNEW = TN2023_avg.get_group(\"Tamil Nadu\")\n",
    "avg_avgTN2023=TN2023_avgNEW.Avg_rainfall.mean()\n",
    "avg_avgTN2023"
   ]
  },
  {
   "cell_type": "code",
   "execution_count": 684,
   "id": "5d6319cf-9947-4452-88ea-fa0a5d56ca80",
   "metadata": {
    "tags": []
   },
   "outputs": [
    {
     "data": {
      "text/plain": [
       "4.992745810333682"
      ]
     },
     "execution_count": 684,
     "metadata": {},
     "output_type": "execute_result"
    }
   ],
   "source": [
    "TN2022_avg= Y2022_data.groupby(Y2022_data.State)\n",
    "TN2022_avgNEW =TN2022_avg.get_group(\"Tamil Nadu\")\n",
    "avg_avgTN2022 =TN2022_avgNEW.Avg_rainfall.mean() \n",
    "avg_avgTN2022"
   ]
  },
  {
   "cell_type": "code",
   "execution_count": 685,
   "id": "da52b8a3-8094-49d0-b0cf-b20e669331de",
   "metadata": {
    "tags": []
   },
   "outputs": [
    {
     "data": {
      "text/plain": [
       "5.392853016646707"
      ]
     },
     "execution_count": 685,
     "metadata": {},
     "output_type": "execute_result"
    }
   ],
   "source": [
    "TN2021_avg = Y2021_data.groupby(Y2021_data.State)\n",
    "TN2021_avgNEW =TN2021_avg.get_group(\"Tamil Nadu\")\n",
    "avg_avgTN2021 = TN2021_avgNEW.Avg_rainfall.mean()\n",
    "avg_avgTN2021"
   ]
  },
  {
   "cell_type": "code",
   "execution_count": 686,
   "id": "1181601c-68ed-4a13-9786-b09ba5c14096",
   "metadata": {
    "tags": []
   },
   "outputs": [
    {
     "data": {
      "text/plain": [
       "1.9082894266800001"
      ]
     },
     "execution_count": 686,
     "metadata": {},
     "output_type": "execute_result"
    }
   ],
   "source": [
    "TN2020_avg = Y2020_data.groupby(Y2020_data.State)\n",
    "TN2020_avgNEW =TN2020_avg.get_group(\"Tamil Nadu\")\n",
    "avg_avgTN2020 = TN2020_avgNEW.Avg_rainfall.mean()\n",
    "avg_avgTN2020"
   ]
  },
  {
   "cell_type": "code",
   "execution_count": 687,
   "id": "09238dd7-ec5c-4d6e-b5e1-e212d282f143",
   "metadata": {
    "tags": []
   },
   "outputs": [
    {
     "data": {
      "text/html": [
       "<div>\n",
       "<style scoped>\n",
       "    .dataframe tbody tr th:only-of-type {\n",
       "        vertical-align: middle;\n",
       "    }\n",
       "\n",
       "    .dataframe tbody tr th {\n",
       "        vertical-align: top;\n",
       "    }\n",
       "\n",
       "    .dataframe thead th {\n",
       "        text-align: right;\n",
       "    }\n",
       "</style>\n",
       "<table border=\"1\" class=\"dataframe\">\n",
       "  <thead>\n",
       "    <tr style=\"text-align: right;\">\n",
       "      <th></th>\n",
       "      <th>State</th>\n",
       "      <th>Year</th>\n",
       "      <th>Avg(Avg Rainfall)</th>\n",
       "    </tr>\n",
       "  </thead>\n",
       "  <tbody>\n",
       "    <tr>\n",
       "      <th>0</th>\n",
       "      <td>Tamil Nadu</td>\n",
       "      <td>2023</td>\n",
       "      <td>2.715752</td>\n",
       "    </tr>\n",
       "    <tr>\n",
       "      <th>1</th>\n",
       "      <td>Tamil Nadu</td>\n",
       "      <td>2022</td>\n",
       "      <td>4.992746</td>\n",
       "    </tr>\n",
       "    <tr>\n",
       "      <th>2</th>\n",
       "      <td>Tamil Nadu</td>\n",
       "      <td>2021</td>\n",
       "      <td>5.392853</td>\n",
       "    </tr>\n",
       "    <tr>\n",
       "      <th>3</th>\n",
       "      <td>Tamil Nadu</td>\n",
       "      <td>2020</td>\n",
       "      <td>1.908289</td>\n",
       "    </tr>\n",
       "  </tbody>\n",
       "</table>\n",
       "</div>"
      ],
      "text/plain": [
       "        State  Year  Avg(Avg Rainfall)\n",
       "0  Tamil Nadu  2023           2.715752\n",
       "1  Tamil Nadu  2022           4.992746\n",
       "2  Tamil Nadu  2021           5.392853\n",
       "3  Tamil Nadu  2020           1.908289"
      ]
     },
     "execution_count": 687,
     "metadata": {},
     "output_type": "execute_result"
    }
   ],
   "source": [
    "TN_AVGTABLE = {\"State\":['Tamil Nadu','Tamil Nadu','Tamil Nadu','Tamil Nadu'], \"Year\":[2023,2022,2021,2020]\n",
    "               ,\"Avg(Avg Rainfall)\":[avg_avgTN2023,avg_avgTN2022,avg_avgTN2021,avg_avgTN2020]}\n",
    "TN_FRAME =pd.DataFrame(TN_AVGTABLE)\n",
    "TN_FRAME"
   ]
  },
  {
   "cell_type": "code",
   "execution_count": 688,
   "id": "8aa8f383-d6d0-4199-a70b-8e48fb5a0162",
   "metadata": {
    "tags": []
   },
   "outputs": [
    {
     "data": {
      "text/plain": [
       "17.329859748996576"
      ]
     },
     "execution_count": 688,
     "metadata": {},
     "output_type": "execute_result"
    }
   ],
   "source": [
    "KL2023_avg = Y2023_data.groupby(Y2023_data.State)\n",
    "KL2023_avgNEW =KL2023_avg.get_group(\"Kerala\")\n",
    "avg_avgKL2023 =KL2023_avgNEW.Avg_rainfall.mean()\n",
    "avg_avgKL2023"
   ]
  },
  {
   "cell_type": "code",
   "execution_count": 689,
   "id": "c3c40aff-3fef-4630-8fa1-a8a53f6a1ab6",
   "metadata": {
    "tags": []
   },
   "outputs": [
    {
     "data": {
      "text/plain": [
       "23.462973739015"
      ]
     },
     "execution_count": 689,
     "metadata": {},
     "output_type": "execute_result"
    }
   ],
   "source": [
    "KL2022_avg = Y2022_data.groupby(Y2022_data.State)\n",
    "KL2022_avgNEW = KL2022_avg.get_group(\"Kerala\")\n",
    "avg_avgKL2022 = KL2022_avgNEW.Avg_rainfall.mean()\n",
    "avg_avgKL2022"
   ]
  },
  {
   "cell_type": "code",
   "execution_count": 690,
   "id": "3b5993f2-b7f9-4f14-85ae-82556573269f",
   "metadata": {
    "tags": []
   },
   "outputs": [
    {
     "data": {
      "text/plain": [
       "17.641905331606974"
      ]
     },
     "execution_count": 690,
     "metadata": {},
     "output_type": "execute_result"
    }
   ],
   "source": [
    "KL2021_avg = Y2021_data.groupby(Y2021_data.State)\n",
    "KL2021_avgNEW =KL2021_avg.get_group(\"Kerala\")\n",
    "avg_avgKL2021 = KL2021_avgNEW.Avg_rainfall.mean()\n",
    "avg_avgKL2021"
   ]
  },
  {
   "cell_type": "code",
   "execution_count": 691,
   "id": "09176e7b-1e82-4ac5-aa25-16d15398bfd6",
   "metadata": {
    "tags": []
   },
   "outputs": [
    {
     "data": {
      "text/plain": [
       "2.4831696894895834"
      ]
     },
     "execution_count": 691,
     "metadata": {},
     "output_type": "execute_result"
    }
   ],
   "source": [
    "KL2020_avg = Y2020_data.groupby(Y2020_data.State)\n",
    "KL2020_avgNEW = KL2020_avg.get_group(\"Kerala\")\n",
    "avg_avgKL2020 = KL2020_avgNEW.Avg_rainfall.mean()\n",
    "avg_avgKL2020"
   ]
  },
  {
   "cell_type": "code",
   "execution_count": 692,
   "id": "60cef210-809d-4df4-9dc8-c73312efe94d",
   "metadata": {
    "tags": []
   },
   "outputs": [
    {
     "data": {
      "text/html": [
       "<div>\n",
       "<style scoped>\n",
       "    .dataframe tbody tr th:only-of-type {\n",
       "        vertical-align: middle;\n",
       "    }\n",
       "\n",
       "    .dataframe tbody tr th {\n",
       "        vertical-align: top;\n",
       "    }\n",
       "\n",
       "    .dataframe thead th {\n",
       "        text-align: right;\n",
       "    }\n",
       "</style>\n",
       "<table border=\"1\" class=\"dataframe\">\n",
       "  <thead>\n",
       "    <tr style=\"text-align: right;\">\n",
       "      <th></th>\n",
       "      <th>State</th>\n",
       "      <th>Year</th>\n",
       "      <th>Avg(avg rain)</th>\n",
       "    </tr>\n",
       "  </thead>\n",
       "  <tbody>\n",
       "    <tr>\n",
       "      <th>0</th>\n",
       "      <td>Kerala</td>\n",
       "      <td>2023</td>\n",
       "      <td>17.329860</td>\n",
       "    </tr>\n",
       "    <tr>\n",
       "      <th>1</th>\n",
       "      <td>Kerala</td>\n",
       "      <td>2022</td>\n",
       "      <td>23.462974</td>\n",
       "    </tr>\n",
       "    <tr>\n",
       "      <th>2</th>\n",
       "      <td>Kerala</td>\n",
       "      <td>2021</td>\n",
       "      <td>17.641905</td>\n",
       "    </tr>\n",
       "    <tr>\n",
       "      <th>3</th>\n",
       "      <td>Kerala</td>\n",
       "      <td>2020</td>\n",
       "      <td>2.483170</td>\n",
       "    </tr>\n",
       "  </tbody>\n",
       "</table>\n",
       "</div>"
      ],
      "text/plain": [
       "    State  Year  Avg(avg rain)\n",
       "0  Kerala  2023      17.329860\n",
       "1  Kerala  2022      23.462974\n",
       "2  Kerala  2021      17.641905\n",
       "3  Kerala  2020       2.483170"
      ]
     },
     "execution_count": 692,
     "metadata": {},
     "output_type": "execute_result"
    }
   ],
   "source": [
    "KL_TABLE={\"State\":[\"Kerala\",\"Kerala\",\"Kerala\",\"Kerala\"],\"Year\":[2023,2022,2021,2020],\n",
    "          \"Avg(avg rain)\":[avg_avgKL2023,avg_avgKL2022,avg_avgKL2021,avg_avgKL2020]}\n",
    "KL_FRAME = pd.DataFrame(KL_TABLE)\n",
    "KL_FRAME"
   ]
  },
  {
   "cell_type": "code",
   "execution_count": 693,
   "id": "64981a9e-b38b-4554-98d3-a3d434910442",
   "metadata": {
    "tags": []
   },
   "outputs": [
    {
     "data": {
      "text/plain": [
       "52.515168849738096"
      ]
     },
     "execution_count": 693,
     "metadata": {},
     "output_type": "execute_result"
    }
   ],
   "source": [
    "GA2023_avg =Y2023_data.groupby(Y2023_data.State)\n",
    "GA2023_avgNEW =GA2023_avg.get_group(\"Goa\")\n",
    "avg_avgGA2023 = GA2023_avgNEW.Avg_rainfall.mean()\n",
    "avg_avgGA2023\n"
   ]
  },
  {
   "cell_type": "code",
   "execution_count": 694,
   "id": "ca4dc4bb-01b0-4b32-9e61-c95e3b3ed30d",
   "metadata": {
    "tags": []
   },
   "outputs": [
    {
     "data": {
      "text/plain": [
       "50.879909776206894"
      ]
     },
     "execution_count": 694,
     "metadata": {},
     "output_type": "execute_result"
    }
   ],
   "source": [
    "GA2022_avg =Y2022_data.groupby(Y2022_data.State)\n",
    "GA2022_avgNEW =GA2022_avg.get_group(\"Goa\")\n",
    "avg_avgGA2022 =GA2022_avgNEW.Avg_rainfall.mean()\n",
    "avg_avgGA2022"
   ]
  },
  {
   "cell_type": "code",
   "execution_count": 695,
   "id": "4e6510fe-0127-4496-9975-c9ad06b62939",
   "metadata": {
    "tags": []
   },
   "outputs": [
    {
     "data": {
      "text/plain": [
       "41.73123277559678"
      ]
     },
     "execution_count": 695,
     "metadata": {},
     "output_type": "execute_result"
    }
   ],
   "source": [
    "GA2021_avg =Y2021_data.groupby(Y2021_data.State)\n",
    "GA2021_avgNEW =GA2021_avg.get_group(\"Goa\")\n",
    "avg_avgGA2021= GA2021_avgNEW.Avg_rainfall.mean()\n",
    "avg_avgGA2021"
   ]
  },
  {
   "cell_type": "code",
   "execution_count": 696,
   "id": "34dec0a7-000e-481b-8f98-09702b0c0725",
   "metadata": {
    "tags": []
   },
   "outputs": [
    {
     "data": {
      "text/plain": [
       "0.6909861388"
      ]
     },
     "execution_count": 696,
     "metadata": {},
     "output_type": "execute_result"
    }
   ],
   "source": [
    "GA2020_avg = Y2020_data.groupby(Y2020_data.State)\n",
    "GA2020_avgNEW= GA2020_avg.get_group(\"Goa\")\n",
    "avg_avgGA2020=GA2020_avgNEW.Avg_rainfall.mean()\n",
    "avg_avgGA2020"
   ]
  },
  {
   "cell_type": "code",
   "execution_count": 697,
   "id": "1cae5b09-64c1-45f1-a517-80bd36404fdf",
   "metadata": {
    "tags": []
   },
   "outputs": [
    {
     "data": {
      "text/html": [
       "<div>\n",
       "<style scoped>\n",
       "    .dataframe tbody tr th:only-of-type {\n",
       "        vertical-align: middle;\n",
       "    }\n",
       "\n",
       "    .dataframe tbody tr th {\n",
       "        vertical-align: top;\n",
       "    }\n",
       "\n",
       "    .dataframe thead th {\n",
       "        text-align: right;\n",
       "    }\n",
       "</style>\n",
       "<table border=\"1\" class=\"dataframe\">\n",
       "  <thead>\n",
       "    <tr style=\"text-align: right;\">\n",
       "      <th></th>\n",
       "      <th>State</th>\n",
       "      <th>Year</th>\n",
       "      <th>AVG(avg rain)</th>\n",
       "    </tr>\n",
       "  </thead>\n",
       "  <tbody>\n",
       "    <tr>\n",
       "      <th>0</th>\n",
       "      <td>Goa</td>\n",
       "      <td>2023</td>\n",
       "      <td>52.515169</td>\n",
       "    </tr>\n",
       "    <tr>\n",
       "      <th>1</th>\n",
       "      <td>Goa</td>\n",
       "      <td>2022</td>\n",
       "      <td>50.879910</td>\n",
       "    </tr>\n",
       "    <tr>\n",
       "      <th>2</th>\n",
       "      <td>Goa</td>\n",
       "      <td>2021</td>\n",
       "      <td>41.731233</td>\n",
       "    </tr>\n",
       "    <tr>\n",
       "      <th>3</th>\n",
       "      <td>Goa</td>\n",
       "      <td>2020</td>\n",
       "      <td>0.690986</td>\n",
       "    </tr>\n",
       "  </tbody>\n",
       "</table>\n",
       "</div>"
      ],
      "text/plain": [
       "  State  Year  AVG(avg rain)\n",
       "0   Goa  2023      52.515169\n",
       "1   Goa  2022      50.879910\n",
       "2   Goa  2021      41.731233\n",
       "3   Goa  2020       0.690986"
      ]
     },
     "execution_count": 697,
     "metadata": {},
     "output_type": "execute_result"
    }
   ],
   "source": [
    "GA_TABLE = {\"State\":['Goa','Goa','Goa','Goa'],\"Year\":[2023,2022,2021,2020],\n",
    "            \"AVG(avg rain)\":[avg_avgGA2023,avg_avgGA2022,avg_avgGA2021,avg_avgGA2020]}\n",
    "\n",
    "GA_FRAME = pd.DataFrame(GA_TABLE)\n",
    "GA_FRAME\n"
   ]
  },
  {
   "cell_type": "code",
   "execution_count": 698,
   "id": "583eb563-26a7-4b09-b54e-2761523a3f48",
   "metadata": {
    "tags": []
   },
   "outputs": [
    {
     "data": {
      "text/html": [
       "<div>\n",
       "<style scoped>\n",
       "    .dataframe tbody tr th:only-of-type {\n",
       "        vertical-align: middle;\n",
       "    }\n",
       "\n",
       "    .dataframe tbody tr th {\n",
       "        vertical-align: top;\n",
       "    }\n",
       "\n",
       "    .dataframe thead th {\n",
       "        text-align: right;\n",
       "    }\n",
       "</style>\n",
       "<table border=\"1\" class=\"dataframe\">\n",
       "  <thead>\n",
       "    <tr style=\"text-align: right;\">\n",
       "      <th></th>\n",
       "      <th>State</th>\n",
       "      <th>Year</th>\n",
       "      <th>Avg(avgRain)</th>\n",
       "    </tr>\n",
       "  </thead>\n",
       "  <tbody>\n",
       "    <tr>\n",
       "      <th>0</th>\n",
       "      <td>A.P</td>\n",
       "      <td>2023</td>\n",
       "      <td>5.128567</td>\n",
       "    </tr>\n",
       "    <tr>\n",
       "      <th>1</th>\n",
       "      <td>A.P</td>\n",
       "      <td>2022</td>\n",
       "      <td>5.987308</td>\n",
       "    </tr>\n",
       "    <tr>\n",
       "      <th>2</th>\n",
       "      <td>A.P</td>\n",
       "      <td>2021</td>\n",
       "      <td>7.244671</td>\n",
       "    </tr>\n",
       "    <tr>\n",
       "      <th>3</th>\n",
       "      <td>A.P</td>\n",
       "      <td>2020</td>\n",
       "      <td>1.767320</td>\n",
       "    </tr>\n",
       "  </tbody>\n",
       "</table>\n",
       "</div>"
      ],
      "text/plain": [
       "  State  Year  Avg(avgRain)\n",
       "0   A.P  2023      5.128567\n",
       "1   A.P  2022      5.987308\n",
       "2   A.P  2021      7.244671\n",
       "3   A.P  2020      1.767320"
      ]
     },
     "execution_count": 698,
     "metadata": {},
     "output_type": "execute_result"
    }
   ],
   "source": [
    "AP_FRAME"
   ]
  },
  {
   "cell_type": "code",
   "execution_count": 699,
   "id": "ffb8c9b2-6062-4558-abbd-b0c2242fd575",
   "metadata": {
    "tags": []
   },
   "outputs": [
    {
     "data": {
      "text/html": [
       "<div>\n",
       "<style scoped>\n",
       "    .dataframe tbody tr th:only-of-type {\n",
       "        vertical-align: middle;\n",
       "    }\n",
       "\n",
       "    .dataframe tbody tr th {\n",
       "        vertical-align: top;\n",
       "    }\n",
       "\n",
       "    .dataframe thead th {\n",
       "        text-align: right;\n",
       "    }\n",
       "</style>\n",
       "<table border=\"1\" class=\"dataframe\">\n",
       "  <thead>\n",
       "    <tr style=\"text-align: right;\">\n",
       "      <th></th>\n",
       "      <th>State</th>\n",
       "      <th>Year</th>\n",
       "      <th>Avg(avg rainfall)</th>\n",
       "    </tr>\n",
       "  </thead>\n",
       "  <tbody>\n",
       "    <tr>\n",
       "      <th>0</th>\n",
       "      <td>Maharastra</td>\n",
       "      <td>2023</td>\n",
       "      <td>16.398610</td>\n",
       "    </tr>\n",
       "    <tr>\n",
       "      <th>1</th>\n",
       "      <td>Maharastra</td>\n",
       "      <td>2022</td>\n",
       "      <td>21.093920</td>\n",
       "    </tr>\n",
       "    <tr>\n",
       "      <th>2</th>\n",
       "      <td>Maharastra</td>\n",
       "      <td>2021</td>\n",
       "      <td>15.645612</td>\n",
       "    </tr>\n",
       "    <tr>\n",
       "      <th>3</th>\n",
       "      <td>Maharastra</td>\n",
       "      <td>2020</td>\n",
       "      <td>1.836159</td>\n",
       "    </tr>\n",
       "  </tbody>\n",
       "</table>\n",
       "</div>"
      ],
      "text/plain": [
       "        State  Year  Avg(avg rainfall)\n",
       "0  Maharastra  2023          16.398610\n",
       "1  Maharastra  2022          21.093920\n",
       "2  Maharastra  2021          15.645612\n",
       "3  Maharastra  2020           1.836159"
      ]
     },
     "execution_count": 699,
     "metadata": {},
     "output_type": "execute_result"
    }
   ],
   "source": [
    "MH_FRAME"
   ]
  },
  {
   "cell_type": "code",
   "execution_count": 700,
   "id": "fecd13dc-e8cc-460f-bc07-836112d50127",
   "metadata": {
    "tags": []
   },
   "outputs": [
    {
     "data": {
      "text/html": [
       "<div>\n",
       "<style scoped>\n",
       "    .dataframe tbody tr th:only-of-type {\n",
       "        vertical-align: middle;\n",
       "    }\n",
       "\n",
       "    .dataframe tbody tr th {\n",
       "        vertical-align: top;\n",
       "    }\n",
       "\n",
       "    .dataframe thead th {\n",
       "        text-align: right;\n",
       "    }\n",
       "</style>\n",
       "<table border=\"1\" class=\"dataframe\">\n",
       "  <thead>\n",
       "    <tr style=\"text-align: right;\">\n",
       "      <th></th>\n",
       "      <th>State</th>\n",
       "      <th>Year</th>\n",
       "      <th>Avg(Avg Rainfall)</th>\n",
       "    </tr>\n",
       "  </thead>\n",
       "  <tbody>\n",
       "    <tr>\n",
       "      <th>0</th>\n",
       "      <td>Tamil Nadu</td>\n",
       "      <td>2023</td>\n",
       "      <td>2.715752</td>\n",
       "    </tr>\n",
       "    <tr>\n",
       "      <th>1</th>\n",
       "      <td>Tamil Nadu</td>\n",
       "      <td>2022</td>\n",
       "      <td>4.992746</td>\n",
       "    </tr>\n",
       "    <tr>\n",
       "      <th>2</th>\n",
       "      <td>Tamil Nadu</td>\n",
       "      <td>2021</td>\n",
       "      <td>5.392853</td>\n",
       "    </tr>\n",
       "    <tr>\n",
       "      <th>3</th>\n",
       "      <td>Tamil Nadu</td>\n",
       "      <td>2020</td>\n",
       "      <td>1.908289</td>\n",
       "    </tr>\n",
       "  </tbody>\n",
       "</table>\n",
       "</div>"
      ],
      "text/plain": [
       "        State  Year  Avg(Avg Rainfall)\n",
       "0  Tamil Nadu  2023           2.715752\n",
       "1  Tamil Nadu  2022           4.992746\n",
       "2  Tamil Nadu  2021           5.392853\n",
       "3  Tamil Nadu  2020           1.908289"
      ]
     },
     "execution_count": 700,
     "metadata": {},
     "output_type": "execute_result"
    }
   ],
   "source": [
    "TN_FRAME"
   ]
  },
  {
   "cell_type": "code",
   "execution_count": 701,
   "id": "d637bd41-c770-477a-93ab-956ed6715936",
   "metadata": {
    "tags": []
   },
   "outputs": [
    {
     "data": {
      "text/html": [
       "<div>\n",
       "<style scoped>\n",
       "    .dataframe tbody tr th:only-of-type {\n",
       "        vertical-align: middle;\n",
       "    }\n",
       "\n",
       "    .dataframe tbody tr th {\n",
       "        vertical-align: top;\n",
       "    }\n",
       "\n",
       "    .dataframe thead th {\n",
       "        text-align: right;\n",
       "    }\n",
       "</style>\n",
       "<table border=\"1\" class=\"dataframe\">\n",
       "  <thead>\n",
       "    <tr style=\"text-align: right;\">\n",
       "      <th></th>\n",
       "      <th>State</th>\n",
       "      <th>Year</th>\n",
       "      <th>Avg(avg rain)</th>\n",
       "    </tr>\n",
       "  </thead>\n",
       "  <tbody>\n",
       "    <tr>\n",
       "      <th>0</th>\n",
       "      <td>Kerala</td>\n",
       "      <td>2023</td>\n",
       "      <td>17.329860</td>\n",
       "    </tr>\n",
       "    <tr>\n",
       "      <th>1</th>\n",
       "      <td>Kerala</td>\n",
       "      <td>2022</td>\n",
       "      <td>23.462974</td>\n",
       "    </tr>\n",
       "    <tr>\n",
       "      <th>2</th>\n",
       "      <td>Kerala</td>\n",
       "      <td>2021</td>\n",
       "      <td>17.641905</td>\n",
       "    </tr>\n",
       "    <tr>\n",
       "      <th>3</th>\n",
       "      <td>Kerala</td>\n",
       "      <td>2020</td>\n",
       "      <td>2.483170</td>\n",
       "    </tr>\n",
       "  </tbody>\n",
       "</table>\n",
       "</div>"
      ],
      "text/plain": [
       "    State  Year  Avg(avg rain)\n",
       "0  Kerala  2023      17.329860\n",
       "1  Kerala  2022      23.462974\n",
       "2  Kerala  2021      17.641905\n",
       "3  Kerala  2020       2.483170"
      ]
     },
     "execution_count": 701,
     "metadata": {},
     "output_type": "execute_result"
    }
   ],
   "source": [
    "KL_FRAME"
   ]
  },
  {
   "cell_type": "code",
   "execution_count": 702,
   "id": "25f0ef22-e26d-495d-ae63-ab9768724138",
   "metadata": {
    "tags": []
   },
   "outputs": [
    {
     "data": {
      "text/html": [
       "<div>\n",
       "<style scoped>\n",
       "    .dataframe tbody tr th:only-of-type {\n",
       "        vertical-align: middle;\n",
       "    }\n",
       "\n",
       "    .dataframe tbody tr th {\n",
       "        vertical-align: top;\n",
       "    }\n",
       "\n",
       "    .dataframe thead th {\n",
       "        text-align: right;\n",
       "    }\n",
       "</style>\n",
       "<table border=\"1\" class=\"dataframe\">\n",
       "  <thead>\n",
       "    <tr style=\"text-align: right;\">\n",
       "      <th></th>\n",
       "      <th>State</th>\n",
       "      <th>Year</th>\n",
       "      <th>AVG(avg rain)</th>\n",
       "    </tr>\n",
       "  </thead>\n",
       "  <tbody>\n",
       "    <tr>\n",
       "      <th>0</th>\n",
       "      <td>Goa</td>\n",
       "      <td>2023</td>\n",
       "      <td>52.515169</td>\n",
       "    </tr>\n",
       "    <tr>\n",
       "      <th>1</th>\n",
       "      <td>Goa</td>\n",
       "      <td>2022</td>\n",
       "      <td>50.879910</td>\n",
       "    </tr>\n",
       "    <tr>\n",
       "      <th>2</th>\n",
       "      <td>Goa</td>\n",
       "      <td>2021</td>\n",
       "      <td>41.731233</td>\n",
       "    </tr>\n",
       "    <tr>\n",
       "      <th>3</th>\n",
       "      <td>Goa</td>\n",
       "      <td>2020</td>\n",
       "      <td>0.690986</td>\n",
       "    </tr>\n",
       "  </tbody>\n",
       "</table>\n",
       "</div>"
      ],
      "text/plain": [
       "  State  Year  AVG(avg rain)\n",
       "0   Goa  2023      52.515169\n",
       "1   Goa  2022      50.879910\n",
       "2   Goa  2021      41.731233\n",
       "3   Goa  2020       0.690986"
      ]
     },
     "execution_count": 702,
     "metadata": {},
     "output_type": "execute_result"
    }
   ],
   "source": [
    "GA_FRAME"
   ]
  },
  {
   "cell_type": "code",
   "execution_count": 703,
   "id": "4cda10f2-5fa0-4e08-8b27-c49a8b0ce753",
   "metadata": {
    "tags": []
   },
   "outputs": [
    {
     "data": {
      "text/plain": [
       "15.768251934792096"
      ]
     },
     "execution_count": 703,
     "metadata": {},
     "output_type": "execute_result"
    }
   ],
   "source": [
    "GJ2023_avg =Y2023_data.groupby(Y2023_data.State)\n",
    "GJ2023_avgNEW=GJ2023_avg.get_group(\"Gujarat\")\n",
    "avg_avgGJ2023 = GJ2023_avgNEW.Avg_rainfall.mean()\n",
    "avg_avgGJ2023"
   ]
  },
  {
   "cell_type": "code",
   "execution_count": 704,
   "id": "f09ab00e-b067-4884-b96b-edac0625f292",
   "metadata": {
    "tags": []
   },
   "outputs": [
    {
     "data": {
      "text/plain": [
       "19.149504430438743"
      ]
     },
     "execution_count": 704,
     "metadata": {},
     "output_type": "execute_result"
    }
   ],
   "source": [
    "GJ2022_avg =Y2022_data.groupby(Y2022_data.State)\n",
    "GJ2022_avgNEW=GJ2022_avg.get_group(\"Gujarat\")\n",
    "avg_avgGJ2022 = GJ2022_avgNEW.Avg_rainfall.mean()\n",
    "avg_avgGJ2022"
   ]
  },
  {
   "cell_type": "code",
   "execution_count": 705,
   "id": "f4413719-7e8a-4185-a332-22d1bf6bee47",
   "metadata": {
    "tags": []
   },
   "outputs": [
    {
     "data": {
      "text/plain": [
       "12.32319968093669"
      ]
     },
     "execution_count": 705,
     "metadata": {},
     "output_type": "execute_result"
    }
   ],
   "source": [
    "GJ2021_avg =Y2021_data.groupby(Y2022_data.State)\n",
    "GJ2021_avgNEW=GJ2021_avg.get_group(\"Gujarat\")\n",
    "avg_avgGJ2021 = GJ2021_avgNEW.Avg_rainfall.mean()\n",
    "avg_avgGJ2021"
   ]
  },
  {
   "cell_type": "code",
   "execution_count": 706,
   "id": "350bd2ba-5d18-4d2f-8712-34a8542e88d8",
   "metadata": {
    "tags": []
   },
   "outputs": [
    {
     "data": {
      "text/plain": [
       "0.8933316659620253"
      ]
     },
     "execution_count": 706,
     "metadata": {},
     "output_type": "execute_result"
    }
   ],
   "source": [
    "GJ2020_avg =Y2020_data.groupby(Y2020_data.State)\n",
    "GJ2020_avgNEW=GJ2020_avg.get_group(\"Gujarat\")\n",
    "avg_avgGJ2020 = GJ2020_avgNEW.Avg_rainfall.mean()\n",
    "avg_avgGJ2020"
   ]
  },
  {
   "cell_type": "code",
   "execution_count": 707,
   "id": "87a514fc-e8ab-4677-98db-f1b7eb7eade8",
   "metadata": {
    "tags": []
   },
   "outputs": [
    {
     "data": {
      "text/html": [
       "<div>\n",
       "<style scoped>\n",
       "    .dataframe tbody tr th:only-of-type {\n",
       "        vertical-align: middle;\n",
       "    }\n",
       "\n",
       "    .dataframe tbody tr th {\n",
       "        vertical-align: top;\n",
       "    }\n",
       "\n",
       "    .dataframe thead th {\n",
       "        text-align: right;\n",
       "    }\n",
       "</style>\n",
       "<table border=\"1\" class=\"dataframe\">\n",
       "  <thead>\n",
       "    <tr style=\"text-align: right;\">\n",
       "      <th></th>\n",
       "      <th>State</th>\n",
       "      <th>Year</th>\n",
       "      <th>Avg(avg rain)</th>\n",
       "    </tr>\n",
       "  </thead>\n",
       "  <tbody>\n",
       "    <tr>\n",
       "      <th>0</th>\n",
       "      <td>Gujarat</td>\n",
       "      <td>2023</td>\n",
       "      <td>15.768252</td>\n",
       "    </tr>\n",
       "    <tr>\n",
       "      <th>1</th>\n",
       "      <td>Gujarat</td>\n",
       "      <td>2022</td>\n",
       "      <td>19.149504</td>\n",
       "    </tr>\n",
       "    <tr>\n",
       "      <th>2</th>\n",
       "      <td>Gujarat</td>\n",
       "      <td>2021</td>\n",
       "      <td>12.323200</td>\n",
       "    </tr>\n",
       "    <tr>\n",
       "      <th>3</th>\n",
       "      <td>Gujarat</td>\n",
       "      <td>2020</td>\n",
       "      <td>0.893332</td>\n",
       "    </tr>\n",
       "  </tbody>\n",
       "</table>\n",
       "</div>"
      ],
      "text/plain": [
       "     State  Year  Avg(avg rain)\n",
       "0  Gujarat  2023      15.768252\n",
       "1  Gujarat  2022      19.149504\n",
       "2  Gujarat  2021      12.323200\n",
       "3  Gujarat  2020       0.893332"
      ]
     },
     "execution_count": 707,
     "metadata": {},
     "output_type": "execute_result"
    }
   ],
   "source": [
    "GJ_TABLE={\"State\":['Gujarat','Gujarat','Gujarat','Gujarat'],'Year':[2023,2022,2021,2020]\n",
    "          ,'Avg(avg rain)':[avg_avgGJ2023,avg_avgGJ2022,avg_avgGJ2021,avg_avgGJ2020]}\n",
    "GJ_FRAME = pd.DataFrame(GJ_TABLE)\n",
    "GJ_FRAME"
   ]
  },
  {
   "cell_type": "code",
   "execution_count": 708,
   "id": "2dc328a1-954b-4d4a-9f96-6b89f7be1386",
   "metadata": {
    "tags": []
   },
   "outputs": [
    {
     "data": {
      "text/html": [
       "<div>\n",
       "<style scoped>\n",
       "    .dataframe tbody tr th:only-of-type {\n",
       "        vertical-align: middle;\n",
       "    }\n",
       "\n",
       "    .dataframe tbody tr th {\n",
       "        vertical-align: top;\n",
       "    }\n",
       "\n",
       "    .dataframe thead th {\n",
       "        text-align: right;\n",
       "    }\n",
       "</style>\n",
       "<table border=\"1\" class=\"dataframe\">\n",
       "  <thead>\n",
       "    <tr style=\"text-align: right;\">\n",
       "      <th></th>\n",
       "      <th>State</th>\n",
       "      <th>Year</th>\n",
       "      <th>Avg(avgRain)</th>\n",
       "    </tr>\n",
       "  </thead>\n",
       "  <tbody>\n",
       "    <tr>\n",
       "      <th>0</th>\n",
       "      <td>A.P</td>\n",
       "      <td>2023</td>\n",
       "      <td>5.128567</td>\n",
       "    </tr>\n",
       "    <tr>\n",
       "      <th>1</th>\n",
       "      <td>A.P</td>\n",
       "      <td>2022</td>\n",
       "      <td>5.987308</td>\n",
       "    </tr>\n",
       "    <tr>\n",
       "      <th>2</th>\n",
       "      <td>A.P</td>\n",
       "      <td>2021</td>\n",
       "      <td>7.244671</td>\n",
       "    </tr>\n",
       "    <tr>\n",
       "      <th>3</th>\n",
       "      <td>A.P</td>\n",
       "      <td>2020</td>\n",
       "      <td>1.767320</td>\n",
       "    </tr>\n",
       "  </tbody>\n",
       "</table>\n",
       "</div>"
      ],
      "text/plain": [
       "  State  Year  Avg(avgRain)\n",
       "0   A.P  2023      5.128567\n",
       "1   A.P  2022      5.987308\n",
       "2   A.P  2021      7.244671\n",
       "3   A.P  2020      1.767320"
      ]
     },
     "execution_count": 708,
     "metadata": {},
     "output_type": "execute_result"
    }
   ],
   "source": [
    "AP_FRAME"
   ]
  },
  {
   "cell_type": "code",
   "execution_count": 709,
   "id": "dd70607f-2706-4437-a1b9-3de91fea55b9",
   "metadata": {
    "tags": []
   },
   "outputs": [
    {
     "data": {
      "text/html": [
       "<div>\n",
       "<style scoped>\n",
       "    .dataframe tbody tr th:only-of-type {\n",
       "        vertical-align: middle;\n",
       "    }\n",
       "\n",
       "    .dataframe tbody tr th {\n",
       "        vertical-align: top;\n",
       "    }\n",
       "\n",
       "    .dataframe thead th {\n",
       "        text-align: right;\n",
       "    }\n",
       "</style>\n",
       "<table border=\"1\" class=\"dataframe\">\n",
       "  <thead>\n",
       "    <tr style=\"text-align: right;\">\n",
       "      <th></th>\n",
       "      <th>State</th>\n",
       "      <th>Year</th>\n",
       "      <th>Avg(avg rainfall)</th>\n",
       "    </tr>\n",
       "  </thead>\n",
       "  <tbody>\n",
       "    <tr>\n",
       "      <th>0</th>\n",
       "      <td>Maharastra</td>\n",
       "      <td>2023</td>\n",
       "      <td>16.398610</td>\n",
       "    </tr>\n",
       "    <tr>\n",
       "      <th>1</th>\n",
       "      <td>Maharastra</td>\n",
       "      <td>2022</td>\n",
       "      <td>21.093920</td>\n",
       "    </tr>\n",
       "    <tr>\n",
       "      <th>2</th>\n",
       "      <td>Maharastra</td>\n",
       "      <td>2021</td>\n",
       "      <td>15.645612</td>\n",
       "    </tr>\n",
       "    <tr>\n",
       "      <th>3</th>\n",
       "      <td>Maharastra</td>\n",
       "      <td>2020</td>\n",
       "      <td>1.836159</td>\n",
       "    </tr>\n",
       "  </tbody>\n",
       "</table>\n",
       "</div>"
      ],
      "text/plain": [
       "        State  Year  Avg(avg rainfall)\n",
       "0  Maharastra  2023          16.398610\n",
       "1  Maharastra  2022          21.093920\n",
       "2  Maharastra  2021          15.645612\n",
       "3  Maharastra  2020           1.836159"
      ]
     },
     "execution_count": 709,
     "metadata": {},
     "output_type": "execute_result"
    }
   ],
   "source": [
    "MH_FRAME"
   ]
  },
  {
   "cell_type": "code",
   "execution_count": 710,
   "id": "c4fc9389-c211-422a-a07e-e46bdeecf2e9",
   "metadata": {
    "tags": []
   },
   "outputs": [
    {
     "data": {
      "text/html": [
       "<div>\n",
       "<style scoped>\n",
       "    .dataframe tbody tr th:only-of-type {\n",
       "        vertical-align: middle;\n",
       "    }\n",
       "\n",
       "    .dataframe tbody tr th {\n",
       "        vertical-align: top;\n",
       "    }\n",
       "\n",
       "    .dataframe thead th {\n",
       "        text-align: right;\n",
       "    }\n",
       "</style>\n",
       "<table border=\"1\" class=\"dataframe\">\n",
       "  <thead>\n",
       "    <tr style=\"text-align: right;\">\n",
       "      <th></th>\n",
       "      <th>State</th>\n",
       "      <th>Year</th>\n",
       "      <th>Avg(Avg Rainfall)</th>\n",
       "    </tr>\n",
       "  </thead>\n",
       "  <tbody>\n",
       "    <tr>\n",
       "      <th>0</th>\n",
       "      <td>Tamil Nadu</td>\n",
       "      <td>2023</td>\n",
       "      <td>2.715752</td>\n",
       "    </tr>\n",
       "    <tr>\n",
       "      <th>1</th>\n",
       "      <td>Tamil Nadu</td>\n",
       "      <td>2022</td>\n",
       "      <td>4.992746</td>\n",
       "    </tr>\n",
       "    <tr>\n",
       "      <th>2</th>\n",
       "      <td>Tamil Nadu</td>\n",
       "      <td>2021</td>\n",
       "      <td>5.392853</td>\n",
       "    </tr>\n",
       "    <tr>\n",
       "      <th>3</th>\n",
       "      <td>Tamil Nadu</td>\n",
       "      <td>2020</td>\n",
       "      <td>1.908289</td>\n",
       "    </tr>\n",
       "  </tbody>\n",
       "</table>\n",
       "</div>"
      ],
      "text/plain": [
       "        State  Year  Avg(Avg Rainfall)\n",
       "0  Tamil Nadu  2023           2.715752\n",
       "1  Tamil Nadu  2022           4.992746\n",
       "2  Tamil Nadu  2021           5.392853\n",
       "3  Tamil Nadu  2020           1.908289"
      ]
     },
     "execution_count": 710,
     "metadata": {},
     "output_type": "execute_result"
    }
   ],
   "source": [
    "TN_FRAME"
   ]
  },
  {
   "cell_type": "code",
   "execution_count": 711,
   "id": "68ef10fb-9d29-4c51-8e2b-40369f7e53a9",
   "metadata": {
    "tags": []
   },
   "outputs": [
    {
     "data": {
      "text/html": [
       "<div>\n",
       "<style scoped>\n",
       "    .dataframe tbody tr th:only-of-type {\n",
       "        vertical-align: middle;\n",
       "    }\n",
       "\n",
       "    .dataframe tbody tr th {\n",
       "        vertical-align: top;\n",
       "    }\n",
       "\n",
       "    .dataframe thead th {\n",
       "        text-align: right;\n",
       "    }\n",
       "</style>\n",
       "<table border=\"1\" class=\"dataframe\">\n",
       "  <thead>\n",
       "    <tr style=\"text-align: right;\">\n",
       "      <th></th>\n",
       "      <th>State</th>\n",
       "      <th>Year</th>\n",
       "      <th>Avg(avg rain)</th>\n",
       "    </tr>\n",
       "  </thead>\n",
       "  <tbody>\n",
       "    <tr>\n",
       "      <th>0</th>\n",
       "      <td>Kerala</td>\n",
       "      <td>2023</td>\n",
       "      <td>17.329860</td>\n",
       "    </tr>\n",
       "    <tr>\n",
       "      <th>1</th>\n",
       "      <td>Kerala</td>\n",
       "      <td>2022</td>\n",
       "      <td>23.462974</td>\n",
       "    </tr>\n",
       "    <tr>\n",
       "      <th>2</th>\n",
       "      <td>Kerala</td>\n",
       "      <td>2021</td>\n",
       "      <td>17.641905</td>\n",
       "    </tr>\n",
       "    <tr>\n",
       "      <th>3</th>\n",
       "      <td>Kerala</td>\n",
       "      <td>2020</td>\n",
       "      <td>2.483170</td>\n",
       "    </tr>\n",
       "  </tbody>\n",
       "</table>\n",
       "</div>"
      ],
      "text/plain": [
       "    State  Year  Avg(avg rain)\n",
       "0  Kerala  2023      17.329860\n",
       "1  Kerala  2022      23.462974\n",
       "2  Kerala  2021      17.641905\n",
       "3  Kerala  2020       2.483170"
      ]
     },
     "execution_count": 711,
     "metadata": {},
     "output_type": "execute_result"
    }
   ],
   "source": [
    "KL_FRAME"
   ]
  },
  {
   "cell_type": "code",
   "execution_count": 712,
   "id": "f49eaadb-a0a2-4522-bb51-67c18113a268",
   "metadata": {
    "tags": []
   },
   "outputs": [
    {
     "data": {
      "text/html": [
       "<div>\n",
       "<style scoped>\n",
       "    .dataframe tbody tr th:only-of-type {\n",
       "        vertical-align: middle;\n",
       "    }\n",
       "\n",
       "    .dataframe tbody tr th {\n",
       "        vertical-align: top;\n",
       "    }\n",
       "\n",
       "    .dataframe thead th {\n",
       "        text-align: right;\n",
       "    }\n",
       "</style>\n",
       "<table border=\"1\" class=\"dataframe\">\n",
       "  <thead>\n",
       "    <tr style=\"text-align: right;\">\n",
       "      <th></th>\n",
       "      <th>State</th>\n",
       "      <th>Year</th>\n",
       "      <th>AVG(avg rain)</th>\n",
       "    </tr>\n",
       "  </thead>\n",
       "  <tbody>\n",
       "    <tr>\n",
       "      <th>0</th>\n",
       "      <td>Goa</td>\n",
       "      <td>2023</td>\n",
       "      <td>52.515169</td>\n",
       "    </tr>\n",
       "    <tr>\n",
       "      <th>1</th>\n",
       "      <td>Goa</td>\n",
       "      <td>2022</td>\n",
       "      <td>50.879910</td>\n",
       "    </tr>\n",
       "    <tr>\n",
       "      <th>2</th>\n",
       "      <td>Goa</td>\n",
       "      <td>2021</td>\n",
       "      <td>41.731233</td>\n",
       "    </tr>\n",
       "    <tr>\n",
       "      <th>3</th>\n",
       "      <td>Goa</td>\n",
       "      <td>2020</td>\n",
       "      <td>0.690986</td>\n",
       "    </tr>\n",
       "  </tbody>\n",
       "</table>\n",
       "</div>"
      ],
      "text/plain": [
       "  State  Year  AVG(avg rain)\n",
       "0   Goa  2023      52.515169\n",
       "1   Goa  2022      50.879910\n",
       "2   Goa  2021      41.731233\n",
       "3   Goa  2020       0.690986"
      ]
     },
     "execution_count": 712,
     "metadata": {},
     "output_type": "execute_result"
    }
   ],
   "source": [
    "GA_FRAME"
   ]
  },
  {
   "cell_type": "code",
   "execution_count": 713,
   "id": "f36103f4-289b-4d08-a92e-ed223b0a501d",
   "metadata": {
    "tags": []
   },
   "outputs": [
    {
     "data": {
      "text/html": [
       "<div>\n",
       "<style scoped>\n",
       "    .dataframe tbody tr th:only-of-type {\n",
       "        vertical-align: middle;\n",
       "    }\n",
       "\n",
       "    .dataframe tbody tr th {\n",
       "        vertical-align: top;\n",
       "    }\n",
       "\n",
       "    .dataframe thead th {\n",
       "        text-align: right;\n",
       "    }\n",
       "</style>\n",
       "<table border=\"1\" class=\"dataframe\">\n",
       "  <thead>\n",
       "    <tr style=\"text-align: right;\">\n",
       "      <th></th>\n",
       "      <th>State</th>\n",
       "      <th>Year</th>\n",
       "      <th>Avg(avg rain)</th>\n",
       "    </tr>\n",
       "  </thead>\n",
       "  <tbody>\n",
       "    <tr>\n",
       "      <th>0</th>\n",
       "      <td>Gujarat</td>\n",
       "      <td>2023</td>\n",
       "      <td>15.768252</td>\n",
       "    </tr>\n",
       "    <tr>\n",
       "      <th>1</th>\n",
       "      <td>Gujarat</td>\n",
       "      <td>2022</td>\n",
       "      <td>19.149504</td>\n",
       "    </tr>\n",
       "    <tr>\n",
       "      <th>2</th>\n",
       "      <td>Gujarat</td>\n",
       "      <td>2021</td>\n",
       "      <td>12.323200</td>\n",
       "    </tr>\n",
       "    <tr>\n",
       "      <th>3</th>\n",
       "      <td>Gujarat</td>\n",
       "      <td>2020</td>\n",
       "      <td>0.893332</td>\n",
       "    </tr>\n",
       "  </tbody>\n",
       "</table>\n",
       "</div>"
      ],
      "text/plain": [
       "     State  Year  Avg(avg rain)\n",
       "0  Gujarat  2023      15.768252\n",
       "1  Gujarat  2022      19.149504\n",
       "2  Gujarat  2021      12.323200\n",
       "3  Gujarat  2020       0.893332"
      ]
     },
     "execution_count": 713,
     "metadata": {},
     "output_type": "execute_result"
    }
   ],
   "source": [
    "GJ_FRAME"
   ]
  },
  {
   "cell_type": "code",
   "execution_count": 714,
   "id": "93c02b33-447b-48b8-a40b-1a21f9d9e514",
   "metadata": {
    "tags": []
   },
   "outputs": [
    {
     "data": {
      "text/plain": [
       "1400.098806791"
      ]
     },
     "execution_count": 714,
     "metadata": {},
     "output_type": "execute_result"
    }
   ],
   "source": [
    "AP2023_total =Y2023_data.groupby(Y2023_data.State)\n",
    "AP2023_avgNEW = AP2023_total.get_group(\"Andhra Pradesh\")\n",
    "total_avgAP2023=AP2023_avgNEW.Avg_rainfall.sum()\n",
    "total_avgAP2023"
   ]
  },
  {
   "cell_type": "code",
   "execution_count": 715,
   "id": "ec8be9e2-180d-4357-b28c-2b9caa00efb0",
   "metadata": {
    "tags": []
   },
   "outputs": [
    {
     "data": {
      "text/plain": [
       "2210.3776388660003"
      ]
     },
     "execution_count": 715,
     "metadata": {},
     "output_type": "execute_result"
    }
   ],
   "source": [
    "AP2022_total =Y2022_data.groupby(Y2022_data.State)\n",
    "AP2022_avgNEW = AP2022_total.get_group(\"Andhra Pradesh\")\n",
    "total_avgAP2022=AP2022_avgNEW.Avg_rainfall.sum()\n",
    "total_avgAP2022"
   ]
  },
  {
   "cell_type": "code",
   "execution_count": 716,
   "id": "600e4f90-9ef8-470a-b5b6-befee312d956",
   "metadata": {
    "tags": []
   },
   "outputs": [
    {
     "data": {
      "text/plain": [
       "2738.4855886160003"
      ]
     },
     "execution_count": 716,
     "metadata": {},
     "output_type": "execute_result"
    }
   ],
   "source": [
    "AP2021_total =Y2021_data.groupby(Y2021_data.State)\n",
    "AP2021_avgNEW = AP2021_total.get_group(\"Andhra Pradesh\")\n",
    "total_avgAP2021=AP2021_avgNEW.Avg_rainfall.sum()\n",
    "total_avgAP2021"
   ]
  },
  {
   "cell_type": "code",
   "execution_count": 717,
   "id": "c89e2c8b-7a3d-413a-87d3-17bbd2d7169e",
   "metadata": {
    "tags": []
   },
   "outputs": [
    {
     "data": {
      "text/plain": [
       "270.39996431000003"
      ]
     },
     "execution_count": 717,
     "metadata": {},
     "output_type": "execute_result"
    }
   ],
   "source": [
    "AP2020_total =Y2020_data.groupby(Y2020_data.State)\n",
    "AP2020_avgNEW = AP2020_total.get_group(\"Andhra Pradesh\")\n",
    "total_avgAP2020=AP2020_avgNEW.Avg_rainfall.sum()\n",
    "total_avgAP2020"
   ]
  },
  {
   "cell_type": "code",
   "execution_count": 718,
   "id": "92ffd294-22a8-4728-9e01-cc01f8d6c428",
   "metadata": {
    "tags": []
   },
   "outputs": [
    {
     "data": {
      "text/html": [
       "<div>\n",
       "<style scoped>\n",
       "    .dataframe tbody tr th:only-of-type {\n",
       "        vertical-align: middle;\n",
       "    }\n",
       "\n",
       "    .dataframe tbody tr th {\n",
       "        vertical-align: top;\n",
       "    }\n",
       "\n",
       "    .dataframe thead th {\n",
       "        text-align: right;\n",
       "    }\n",
       "</style>\n",
       "<table border=\"1\" class=\"dataframe\">\n",
       "  <thead>\n",
       "    <tr style=\"text-align: right;\">\n",
       "      <th></th>\n",
       "      <th>State</th>\n",
       "      <th>Year</th>\n",
       "      <th>Total avg rain</th>\n",
       "    </tr>\n",
       "  </thead>\n",
       "  <tbody>\n",
       "    <tr>\n",
       "      <th>0</th>\n",
       "      <td>AP</td>\n",
       "      <td>2023</td>\n",
       "      <td>1400.098807</td>\n",
       "    </tr>\n",
       "    <tr>\n",
       "      <th>1</th>\n",
       "      <td>AP</td>\n",
       "      <td>2022</td>\n",
       "      <td>2210.377639</td>\n",
       "    </tr>\n",
       "    <tr>\n",
       "      <th>2</th>\n",
       "      <td>AP</td>\n",
       "      <td>2021</td>\n",
       "      <td>2738.485589</td>\n",
       "    </tr>\n",
       "    <tr>\n",
       "      <th>3</th>\n",
       "      <td>AP</td>\n",
       "      <td>2020</td>\n",
       "      <td>270.399964</td>\n",
       "    </tr>\n",
       "  </tbody>\n",
       "</table>\n",
       "</div>"
      ],
      "text/plain": [
       "  State  Year  Total avg rain\n",
       "0    AP  2023     1400.098807\n",
       "1    AP  2022     2210.377639\n",
       "2    AP  2021     2738.485589\n",
       "3    AP  2020      270.399964"
      ]
     },
     "execution_count": 718,
     "metadata": {},
     "output_type": "execute_result"
    }
   ],
   "source": [
    "AP_TTABLE={\"State\":[\"AP\",\"AP\",\"AP\",\"AP\"],\"Year\":[2023,2022,2021,2020]\n",
    "           ,\"Total avg rain\":[total_avgAP2023,total_avgAP2022,total_avgAP2021,total_avgAP2020]}\n",
    "AP_TFRAME= pd.DataFrame(AP_TTABLE)\n",
    "AP_TFRAME"
   ]
  },
  {
   "cell_type": "code",
   "execution_count": 719,
   "id": "19b7efee-d781-4d67-9d7d-1690f9bd5e0c",
   "metadata": {
    "tags": []
   },
   "outputs": [
    {
     "data": {
      "text/plain": [
       "12397.34880756"
      ]
     },
     "execution_count": 719,
     "metadata": {},
     "output_type": "execute_result"
    }
   ],
   "source": [
    "MH2023_total =Y2023_data.groupby(Y2023_data.State)\n",
    "MH2023_avgNEW = MH2023_total.get_group(\"Maharashtra\")\n",
    "total_avgMH2023=MH2023_avgNEW.Avg_rainfall.sum()\n",
    "total_avgMH2023"
   ]
  },
  {
   "cell_type": "code",
   "execution_count": 720,
   "id": "a572a6e2-97fb-42ef-b3e7-3a5efa5e9f85",
   "metadata": {
    "tags": []
   },
   "outputs": [
    {
     "data": {
      "text/plain": [
       "21979.864357467"
      ]
     },
     "execution_count": 720,
     "metadata": {},
     "output_type": "execute_result"
    }
   ],
   "source": [
    "MH2022_total =Y2022_data.groupby(Y2022_data.State)\n",
    "MH2022_avgNEW = MH2022_total.get_group(\"Maharashtra\")\n",
    "total_avgMH2022=MH2022_avgNEW.Avg_rainfall.sum()\n",
    "total_avgMH2022"
   ]
  },
  {
   "cell_type": "code",
   "execution_count": 721,
   "id": "8ad5f2e8-1080-4019-9b6a-4c81e9c1754c",
   "metadata": {
    "tags": []
   },
   "outputs": [
    {
     "data": {
      "text/plain": [
       "16740.805297153"
      ]
     },
     "execution_count": 721,
     "metadata": {},
     "output_type": "execute_result"
    }
   ],
   "source": [
    "MH2021_total =Y2021_data.groupby(Y2021_data.State)\n",
    "MH2021_avgNEW = MH2021_total.get_group(\"Maharashtra\")\n",
    "total_avgMH2021=MH2021_avgNEW.Avg_rainfall.sum()\n",
    "total_avgMH2021"
   ]
  },
  {
   "cell_type": "code",
   "execution_count": 722,
   "id": "3eb7aefc-11c4-4dfd-9d12-81063ae3f96b",
   "metadata": {
    "tags": []
   },
   "outputs": [
    {
     "data": {
      "text/plain": [
       "758.3336710679998"
      ]
     },
     "execution_count": 722,
     "metadata": {},
     "output_type": "execute_result"
    }
   ],
   "source": [
    "MH2020_total =Y2020_data.groupby(Y2020_data.State)\n",
    "MH2020_avgNEW = MH2020_total.get_group(\"Maharashtra\")\n",
    "total_avgMH2020=MH2020_avgNEW.Avg_rainfall.sum()\n",
    "total_avgMH2020"
   ]
  },
  {
   "cell_type": "code",
   "execution_count": 723,
   "id": "8c1d77ab-03d2-4276-a102-680a1c8477d9",
   "metadata": {
    "tags": []
   },
   "outputs": [
    {
     "data": {
      "text/html": [
       "<div>\n",
       "<style scoped>\n",
       "    .dataframe tbody tr th:only-of-type {\n",
       "        vertical-align: middle;\n",
       "    }\n",
       "\n",
       "    .dataframe tbody tr th {\n",
       "        vertical-align: top;\n",
       "    }\n",
       "\n",
       "    .dataframe thead th {\n",
       "        text-align: right;\n",
       "    }\n",
       "</style>\n",
       "<table border=\"1\" class=\"dataframe\">\n",
       "  <thead>\n",
       "    <tr style=\"text-align: right;\">\n",
       "      <th></th>\n",
       "      <th>State</th>\n",
       "      <th>Year</th>\n",
       "      <th>Total(avg rain)</th>\n",
       "    </tr>\n",
       "  </thead>\n",
       "  <tbody>\n",
       "    <tr>\n",
       "      <th>0</th>\n",
       "      <td>Maharastra</td>\n",
       "      <td>2023</td>\n",
       "      <td>12397.348808</td>\n",
       "    </tr>\n",
       "    <tr>\n",
       "      <th>1</th>\n",
       "      <td>Maharastra</td>\n",
       "      <td>2022</td>\n",
       "      <td>21979.864357</td>\n",
       "    </tr>\n",
       "    <tr>\n",
       "      <th>2</th>\n",
       "      <td>Maharastra</td>\n",
       "      <td>2021</td>\n",
       "      <td>16740.805297</td>\n",
       "    </tr>\n",
       "    <tr>\n",
       "      <th>3</th>\n",
       "      <td>Maharastra</td>\n",
       "      <td>2020</td>\n",
       "      <td>758.333671</td>\n",
       "    </tr>\n",
       "  </tbody>\n",
       "</table>\n",
       "</div>"
      ],
      "text/plain": [
       "        State  Year  Total(avg rain)\n",
       "0  Maharastra  2023     12397.348808\n",
       "1  Maharastra  2022     21979.864357\n",
       "2  Maharastra  2021     16740.805297\n",
       "3  Maharastra  2020       758.333671"
      ]
     },
     "execution_count": 723,
     "metadata": {},
     "output_type": "execute_result"
    }
   ],
   "source": [
    "MH_TTABLE= {\"State\":[\"Maharastra\",\"Maharastra\",\"Maharastra\",\"Maharastra\"],\n",
    "            \"Year\":[2023,2022,2021,2020],\n",
    "            \"Total(avg rain)\":[total_avgMH2023,total_avgMH2022,total_avgMH2021,total_avgMH2020]}\n",
    "MH_TFRAME = pd.DataFrame(MH_TTABLE)\n",
    "MH_TFRAME"
   ]
  },
  {
   "cell_type": "code",
   "execution_count": 724,
   "id": "d06c0d5c-bd1e-4a5b-a77f-9768516fbc1d",
   "metadata": {
    "tags": []
   },
   "outputs": [
    {
     "data": {
      "text/plain": [
       "1949.910214556"
      ]
     },
     "execution_count": 724,
     "metadata": {},
     "output_type": "execute_result"
    }
   ],
   "source": [
    "TN2023_total =Y2023_data.groupby(Y2023_data.State)\n",
    "TN2023_avgNEW = TN2023_total.get_group(\"Tamil Nadu\")\n",
    "total_avgTN2023=TN2023_avgNEW.Avg_rainfall.sum()\n",
    "total_avgTN2023"
   ]
  },
  {
   "cell_type": "code",
   "execution_count": 725,
   "id": "fd87c184-c762-48a7-a3ef-404b0e165598",
   "metadata": {
    "tags": []
   },
   "outputs": [
    {
     "data": {
      "text/plain": [
       "4298.7541426973"
      ]
     },
     "execution_count": 725,
     "metadata": {},
     "output_type": "execute_result"
    }
   ],
   "source": [
    "TN2022_total =Y2022_data.groupby(Y2022_data.State)\n",
    "TN2022_avgNEW = TN2022_total.get_group(\"Tamil Nadu\")\n",
    "total_avgTN2022=TN2022_avgNEW.Avg_rainfall.sum()\n",
    "total_avgTN2022"
   ]
  },
  {
   "cell_type": "code",
   "execution_count": 726,
   "id": "6de5a92d-796b-47aa-bfc8-2a76e29fc503",
   "metadata": {
    "tags": []
   },
   "outputs": [
    {
     "data": {
      "text/plain": [
       "4503.0322689"
      ]
     },
     "execution_count": 726,
     "metadata": {},
     "output_type": "execute_result"
    }
   ],
   "source": [
    "TN2021_total =Y2021_data.groupby(Y2021_data.State)\n",
    "TN2021_avgNEW = TN2021_total.get_group(\"Tamil Nadu\")\n",
    "total_avgTN2021=TN2021_avgNEW.Avg_rainfall.sum()\n",
    "total_avgTN2021"
   ]
  },
  {
   "cell_type": "code",
   "execution_count": 727,
   "id": "fa81f988-f3f5-499f-99f9-ff610dcbadcd",
   "metadata": {
    "tags": []
   },
   "outputs": [
    {
     "data": {
      "text/plain": [
       "286.243414002"
      ]
     },
     "execution_count": 727,
     "metadata": {},
     "output_type": "execute_result"
    }
   ],
   "source": [
    "TN2020_total =Y2020_data.groupby(Y2020_data.State)\n",
    "TN2020_avgNEW = TN2020_total.get_group(\"Tamil Nadu\")\n",
    "total_avgTN2020=TN2020_avgNEW.Avg_rainfall.sum()\n",
    "total_avgTN2020"
   ]
  },
  {
   "cell_type": "code",
   "execution_count": 728,
   "id": "f7da5304-3a50-476a-bb5f-3d34adfdcad0",
   "metadata": {
    "tags": []
   },
   "outputs": [
    {
     "data": {
      "text/html": [
       "<div>\n",
       "<style scoped>\n",
       "    .dataframe tbody tr th:only-of-type {\n",
       "        vertical-align: middle;\n",
       "    }\n",
       "\n",
       "    .dataframe tbody tr th {\n",
       "        vertical-align: top;\n",
       "    }\n",
       "\n",
       "    .dataframe thead th {\n",
       "        text-align: right;\n",
       "    }\n",
       "</style>\n",
       "<table border=\"1\" class=\"dataframe\">\n",
       "  <thead>\n",
       "    <tr style=\"text-align: right;\">\n",
       "      <th></th>\n",
       "      <th>State</th>\n",
       "      <th>Year</th>\n",
       "      <th>Total(avg rain)</th>\n",
       "    </tr>\n",
       "  </thead>\n",
       "  <tbody>\n",
       "    <tr>\n",
       "      <th>0</th>\n",
       "      <td>Tamil Nadu</td>\n",
       "      <td>2023</td>\n",
       "      <td>1949.910215</td>\n",
       "    </tr>\n",
       "    <tr>\n",
       "      <th>1</th>\n",
       "      <td>Tamil Nadu</td>\n",
       "      <td>2022</td>\n",
       "      <td>4298.754143</td>\n",
       "    </tr>\n",
       "    <tr>\n",
       "      <th>2</th>\n",
       "      <td>Tamil Nadu</td>\n",
       "      <td>2021</td>\n",
       "      <td>4503.032269</td>\n",
       "    </tr>\n",
       "    <tr>\n",
       "      <th>3</th>\n",
       "      <td>Tamil Nadu</td>\n",
       "      <td>2020</td>\n",
       "      <td>286.243414</td>\n",
       "    </tr>\n",
       "  </tbody>\n",
       "</table>\n",
       "</div>"
      ],
      "text/plain": [
       "        State  Year  Total(avg rain)\n",
       "0  Tamil Nadu  2023      1949.910215\n",
       "1  Tamil Nadu  2022      4298.754143\n",
       "2  Tamil Nadu  2021      4503.032269\n",
       "3  Tamil Nadu  2020       286.243414"
      ]
     },
     "execution_count": 728,
     "metadata": {},
     "output_type": "execute_result"
    }
   ],
   "source": [
    "TN_TTABLE= {\"State\":[\"Tamil Nadu\",\"Tamil Nadu\",\"Tamil Nadu\",\"Tamil Nadu\"],\n",
    "            \"Year\": [2023,2022,2021,2020],\n",
    "            \"Total(avg rain)\":[total_avgTN2023,total_avgTN2022,total_avgTN2021,total_avgTN2020]}\n",
    "TN_TFRAME = pd.DataFrame(TN_TTABLE)\n",
    "TN_TFRAME"
   ]
  },
  {
   "cell_type": "code",
   "execution_count": 729,
   "id": "996e48d8-a097-4f2c-b7b4-97f1067d5081",
   "metadata": {
    "tags": []
   },
   "outputs": [
    {
     "data": {
      "text/plain": [
       "5060.319046707"
      ]
     },
     "execution_count": 729,
     "metadata": {},
     "output_type": "execute_result"
    }
   ],
   "source": [
    "KL2023_total =Y2023_data.groupby(Y2023_data.State)\n",
    "KL2023_avgNEW = KL2023_total.get_group(\"Kerala\")\n",
    "total_avgKL2023=KL2023_avgNEW.Avg_rainfall.sum()\n",
    "total_avgKL2023"
   ]
  },
  {
   "cell_type": "code",
   "execution_count": 730,
   "id": "c3e1b4ba-2716-487a-8166-d54bd49deb10",
   "metadata": {
    "tags": []
   },
   "outputs": [
    {
     "data": {
      "text/plain": [
       "9385.189495605999"
      ]
     },
     "execution_count": 730,
     "metadata": {},
     "output_type": "execute_result"
    }
   ],
   "source": [
    "KL2022_total =Y2022_data.groupby(Y2022_data.State)\n",
    "KL2022_avgNEW = KL2022_total.get_group(\"Kerala\")\n",
    "total_avgKL2022=KL2022_avgNEW.Avg_rainfall.sum()\n",
    "total_avgKL2022"
   ]
  },
  {
   "cell_type": "code",
   "execution_count": 731,
   "id": "714a9312-4898-4250-8a97-7df74e30637a",
   "metadata": {
    "tags": []
   },
   "outputs": [
    {
     "data": {
      "text/plain": [
       "7586.019292591"
      ]
     },
     "execution_count": 731,
     "metadata": {},
     "output_type": "execute_result"
    }
   ],
   "source": [
    "KL2021_total =Y2021_data.groupby(Y2021_data.State)\n",
    "KL2021_avgNEW = KL2021_total.get_group(\"Kerala\")\n",
    "total_avgKL2021=KL2021_avgNEW.Avg_rainfall.sum()\n",
    "total_avgKL2021"
   ]
  },
  {
   "cell_type": "code",
   "execution_count": 732,
   "id": "afbda2f5-eb81-404c-bda5-f1c75d830cae",
   "metadata": {
    "tags": []
   },
   "outputs": [
    {
     "data": {
      "text/plain": [
       "476.768580382"
      ]
     },
     "execution_count": 732,
     "metadata": {},
     "output_type": "execute_result"
    }
   ],
   "source": [
    "KL2020_total =Y2020_data.groupby(Y2020_data.State)\n",
    "KL2020_avgNEW = KL2020_total.get_group(\"Kerala\")\n",
    "total_avgKL2020=KL2020_avgNEW.Avg_rainfall.sum()\n",
    "total_avgKL2020"
   ]
  },
  {
   "cell_type": "code",
   "execution_count": 733,
   "id": "fd235542-d000-4fca-b874-da38f85c8944",
   "metadata": {
    "tags": []
   },
   "outputs": [
    {
     "data": {
      "text/html": [
       "<div>\n",
       "<style scoped>\n",
       "    .dataframe tbody tr th:only-of-type {\n",
       "        vertical-align: middle;\n",
       "    }\n",
       "\n",
       "    .dataframe tbody tr th {\n",
       "        vertical-align: top;\n",
       "    }\n",
       "\n",
       "    .dataframe thead th {\n",
       "        text-align: right;\n",
       "    }\n",
       "</style>\n",
       "<table border=\"1\" class=\"dataframe\">\n",
       "  <thead>\n",
       "    <tr style=\"text-align: right;\">\n",
       "      <th></th>\n",
       "      <th>State</th>\n",
       "      <th>Year</th>\n",
       "      <th>Total(avg rain)</th>\n",
       "    </tr>\n",
       "  </thead>\n",
       "  <tbody>\n",
       "    <tr>\n",
       "      <th>0</th>\n",
       "      <td>Kerala</td>\n",
       "      <td>2023</td>\n",
       "      <td>5060.319047</td>\n",
       "    </tr>\n",
       "    <tr>\n",
       "      <th>1</th>\n",
       "      <td>Kerala</td>\n",
       "      <td>2022</td>\n",
       "      <td>9385.189496</td>\n",
       "    </tr>\n",
       "    <tr>\n",
       "      <th>2</th>\n",
       "      <td>Kerala</td>\n",
       "      <td>2021</td>\n",
       "      <td>7586.019293</td>\n",
       "    </tr>\n",
       "    <tr>\n",
       "      <th>3</th>\n",
       "      <td>Kerala</td>\n",
       "      <td>2020</td>\n",
       "      <td>476.768580</td>\n",
       "    </tr>\n",
       "  </tbody>\n",
       "</table>\n",
       "</div>"
      ],
      "text/plain": [
       "    State  Year  Total(avg rain)\n",
       "0  Kerala  2023      5060.319047\n",
       "1  Kerala  2022      9385.189496\n",
       "2  Kerala  2021      7586.019293\n",
       "3  Kerala  2020       476.768580"
      ]
     },
     "execution_count": 733,
     "metadata": {},
     "output_type": "execute_result"
    }
   ],
   "source": [
    "KL_TTABLE = {\"State\":[\"Kerala\",\"Kerala\",\"Kerala\",\"Kerala\"],\"Year\":[2023,2022,2021,2020]\n",
    "             ,\"Total(avg rain)\":[total_avgKL2023,total_avgKL2022,total_avgKL2021,total_avgKL2020]}\n",
    "KL_TFRAME = pd.DataFrame(KL_TTABLE)\n",
    "KL_TFRAME"
   ]
  },
  {
   "cell_type": "code",
   "execution_count": 734,
   "id": "72388682-ada3-433f-a41c-b124e3c4de9b",
   "metadata": {
    "tags": []
   },
   "outputs": [
    {
     "data": {
      "text/plain": [
       "2205.637091689"
      ]
     },
     "execution_count": 734,
     "metadata": {},
     "output_type": "execute_result"
    }
   ],
   "source": [
    "GA2023_total =Y2023_data.groupby(Y2023_data.State)\n",
    "GA2023_avgNEW = GA2023_total.get_group(\"Goa\")\n",
    "total_avgGA2023=GA2023_avgNEW.Avg_rainfall.sum()\n",
    "total_avgGA2023"
   ]
  },
  {
   "cell_type": "code",
   "execution_count": 735,
   "id": "96ccca34-fa99-40b5-bba1-bd7581832d30",
   "metadata": {
    "tags": []
   },
   "outputs": [
    {
     "data": {
      "text/plain": [
       "2951.03476702"
      ]
     },
     "execution_count": 735,
     "metadata": {},
     "output_type": "execute_result"
    }
   ],
   "source": [
    "GA2022_total =Y2022_data.groupby(Y2022_data.State)\n",
    "GA2022_avgNEW = GA2022_total.get_group(\"Goa\")\n",
    "total_avgGA2022=GA2022_avgNEW.Avg_rainfall.sum()\n",
    "total_avgGA2022"
   ]
  },
  {
   "cell_type": "code",
   "execution_count": 736,
   "id": "da5fd37a-0dba-4fe9-88e1-317ef6aa5b90",
   "metadata": {
    "tags": []
   },
   "outputs": [
    {
     "data": {
      "text/plain": [
       "2587.3364320870005"
      ]
     },
     "execution_count": 736,
     "metadata": {},
     "output_type": "execute_result"
    }
   ],
   "source": [
    "GA2021_total =Y2021_data.groupby(Y2021_data.State)\n",
    "GA2021_avgNEW = GA2021_total.get_group(\"Goa\")\n",
    "total_avgGA2021=GA2021_avgNEW.Avg_rainfall.sum()\n",
    "total_avgGA2021"
   ]
  },
  {
   "cell_type": "code",
   "execution_count": 737,
   "id": "d733634f-b4c3-4f52-84e0-5edf8a2b2e9a",
   "metadata": {
    "tags": []
   },
   "outputs": [
    {
     "data": {
      "text/plain": [
       "6.909861388"
      ]
     },
     "execution_count": 737,
     "metadata": {},
     "output_type": "execute_result"
    }
   ],
   "source": [
    "GA2020_total =Y2020_data.groupby(Y2020_data.State)\n",
    "GA2020_avgNEW = GA2020_total.get_group(\"Goa\")\n",
    "total_avgGA2020=GA2020_avgNEW.Avg_rainfall.sum()\n",
    "total_avgGA2020"
   ]
  },
  {
   "cell_type": "code",
   "execution_count": 738,
   "id": "2de3b6df-e424-4979-8523-ae7114ad3ddb",
   "metadata": {
    "tags": []
   },
   "outputs": [
    {
     "data": {
      "text/html": [
       "<div>\n",
       "<style scoped>\n",
       "    .dataframe tbody tr th:only-of-type {\n",
       "        vertical-align: middle;\n",
       "    }\n",
       "\n",
       "    .dataframe tbody tr th {\n",
       "        vertical-align: top;\n",
       "    }\n",
       "\n",
       "    .dataframe thead th {\n",
       "        text-align: right;\n",
       "    }\n",
       "</style>\n",
       "<table border=\"1\" class=\"dataframe\">\n",
       "  <thead>\n",
       "    <tr style=\"text-align: right;\">\n",
       "      <th></th>\n",
       "      <th>State</th>\n",
       "      <th>Year</th>\n",
       "      <th>Total(avg rain)</th>\n",
       "    </tr>\n",
       "  </thead>\n",
       "  <tbody>\n",
       "    <tr>\n",
       "      <th>0</th>\n",
       "      <td>Goa</td>\n",
       "      <td>2023</td>\n",
       "      <td>2205.637092</td>\n",
       "    </tr>\n",
       "    <tr>\n",
       "      <th>1</th>\n",
       "      <td>Goa</td>\n",
       "      <td>2022</td>\n",
       "      <td>2951.034767</td>\n",
       "    </tr>\n",
       "    <tr>\n",
       "      <th>2</th>\n",
       "      <td>Goa</td>\n",
       "      <td>2021</td>\n",
       "      <td>2587.336432</td>\n",
       "    </tr>\n",
       "    <tr>\n",
       "      <th>3</th>\n",
       "      <td>Goa</td>\n",
       "      <td>2020</td>\n",
       "      <td>6.909861</td>\n",
       "    </tr>\n",
       "  </tbody>\n",
       "</table>\n",
       "</div>"
      ],
      "text/plain": [
       "  State  Year  Total(avg rain)\n",
       "0   Goa  2023      2205.637092\n",
       "1   Goa  2022      2951.034767\n",
       "2   Goa  2021      2587.336432\n",
       "3   Goa  2020         6.909861"
      ]
     },
     "execution_count": 738,
     "metadata": {},
     "output_type": "execute_result"
    }
   ],
   "source": [
    "GA_TTABLE={\"State\":[\"Goa\",\"Goa\",\"Goa\",\"Goa\"],\"Year\":[2023,2022,2021,2020]\n",
    "           ,\"Total(avg rain)\":[total_avgGA2023,total_avgGA2022,total_avgGA2021,total_avgGA2020]}\n",
    "GA_TFRAME = pd.DataFrame(GA_TTABLE)\n",
    "GA_TFRAME\n"
   ]
  },
  {
   "cell_type": "code",
   "execution_count": 739,
   "id": "9b463efa-39b6-4419-8bf2-1cf731cce579",
   "metadata": {
    "tags": []
   },
   "outputs": [
    {
     "data": {
      "text/plain": [
       "10769.716071463"
      ]
     },
     "execution_count": 739,
     "metadata": {},
     "output_type": "execute_result"
    }
   ],
   "source": [
    "GJ2023_total =Y2023_data.groupby(Y2023_data.State)\n",
    "GJ2023_avgNEW = GJ2023_total.get_group(\"Gujarat\")\n",
    "total_avgGJ2023=GJ2023_avgNEW.Avg_rainfall.sum()\n",
    "total_avgGJ2023"
   ]
  },
  {
   "cell_type": "code",
   "execution_count": 740,
   "id": "b942a581-b3b9-4cb0-b293-864624fc2c77",
   "metadata": {
    "tags": []
   },
   "outputs": [
    {
     "data": {
      "text/plain": [
       "18287.776731069"
      ]
     },
     "execution_count": 740,
     "metadata": {},
     "output_type": "execute_result"
    }
   ],
   "source": [
    "GJ2022_total =Y2022_data.groupby(Y2022_data.State)\n",
    "GJ2022_avgNEW = GJ2022_total.get_group(\"Gujarat\")\n",
    "total_avgGJ2022=GJ2022_avgNEW.Avg_rainfall.sum()\n",
    "total_avgGJ2022"
   ]
  },
  {
   "cell_type": "code",
   "execution_count": 741,
   "id": "6de5cccd-066f-4bb3-b9d7-c7b18b49c566",
   "metadata": {
    "tags": []
   },
   "outputs": [
    {
     "data": {
      "text/plain": [
       "6269.514659779"
      ]
     },
     "execution_count": 741,
     "metadata": {},
     "output_type": "execute_result"
    }
   ],
   "source": [
    "GJ2021_total =Y2021_data.groupby(Y2021_data.State)\n",
    "GJ2021_avgNEW = GJ2021_total.get_group(\"Gujarat\")\n",
    "total_avgGJ2021=GJ2021_avgNEW.Avg_rainfall.sum()\n",
    "total_avgGJ2021"
   ]
  },
  {
   "cell_type": "code",
   "execution_count": 742,
   "id": "5a5b19f8-6d18-4f48-902e-61c8540379d0",
   "metadata": {
    "tags": []
   },
   "outputs": [
    {
     "data": {
      "text/plain": [
       "70.573201611"
      ]
     },
     "execution_count": 742,
     "metadata": {},
     "output_type": "execute_result"
    }
   ],
   "source": [
    "GJ2020_total =Y2020_data.groupby(Y2020_data.State)\n",
    "GJ2020_avgNEW = GJ2020_total.get_group(\"Gujarat\")\n",
    "total_avgGJ2020=GJ2020_avgNEW.Avg_rainfall.sum()\n",
    "total_avgGJ2020"
   ]
  },
  {
   "cell_type": "code",
   "execution_count": 743,
   "id": "cbf95310-250b-411c-9707-2f0490aee144",
   "metadata": {
    "tags": []
   },
   "outputs": [
    {
     "data": {
      "text/html": [
       "<div>\n",
       "<style scoped>\n",
       "    .dataframe tbody tr th:only-of-type {\n",
       "        vertical-align: middle;\n",
       "    }\n",
       "\n",
       "    .dataframe tbody tr th {\n",
       "        vertical-align: top;\n",
       "    }\n",
       "\n",
       "    .dataframe thead th {\n",
       "        text-align: right;\n",
       "    }\n",
       "</style>\n",
       "<table border=\"1\" class=\"dataframe\">\n",
       "  <thead>\n",
       "    <tr style=\"text-align: right;\">\n",
       "      <th></th>\n",
       "      <th>State</th>\n",
       "      <th>Year</th>\n",
       "      <th>Total(avg rain)</th>\n",
       "    </tr>\n",
       "  </thead>\n",
       "  <tbody>\n",
       "    <tr>\n",
       "      <th>0</th>\n",
       "      <td>Gujarat</td>\n",
       "      <td>2023</td>\n",
       "      <td>10769.716071</td>\n",
       "    </tr>\n",
       "    <tr>\n",
       "      <th>1</th>\n",
       "      <td>Gujarat</td>\n",
       "      <td>2022</td>\n",
       "      <td>18287.776731</td>\n",
       "    </tr>\n",
       "    <tr>\n",
       "      <th>2</th>\n",
       "      <td>Gujarat</td>\n",
       "      <td>2021</td>\n",
       "      <td>6269.514660</td>\n",
       "    </tr>\n",
       "    <tr>\n",
       "      <th>3</th>\n",
       "      <td>Gujarat</td>\n",
       "      <td>2020</td>\n",
       "      <td>70.573202</td>\n",
       "    </tr>\n",
       "  </tbody>\n",
       "</table>\n",
       "</div>"
      ],
      "text/plain": [
       "     State  Year  Total(avg rain)\n",
       "0  Gujarat  2023     10769.716071\n",
       "1  Gujarat  2022     18287.776731\n",
       "2  Gujarat  2021      6269.514660\n",
       "3  Gujarat  2020        70.573202"
      ]
     },
     "execution_count": 743,
     "metadata": {},
     "output_type": "execute_result"
    }
   ],
   "source": [
    "GJ_TTABLE={\"State\":[\"Gujarat\",\"Gujarat\",\"Gujarat\",\"Gujarat\"],\"Year\":[2023,2022,2021,2020]\n",
    "           ,\"Total(avg rain)\":[total_avgGJ2023,total_avgGJ2022,total_avgGJ2021,total_avgGJ2020]}\n",
    "GJ_TFRAME = pd.DataFrame(GJ_TTABLE)\n",
    "GJ_TFRAME"
   ]
  },
  {
   "cell_type": "code",
   "execution_count": 744,
   "id": "8515a99a-6dfa-46f6-ad0e-e765ab906e73",
   "metadata": {
    "tags": []
   },
   "outputs": [
    {
     "data": {
      "text/html": [
       "<div>\n",
       "<style scoped>\n",
       "    .dataframe tbody tr th:only-of-type {\n",
       "        vertical-align: middle;\n",
       "    }\n",
       "\n",
       "    .dataframe tbody tr th {\n",
       "        vertical-align: top;\n",
       "    }\n",
       "\n",
       "    .dataframe thead th {\n",
       "        text-align: right;\n",
       "    }\n",
       "</style>\n",
       "<table border=\"1\" class=\"dataframe\">\n",
       "  <thead>\n",
       "    <tr style=\"text-align: right;\">\n",
       "      <th></th>\n",
       "      <th>State</th>\n",
       "      <th>Year</th>\n",
       "      <th>Avg(avgRain)</th>\n",
       "    </tr>\n",
       "  </thead>\n",
       "  <tbody>\n",
       "    <tr>\n",
       "      <th>0</th>\n",
       "      <td>A.P</td>\n",
       "      <td>2023</td>\n",
       "      <td>5.128567</td>\n",
       "    </tr>\n",
       "    <tr>\n",
       "      <th>1</th>\n",
       "      <td>A.P</td>\n",
       "      <td>2022</td>\n",
       "      <td>5.987308</td>\n",
       "    </tr>\n",
       "    <tr>\n",
       "      <th>2</th>\n",
       "      <td>A.P</td>\n",
       "      <td>2021</td>\n",
       "      <td>7.244671</td>\n",
       "    </tr>\n",
       "    <tr>\n",
       "      <th>3</th>\n",
       "      <td>A.P</td>\n",
       "      <td>2020</td>\n",
       "      <td>1.767320</td>\n",
       "    </tr>\n",
       "  </tbody>\n",
       "</table>\n",
       "</div>"
      ],
      "text/plain": [
       "  State  Year  Avg(avgRain)\n",
       "0   A.P  2023      5.128567\n",
       "1   A.P  2022      5.987308\n",
       "2   A.P  2021      7.244671\n",
       "3   A.P  2020      1.767320"
      ]
     },
     "execution_count": 744,
     "metadata": {},
     "output_type": "execute_result"
    }
   ],
   "source": [
    "AP_FRAME"
   ]
  },
  {
   "cell_type": "code",
   "execution_count": 745,
   "id": "2531c974-391a-4ba1-b3ae-4f7e094dee0c",
   "metadata": {
    "tags": []
   },
   "outputs": [],
   "source": [
    "Y1 = AP_FRAME['Avg(avgRain)'].values\n",
    "X1 = AP_FRAME['Year'].values\n",
    "np.mean(X1)\n",
    "import math"
   ]
  },
  {
   "cell_type": "code",
   "execution_count": 746,
   "id": "289aec33-a0b0-4a48-a3d1-3f9d677e3ea6",
   "metadata": {
    "tags": []
   },
   "outputs": [
    {
     "name": "stdout",
     "output_type": "stream",
     "text": [
      "0.8826377944123877 -1779.2203349846848\n"
     ]
    }
   ],
   "source": [
    "mean_x1 = np.mean(X1)\n",
    "mean_y1 = np.mean(Y1)\n",
    "m = len(X1)\n",
    "numer=0\n",
    "denom=0\n",
    "for i in range(m):\n",
    "    numer += (X1[i]-mean_x1)*(Y1[i]-mean_y1)\n",
    "    denom += (X1[i]-mean_x1)**2\n",
    "b1= numer / denom\n",
    "b0= mean_y1-(b1*mean_x1)\n",
    "print(b1,b0)\n"
   ]
  },
  {
   "cell_type": "markdown",
   "id": "7847d4fd-6775-4043-b5e6-1bc10ceb1193",
   "metadata": {},
   "source": [
    "PREDITION OF 2024\n"
   ]
  },
  {
   "cell_type": "code",
   "execution_count": 747,
   "id": "fe5d1dc4-6d34-410f-8b9f-16f38d9d5730",
   "metadata": {
    "tags": []
   },
   "outputs": [
    {
     "data": {
      "text/plain": [
       "7.238560905987924"
      ]
     },
     "execution_count": 747,
     "metadata": {},
     "output_type": "execute_result"
    }
   ],
   "source": [
    "\n",
    "x1=2024\n",
    "y1= b1*x1+b0\n",
    "y1"
   ]
  },
  {
   "cell_type": "code",
   "execution_count": 834,
   "id": "8767ecd4-9b50-486c-b8ec-fc9e8c8e20be",
   "metadata": {
    "tags": []
   },
   "outputs": [
    {
     "data": {
      "text/html": [
       "<div>\n",
       "<style scoped>\n",
       "    .dataframe tbody tr th:only-of-type {\n",
       "        vertical-align: middle;\n",
       "    }\n",
       "\n",
       "    .dataframe tbody tr th {\n",
       "        vertical-align: top;\n",
       "    }\n",
       "\n",
       "    .dataframe thead th {\n",
       "        text-align: right;\n",
       "    }\n",
       "</style>\n",
       "<table border=\"1\" class=\"dataframe\">\n",
       "  <thead>\n",
       "    <tr style=\"text-align: right;\">\n",
       "      <th></th>\n",
       "      <th>State</th>\n",
       "      <th>Year</th>\n",
       "      <th>Avg(avgRain)</th>\n",
       "    </tr>\n",
       "  </thead>\n",
       "  <tbody>\n",
       "    <tr>\n",
       "      <th>0</th>\n",
       "      <td>A.P</td>\n",
       "      <td>2024</td>\n",
       "      <td>7.238561</td>\n",
       "    </tr>\n",
       "    <tr>\n",
       "      <th>0</th>\n",
       "      <td>A.P</td>\n",
       "      <td>2023</td>\n",
       "      <td>5.128567</td>\n",
       "    </tr>\n",
       "    <tr>\n",
       "      <th>1</th>\n",
       "      <td>A.P</td>\n",
       "      <td>2022</td>\n",
       "      <td>5.987308</td>\n",
       "    </tr>\n",
       "    <tr>\n",
       "      <th>2</th>\n",
       "      <td>A.P</td>\n",
       "      <td>2021</td>\n",
       "      <td>7.244671</td>\n",
       "    </tr>\n",
       "    <tr>\n",
       "      <th>3</th>\n",
       "      <td>A.P</td>\n",
       "      <td>2020</td>\n",
       "      <td>1.767320</td>\n",
       "    </tr>\n",
       "  </tbody>\n",
       "</table>\n",
       "</div>"
      ],
      "text/plain": [
       "  State  Year  Avg(avgRain)\n",
       "0   A.P  2024      7.238561\n",
       "0   A.P  2023      5.128567\n",
       "1   A.P  2022      5.987308\n",
       "2   A.P  2021      7.244671\n",
       "3   A.P  2020      1.767320"
      ]
     },
     "execution_count": 834,
     "metadata": {},
     "output_type": "execute_result"
    }
   ],
   "source": [
    "ap_pd1=pd.DataFrame({\"State\":[\"A.P\"],\"Year\":[2024],\"Avg(avgRain)\":[y1]})\n",
    "frames1=[ap_pd1,AP_FRAME]\n",
    "AP_FRAMEp= pd.concat(frames1)\n",
    "AP_FRAMEp"
   ]
  },
  {
   "cell_type": "code",
   "execution_count": 749,
   "id": "649a5fc6-4ece-4583-9931-bbb3ed7f07d1",
   "metadata": {
    "tags": []
   },
   "outputs": [
    {
     "data": {
      "text/html": [
       "<div>\n",
       "<style scoped>\n",
       "    .dataframe tbody tr th:only-of-type {\n",
       "        vertical-align: middle;\n",
       "    }\n",
       "\n",
       "    .dataframe tbody tr th {\n",
       "        vertical-align: top;\n",
       "    }\n",
       "\n",
       "    .dataframe thead th {\n",
       "        text-align: right;\n",
       "    }\n",
       "</style>\n",
       "<table border=\"1\" class=\"dataframe\">\n",
       "  <thead>\n",
       "    <tr style=\"text-align: right;\">\n",
       "      <th></th>\n",
       "      <th>State</th>\n",
       "      <th>Year</th>\n",
       "      <th>Avg(avg rainfall)</th>\n",
       "    </tr>\n",
       "  </thead>\n",
       "  <tbody>\n",
       "    <tr>\n",
       "      <th>0</th>\n",
       "      <td>Maharastra</td>\n",
       "      <td>2023</td>\n",
       "      <td>16.398610</td>\n",
       "    </tr>\n",
       "    <tr>\n",
       "      <th>1</th>\n",
       "      <td>Maharastra</td>\n",
       "      <td>2022</td>\n",
       "      <td>21.093920</td>\n",
       "    </tr>\n",
       "    <tr>\n",
       "      <th>2</th>\n",
       "      <td>Maharastra</td>\n",
       "      <td>2021</td>\n",
       "      <td>15.645612</td>\n",
       "    </tr>\n",
       "    <tr>\n",
       "      <th>3</th>\n",
       "      <td>Maharastra</td>\n",
       "      <td>2020</td>\n",
       "      <td>1.836159</td>\n",
       "    </tr>\n",
       "  </tbody>\n",
       "</table>\n",
       "</div>"
      ],
      "text/plain": [
       "        State  Year  Avg(avg rainfall)\n",
       "0  Maharastra  2023          16.398610\n",
       "1  Maharastra  2022          21.093920\n",
       "2  Maharastra  2021          15.645612\n",
       "3  Maharastra  2020           1.836159"
      ]
     },
     "execution_count": 749,
     "metadata": {},
     "output_type": "execute_result"
    }
   ],
   "source": [
    "MH_FRAME"
   ]
  },
  {
   "cell_type": "code",
   "execution_count": 750,
   "id": "119a3413-8df5-408d-a6a3-7bbc7323b9ac",
   "metadata": {
    "tags": []
   },
   "outputs": [
    {
     "name": "stdout",
     "output_type": "stream",
     "text": [
      "4.913565887348822 -9919.029866100704\n"
     ]
    }
   ],
   "source": [
    "X2= MH_FRAME['Year'].values\n",
    "Y2= MH_FRAME['Avg(avg rainfall)'].values\n",
    "mean_x2= np.mean(X2)\n",
    "mean_y2= np.mean(Y2)\n",
    "numer =0 \n",
    "denom =0\n",
    "\n",
    "m2 = len(X2)\n",
    "for i in range(m2):\n",
    "    numer += (X2[i]-mean_x2)*(Y2[i]-mean_y2)\n",
    "    denom += (X2[i]-mean_x2) **2\n",
    "b1_1 = numer  / denom\n",
    "b0_1 = mean_y2 -(b1_1*mean_x2)\n",
    "\n",
    "print(b1_1,b0_1)"
   ]
  },
  {
   "cell_type": "code",
   "execution_count": 751,
   "id": "f33f9a74-297e-49bf-8c17-bf5c5009051a",
   "metadata": {
    "tags": []
   },
   "outputs": [
    {
     "data": {
      "text/plain": [
       "26.02748989331303"
      ]
     },
     "execution_count": 751,
     "metadata": {},
     "output_type": "execute_result"
    }
   ],
   "source": [
    "x2=2024\n",
    "y2=b1_1*x2+b0_1\n",
    "y2"
   ]
  },
  {
   "cell_type": "code",
   "execution_count": 835,
   "id": "5dfbb0aa-25a0-48df-ab15-94f946d17474",
   "metadata": {
    "tags": []
   },
   "outputs": [
    {
     "data": {
      "text/html": [
       "<div>\n",
       "<style scoped>\n",
       "    .dataframe tbody tr th:only-of-type {\n",
       "        vertical-align: middle;\n",
       "    }\n",
       "\n",
       "    .dataframe tbody tr th {\n",
       "        vertical-align: top;\n",
       "    }\n",
       "\n",
       "    .dataframe thead th {\n",
       "        text-align: right;\n",
       "    }\n",
       "</style>\n",
       "<table border=\"1\" class=\"dataframe\">\n",
       "  <thead>\n",
       "    <tr style=\"text-align: right;\">\n",
       "      <th></th>\n",
       "      <th>State</th>\n",
       "      <th>Year</th>\n",
       "      <th>Avg(avg rainfall)</th>\n",
       "    </tr>\n",
       "  </thead>\n",
       "  <tbody>\n",
       "    <tr>\n",
       "      <th>0</th>\n",
       "      <td>Maharastra</td>\n",
       "      <td>2024</td>\n",
       "      <td>26.027490</td>\n",
       "    </tr>\n",
       "    <tr>\n",
       "      <th>0</th>\n",
       "      <td>Maharastra</td>\n",
       "      <td>2023</td>\n",
       "      <td>16.398610</td>\n",
       "    </tr>\n",
       "    <tr>\n",
       "      <th>1</th>\n",
       "      <td>Maharastra</td>\n",
       "      <td>2022</td>\n",
       "      <td>21.093920</td>\n",
       "    </tr>\n",
       "    <tr>\n",
       "      <th>2</th>\n",
       "      <td>Maharastra</td>\n",
       "      <td>2021</td>\n",
       "      <td>15.645612</td>\n",
       "    </tr>\n",
       "    <tr>\n",
       "      <th>3</th>\n",
       "      <td>Maharastra</td>\n",
       "      <td>2020</td>\n",
       "      <td>1.836159</td>\n",
       "    </tr>\n",
       "  </tbody>\n",
       "</table>\n",
       "</div>"
      ],
      "text/plain": [
       "        State  Year  Avg(avg rainfall)\n",
       "0  Maharastra  2024          26.027490\n",
       "0  Maharastra  2023          16.398610\n",
       "1  Maharastra  2022          21.093920\n",
       "2  Maharastra  2021          15.645612\n",
       "3  Maharastra  2020           1.836159"
      ]
     },
     "execution_count": 835,
     "metadata": {},
     "output_type": "execute_result"
    }
   ],
   "source": [
    "mh_pd1=pd.DataFrame({\"State\":[\"Maharastra\"],\"Year\":[2024],\"Avg(avg rainfall)\":[y2]})\n",
    "frames2=[mh_pd1,MH_FRAME]\n",
    "MH_FRAMEp= pd.concat(frames2)\n",
    "MH_FRAMEp"
   ]
  },
  {
   "cell_type": "code",
   "execution_count": 753,
   "id": "a77f7f52-b579-4f25-b1db-61c666098a61",
   "metadata": {
    "tags": []
   },
   "outputs": [
    {
     "data": {
      "text/html": [
       "<div>\n",
       "<style scoped>\n",
       "    .dataframe tbody tr th:only-of-type {\n",
       "        vertical-align: middle;\n",
       "    }\n",
       "\n",
       "    .dataframe tbody tr th {\n",
       "        vertical-align: top;\n",
       "    }\n",
       "\n",
       "    .dataframe thead th {\n",
       "        text-align: right;\n",
       "    }\n",
       "</style>\n",
       "<table border=\"1\" class=\"dataframe\">\n",
       "  <thead>\n",
       "    <tr style=\"text-align: right;\">\n",
       "      <th></th>\n",
       "      <th>State</th>\n",
       "      <th>Year</th>\n",
       "      <th>Avg(Avg Rainfall)</th>\n",
       "    </tr>\n",
       "  </thead>\n",
       "  <tbody>\n",
       "    <tr>\n",
       "      <th>0</th>\n",
       "      <td>Tamil Nadu</td>\n",
       "      <td>2023</td>\n",
       "      <td>2.715752</td>\n",
       "    </tr>\n",
       "    <tr>\n",
       "      <th>1</th>\n",
       "      <td>Tamil Nadu</td>\n",
       "      <td>2022</td>\n",
       "      <td>4.992746</td>\n",
       "    </tr>\n",
       "    <tr>\n",
       "      <th>2</th>\n",
       "      <td>Tamil Nadu</td>\n",
       "      <td>2021</td>\n",
       "      <td>5.392853</td>\n",
       "    </tr>\n",
       "    <tr>\n",
       "      <th>3</th>\n",
       "      <td>Tamil Nadu</td>\n",
       "      <td>2020</td>\n",
       "      <td>1.908289</td>\n",
       "    </tr>\n",
       "  </tbody>\n",
       "</table>\n",
       "</div>"
      ],
      "text/plain": [
       "        State  Year  Avg(Avg Rainfall)\n",
       "0  Tamil Nadu  2023           2.715752\n",
       "1  Tamil Nadu  2022           4.992746\n",
       "2  Tamil Nadu  2021           5.392853\n",
       "3  Tamil Nadu  2020           1.908289"
      ]
     },
     "execution_count": 753,
     "metadata": {},
     "output_type": "execute_result"
    }
   ],
   "source": [
    "TN_FRAME"
   ]
  },
  {
   "cell_type": "code",
   "execution_count": 754,
   "id": "06ccf5cf-3b64-423e-bd68-7ab452c21bbc",
   "metadata": {
    "tags": []
   },
   "outputs": [
    {
     "name": "stdout",
     "output_type": "stream",
     "text": [
      "0.20222816775299846 -405.051830952281\n"
     ]
    }
   ],
   "source": [
    "X3= TN_FRAME['Year'].values\n",
    "Y3= TN_FRAME['Avg(Avg Rainfall)'].values\n",
    "mean_x3= np.mean(X3)\n",
    "mean_y3= np.mean(Y3)\n",
    "numer =0 \n",
    "denom =0\n",
    "\n",
    "m3 = len(X3)\n",
    "for i in range(m3):\n",
    "    numer += (X3[i]-mean_x3)*(Y3[i]-mean_y3)\n",
    "    denom += (X3[i]-mean_x3) **2\n",
    "b1_3 = numer  / denom\n",
    "b0_3 = mean_y3 -(b1_3*mean_x3)\n",
    "\n",
    "print(b1_3,b0_3)"
   ]
  },
  {
   "cell_type": "code",
   "execution_count": 755,
   "id": "24f969b2-582c-4ce3-b36f-c986f8dcdb8b",
   "metadata": {
    "tags": []
   },
   "outputs": [
    {
     "data": {
      "text/plain": [
       "4.257980579787841"
      ]
     },
     "execution_count": 755,
     "metadata": {},
     "output_type": "execute_result"
    }
   ],
   "source": [
    "x3=2024\n",
    "y3=b1_3*x3+b0_3\n",
    "y3"
   ]
  },
  {
   "cell_type": "code",
   "execution_count": 836,
   "id": "40a5c30c-d71a-485d-961b-c5367aebea69",
   "metadata": {
    "tags": []
   },
   "outputs": [
    {
     "data": {
      "text/html": [
       "<div>\n",
       "<style scoped>\n",
       "    .dataframe tbody tr th:only-of-type {\n",
       "        vertical-align: middle;\n",
       "    }\n",
       "\n",
       "    .dataframe tbody tr th {\n",
       "        vertical-align: top;\n",
       "    }\n",
       "\n",
       "    .dataframe thead th {\n",
       "        text-align: right;\n",
       "    }\n",
       "</style>\n",
       "<table border=\"1\" class=\"dataframe\">\n",
       "  <thead>\n",
       "    <tr style=\"text-align: right;\">\n",
       "      <th></th>\n",
       "      <th>State</th>\n",
       "      <th>Year</th>\n",
       "      <th>Avg(Avg Rainfall)</th>\n",
       "    </tr>\n",
       "  </thead>\n",
       "  <tbody>\n",
       "    <tr>\n",
       "      <th>0</th>\n",
       "      <td>Tamil Nadu</td>\n",
       "      <td>2024</td>\n",
       "      <td>4.257981</td>\n",
       "    </tr>\n",
       "    <tr>\n",
       "      <th>0</th>\n",
       "      <td>Tamil Nadu</td>\n",
       "      <td>2023</td>\n",
       "      <td>2.715752</td>\n",
       "    </tr>\n",
       "    <tr>\n",
       "      <th>1</th>\n",
       "      <td>Tamil Nadu</td>\n",
       "      <td>2022</td>\n",
       "      <td>4.992746</td>\n",
       "    </tr>\n",
       "    <tr>\n",
       "      <th>2</th>\n",
       "      <td>Tamil Nadu</td>\n",
       "      <td>2021</td>\n",
       "      <td>5.392853</td>\n",
       "    </tr>\n",
       "    <tr>\n",
       "      <th>3</th>\n",
       "      <td>Tamil Nadu</td>\n",
       "      <td>2020</td>\n",
       "      <td>1.908289</td>\n",
       "    </tr>\n",
       "  </tbody>\n",
       "</table>\n",
       "</div>"
      ],
      "text/plain": [
       "        State  Year  Avg(Avg Rainfall)\n",
       "0  Tamil Nadu  2024           4.257981\n",
       "0  Tamil Nadu  2023           2.715752\n",
       "1  Tamil Nadu  2022           4.992746\n",
       "2  Tamil Nadu  2021           5.392853\n",
       "3  Tamil Nadu  2020           1.908289"
      ]
     },
     "execution_count": 836,
     "metadata": {},
     "output_type": "execute_result"
    }
   ],
   "source": [
    "tn_pd1=pd.DataFrame({\"State\":[\"Tamil Nadu\"],\"Year\":[2024],\"Avg(Avg Rainfall)\":[y3]})\n",
    "frames3=[tn_pd1,TN_FRAME]\n",
    "TN_FRAMEp= pd.concat(frames3)\n",
    "TN_FRAMEp"
   ]
  },
  {
   "cell_type": "code",
   "execution_count": 757,
   "id": "4ba063cf-b63e-44b7-98c3-469cbd8c5770",
   "metadata": {
    "tags": []
   },
   "outputs": [
    {
     "name": "stdout",
     "output_type": "stream",
     "text": [
      "5.0361138585929 -10165.274688018271\n"
     ]
    }
   ],
   "source": [
    "X4= KL_FRAME['Year'].values\n",
    "Y4= KL_FRAME['Avg(avg rain)'].values\n",
    "mean_x4= np.mean(X4)\n",
    "mean_y4= np.mean(Y4)\n",
    "numer =0 \n",
    "denom =0\n",
    "\n",
    "m4 = len(X4)\n",
    "for i in range(m4):\n",
    "    numer += (X4[i]-mean_x4)*(Y4[i]-mean_y4)\n",
    "    denom += (X4[i]-mean_x4) **2\n",
    "b1_4 = numer  / denom\n",
    "b0_4 = mean_y4 -(b1_4*mean_x4)\n",
    "\n",
    "print(b1_4,b0_4)"
   ]
  },
  {
   "cell_type": "code",
   "execution_count": 758,
   "id": "e202c0b0-bfdc-45d6-ad65-59cf6988d88f",
   "metadata": {
    "tags": []
   },
   "outputs": [
    {
     "data": {
      "text/plain": [
       "27.819761773758728"
      ]
     },
     "execution_count": 758,
     "metadata": {},
     "output_type": "execute_result"
    }
   ],
   "source": [
    "x4=2024\n",
    "y4 =(b1_4*x4) + b0_4\n",
    "y4"
   ]
  },
  {
   "cell_type": "code",
   "execution_count": 837,
   "id": "fce05e24-1b6f-47fe-9463-a65f1d67f35b",
   "metadata": {
    "tags": []
   },
   "outputs": [
    {
     "data": {
      "text/html": [
       "<div>\n",
       "<style scoped>\n",
       "    .dataframe tbody tr th:only-of-type {\n",
       "        vertical-align: middle;\n",
       "    }\n",
       "\n",
       "    .dataframe tbody tr th {\n",
       "        vertical-align: top;\n",
       "    }\n",
       "\n",
       "    .dataframe thead th {\n",
       "        text-align: right;\n",
       "    }\n",
       "</style>\n",
       "<table border=\"1\" class=\"dataframe\">\n",
       "  <thead>\n",
       "    <tr style=\"text-align: right;\">\n",
       "      <th></th>\n",
       "      <th>State</th>\n",
       "      <th>Year</th>\n",
       "      <th>Avg(avg rain)</th>\n",
       "    </tr>\n",
       "  </thead>\n",
       "  <tbody>\n",
       "    <tr>\n",
       "      <th>0</th>\n",
       "      <td>Kerala</td>\n",
       "      <td>2024</td>\n",
       "      <td>27.819762</td>\n",
       "    </tr>\n",
       "    <tr>\n",
       "      <th>0</th>\n",
       "      <td>Kerala</td>\n",
       "      <td>2023</td>\n",
       "      <td>17.329860</td>\n",
       "    </tr>\n",
       "    <tr>\n",
       "      <th>1</th>\n",
       "      <td>Kerala</td>\n",
       "      <td>2022</td>\n",
       "      <td>23.462974</td>\n",
       "    </tr>\n",
       "    <tr>\n",
       "      <th>2</th>\n",
       "      <td>Kerala</td>\n",
       "      <td>2021</td>\n",
       "      <td>17.641905</td>\n",
       "    </tr>\n",
       "    <tr>\n",
       "      <th>3</th>\n",
       "      <td>Kerala</td>\n",
       "      <td>2020</td>\n",
       "      <td>2.483170</td>\n",
       "    </tr>\n",
       "  </tbody>\n",
       "</table>\n",
       "</div>"
      ],
      "text/plain": [
       "    State  Year  Avg(avg rain)\n",
       "0  Kerala  2024      27.819762\n",
       "0  Kerala  2023      17.329860\n",
       "1  Kerala  2022      23.462974\n",
       "2  Kerala  2021      17.641905\n",
       "3  Kerala  2020       2.483170"
      ]
     },
     "execution_count": 837,
     "metadata": {},
     "output_type": "execute_result"
    }
   ],
   "source": [
    "kl_pd1 = pd.DataFrame({\"State\":[\"Kerala\"],\"Year\":[2024],\"Avg(avg rain)\":[y4]})\n",
    "frames4= [kl_pd1,KL_FRAME]\n",
    "KL_FRAMEp= pd.concat(frames4)\n",
    "KL_FRAMEp"
   ]
  },
  {
   "cell_type": "code",
   "execution_count": 838,
   "id": "30c435e5-fd90-4d8e-a686-325f40ac1703",
   "metadata": {
    "tags": []
   },
   "outputs": [
    {
     "name": "stdout",
     "output_type": "stream",
     "text": [
      "16.46212251334244 -33241.72633633666\n"
     ]
    }
   ],
   "source": [
    "X5= GA_FRAME['Year'].values\n",
    "Y5= GA_FRAME['AVG(avg rain)'].values\n",
    "mean_x5= np.mean(X5)\n",
    "mean_y5= np.mean(Y5)\n",
    "numer =0 \n",
    "denom =0\n",
    "\n",
    "m5 = len(X5)\n",
    "for i in range(m5):\n",
    "    numer += (X5[i]-mean_x5)*(Y5[i]-mean_y5)\n",
    "    denom += (X5[i]-mean_x5) **2\n",
    "b1_5 = numer  / denom\n",
    "b0_5 = mean_y5 -(b1_5*mean_x5)\n",
    "\n",
    "print(b1_5,b0_5)"
   ]
  },
  {
   "cell_type": "code",
   "execution_count": 839,
   "id": "e4180da6-c206-4825-9330-ade0a8426b4b",
   "metadata": {
    "tags": []
   },
   "outputs": [
    {
     "data": {
      "text/plain": [
       "77.60963066844124"
      ]
     },
     "execution_count": 839,
     "metadata": {},
     "output_type": "execute_result"
    }
   ],
   "source": [
    "x5 = 2024\n",
    "y5 = (b1_5*x5)+b0_5\n",
    "y5"
   ]
  },
  {
   "cell_type": "code",
   "execution_count": 840,
   "id": "45517f88-327d-4537-888c-9a1a20d02f72",
   "metadata": {
    "tags": []
   },
   "outputs": [
    {
     "data": {
      "text/html": [
       "<div>\n",
       "<style scoped>\n",
       "    .dataframe tbody tr th:only-of-type {\n",
       "        vertical-align: middle;\n",
       "    }\n",
       "\n",
       "    .dataframe tbody tr th {\n",
       "        vertical-align: top;\n",
       "    }\n",
       "\n",
       "    .dataframe thead th {\n",
       "        text-align: right;\n",
       "    }\n",
       "</style>\n",
       "<table border=\"1\" class=\"dataframe\">\n",
       "  <thead>\n",
       "    <tr style=\"text-align: right;\">\n",
       "      <th></th>\n",
       "      <th>State</th>\n",
       "      <th>Year</th>\n",
       "      <th>AVG(avg rain)</th>\n",
       "    </tr>\n",
       "  </thead>\n",
       "  <tbody>\n",
       "    <tr>\n",
       "      <th>0</th>\n",
       "      <td>Goa</td>\n",
       "      <td>2024</td>\n",
       "      <td>77.609631</td>\n",
       "    </tr>\n",
       "    <tr>\n",
       "      <th>0</th>\n",
       "      <td>Goa</td>\n",
       "      <td>2023</td>\n",
       "      <td>52.515169</td>\n",
       "    </tr>\n",
       "    <tr>\n",
       "      <th>1</th>\n",
       "      <td>Goa</td>\n",
       "      <td>2022</td>\n",
       "      <td>50.879910</td>\n",
       "    </tr>\n",
       "    <tr>\n",
       "      <th>2</th>\n",
       "      <td>Goa</td>\n",
       "      <td>2021</td>\n",
       "      <td>41.731233</td>\n",
       "    </tr>\n",
       "    <tr>\n",
       "      <th>3</th>\n",
       "      <td>Goa</td>\n",
       "      <td>2020</td>\n",
       "      <td>0.690986</td>\n",
       "    </tr>\n",
       "  </tbody>\n",
       "</table>\n",
       "</div>"
      ],
      "text/plain": [
       "  State  Year  AVG(avg rain)\n",
       "0   Goa  2024      77.609631\n",
       "0   Goa  2023      52.515169\n",
       "1   Goa  2022      50.879910\n",
       "2   Goa  2021      41.731233\n",
       "3   Goa  2020       0.690986"
      ]
     },
     "execution_count": 840,
     "metadata": {},
     "output_type": "execute_result"
    }
   ],
   "source": [
    "ga_pd1 = pd.DataFrame({\"State\":[\"Goa\"],\"Year\":[2024],\"AVG(avg rain)\":[y5]})\n",
    "frames5= [ga_pd1,GA_FRAME]\n",
    "GA_FRAMEp= pd.concat(frames5)\n",
    "GA_FRAMEp"
   ]
  },
  {
   "cell_type": "code",
   "execution_count": 763,
   "id": "a2be732b-b782-4458-952b-e06824f4a9f9",
   "metadata": {
    "tags": []
   },
   "outputs": [
    {
     "name": "stdout",
     "output_type": "stream",
     "text": [
      "5.145106555599226 -10388.799330215805\n"
     ]
    }
   ],
   "source": [
    "X6= GJ_FRAME['Year'].values\n",
    "Y6= GJ_FRAME['Avg(avg rain)'].values\n",
    "mean_x6= np.mean(X6)\n",
    "mean_y6= np.mean(Y6)\n",
    "numer =0 \n",
    "denom =0\n",
    "\n",
    "m6 = len(X6)\n",
    "for i in range(m6):\n",
    "    numer += (X6[i]-mean_x6)*(Y6[i]-mean_y6)\n",
    "    denom += (X6[i]-mean_x6) **2\n",
    "b1_6 = numer  / denom\n",
    "b0_6 = mean_y6 -(b1_6*mean_x6)\n",
    "\n",
    "print(b1_6,b0_6)"
   ]
  },
  {
   "cell_type": "code",
   "execution_count": 764,
   "id": "672675d0-821f-4e1b-8b1f-c857730d151b",
   "metadata": {
    "tags": []
   },
   "outputs": [
    {
     "data": {
      "text/plain": [
       "24.896338317030313"
      ]
     },
     "execution_count": 764,
     "metadata": {},
     "output_type": "execute_result"
    }
   ],
   "source": [
    "x6 = 2024\n",
    "y6 =(b1_6*x6)+ b0_6\n",
    "y6"
   ]
  },
  {
   "cell_type": "code",
   "execution_count": 841,
   "id": "1abda448-0f49-4df2-8fbf-4b05c7a6a0df",
   "metadata": {
    "tags": []
   },
   "outputs": [
    {
     "data": {
      "text/html": [
       "<div>\n",
       "<style scoped>\n",
       "    .dataframe tbody tr th:only-of-type {\n",
       "        vertical-align: middle;\n",
       "    }\n",
       "\n",
       "    .dataframe tbody tr th {\n",
       "        vertical-align: top;\n",
       "    }\n",
       "\n",
       "    .dataframe thead th {\n",
       "        text-align: right;\n",
       "    }\n",
       "</style>\n",
       "<table border=\"1\" class=\"dataframe\">\n",
       "  <thead>\n",
       "    <tr style=\"text-align: right;\">\n",
       "      <th></th>\n",
       "      <th>State</th>\n",
       "      <th>Year</th>\n",
       "      <th>Avg(avg rain)</th>\n",
       "    </tr>\n",
       "  </thead>\n",
       "  <tbody>\n",
       "    <tr>\n",
       "      <th>0</th>\n",
       "      <td>Gujarat</td>\n",
       "      <td>2024</td>\n",
       "      <td>24.896338</td>\n",
       "    </tr>\n",
       "    <tr>\n",
       "      <th>0</th>\n",
       "      <td>Gujarat</td>\n",
       "      <td>2023</td>\n",
       "      <td>15.768252</td>\n",
       "    </tr>\n",
       "    <tr>\n",
       "      <th>1</th>\n",
       "      <td>Gujarat</td>\n",
       "      <td>2022</td>\n",
       "      <td>19.149504</td>\n",
       "    </tr>\n",
       "    <tr>\n",
       "      <th>2</th>\n",
       "      <td>Gujarat</td>\n",
       "      <td>2021</td>\n",
       "      <td>12.323200</td>\n",
       "    </tr>\n",
       "    <tr>\n",
       "      <th>3</th>\n",
       "      <td>Gujarat</td>\n",
       "      <td>2020</td>\n",
       "      <td>0.893332</td>\n",
       "    </tr>\n",
       "  </tbody>\n",
       "</table>\n",
       "</div>"
      ],
      "text/plain": [
       "     State  Year  Avg(avg rain)\n",
       "0  Gujarat  2024      24.896338\n",
       "0  Gujarat  2023      15.768252\n",
       "1  Gujarat  2022      19.149504\n",
       "2  Gujarat  2021      12.323200\n",
       "3  Gujarat  2020       0.893332"
      ]
     },
     "execution_count": 841,
     "metadata": {},
     "output_type": "execute_result"
    }
   ],
   "source": [
    "gj_pd1 = pd.DataFrame({\"State\":[\"Gujarat\"],\"Year\":[2024],\"Avg(avg rain)\":[y6]})\n",
    "frames6= [gj_pd1,GJ_FRAME]\n",
    "GJ_FRAMEp= pd.concat(frames6)\n",
    "GJ_FRAMEp"
   ]
  },
  {
   "cell_type": "code",
   "execution_count": 842,
   "id": "4043e6e2-15ba-4e97-9d02-0325e3ebd221",
   "metadata": {
    "tags": []
   },
   "outputs": [
    {
     "name": "stdout",
     "output_type": "stream",
     "text": [
      "286.0988577693 -576694.0004809942\n"
     ]
    }
   ],
   "source": [
    "X7= AP_TFRAME['Year'].values\n",
    "Y7= AP_TFRAME['Total avg rain'].values\n",
    "mean_x7= np.mean(X7)\n",
    "mean_y7= np.mean(Y7)\n",
    "numer =0 \n",
    "denom =0\n",
    "\n",
    "m7 = len(X7)\n",
    "for i in range(m7):\n",
    "    numer += (X7[i]-mean_x7)*(Y7[i]-mean_y7)\n",
    "    denom += (X7[i]-mean_x7) **2\n",
    "b1_7 = numer  / denom\n",
    "b0_7 = mean_y7 -(b1_7*mean_x7)\n",
    "\n",
    "print(b1_7,b0_7)"
   ]
  },
  {
   "cell_type": "code",
   "execution_count": 843,
   "id": "06b69dc6-692c-4103-a64a-cdd173389cec",
   "metadata": {
    "tags": []
   },
   "outputs": [
    {
     "data": {
      "text/plain": [
       "2370.08764406899"
      ]
     },
     "execution_count": 843,
     "metadata": {},
     "output_type": "execute_result"
    }
   ],
   "source": [
    "x7 = 2024\n",
    "y7 = (b1_7*x7)+b0_7\n",
    "y7"
   ]
  },
  {
   "cell_type": "code",
   "execution_count": 844,
   "id": "5b497789-dd76-45c4-8fb3-926caf6877a9",
   "metadata": {
    "tags": []
   },
   "outputs": [
    {
     "data": {
      "text/html": [
       "<div>\n",
       "<style scoped>\n",
       "    .dataframe tbody tr th:only-of-type {\n",
       "        vertical-align: middle;\n",
       "    }\n",
       "\n",
       "    .dataframe tbody tr th {\n",
       "        vertical-align: top;\n",
       "    }\n",
       "\n",
       "    .dataframe thead th {\n",
       "        text-align: right;\n",
       "    }\n",
       "</style>\n",
       "<table border=\"1\" class=\"dataframe\">\n",
       "  <thead>\n",
       "    <tr style=\"text-align: right;\">\n",
       "      <th></th>\n",
       "      <th>State</th>\n",
       "      <th>Year</th>\n",
       "      <th>Total avg rain</th>\n",
       "    </tr>\n",
       "  </thead>\n",
       "  <tbody>\n",
       "    <tr>\n",
       "      <th>0</th>\n",
       "      <td>A.P</td>\n",
       "      <td>2024</td>\n",
       "      <td>2370.087644</td>\n",
       "    </tr>\n",
       "    <tr>\n",
       "      <th>0</th>\n",
       "      <td>AP</td>\n",
       "      <td>2023</td>\n",
       "      <td>1400.098807</td>\n",
       "    </tr>\n",
       "    <tr>\n",
       "      <th>1</th>\n",
       "      <td>AP</td>\n",
       "      <td>2022</td>\n",
       "      <td>2210.377639</td>\n",
       "    </tr>\n",
       "    <tr>\n",
       "      <th>2</th>\n",
       "      <td>AP</td>\n",
       "      <td>2021</td>\n",
       "      <td>2738.485589</td>\n",
       "    </tr>\n",
       "    <tr>\n",
       "      <th>3</th>\n",
       "      <td>AP</td>\n",
       "      <td>2020</td>\n",
       "      <td>270.399964</td>\n",
       "    </tr>\n",
       "  </tbody>\n",
       "</table>\n",
       "</div>"
      ],
      "text/plain": [
       "  State  Year  Total avg rain\n",
       "0   A.P  2024     2370.087644\n",
       "0    AP  2023     1400.098807\n",
       "1    AP  2022     2210.377639\n",
       "2    AP  2021     2738.485589\n",
       "3    AP  2020      270.399964"
      ]
     },
     "execution_count": 844,
     "metadata": {},
     "output_type": "execute_result"
    }
   ],
   "source": [
    "ap_pd2 = pd.DataFrame({\"State\":[\"A.P\"],\"Year\":[2024],\"Total avg rain\":[y7]})\n",
    "frames7= [ap_pd2,AP_TFRAME]\n",
    "AP_TFRAMEp= pd.concat(frames7)\n",
    "AP_TFRAMEp"
   ]
  },
  {
   "cell_type": "code",
   "execution_count": 845,
   "id": "79fd81d3-6eca-40da-9409-32fca235de3e",
   "metadata": {
    "tags": []
   },
   "outputs": [
    {
     "name": "stdout",
     "output_type": "stream",
     "text": [
      "4015.610446979 -8104587.430534736\n"
     ]
    }
   ],
   "source": [
    "X8= MH_TFRAME['Year'].values\n",
    "Y8= MH_TFRAME['Total(avg rain)'].values\n",
    "mean_x8= np.mean(X8)\n",
    "mean_y8= np.mean(Y8)\n",
    "numer =0 \n",
    "denom =0\n",
    "\n",
    "m8 = len(X8)\n",
    "for i in range(m8):\n",
    "    numer += (X8[i]-mean_x8)*(Y8[i]-mean_y8)\n",
    "    denom += (X8[i]-mean_x8) **2\n",
    "b1_8 = numer  / denom\n",
    "b0_8 = mean_y8 -(b1_8*mean_x8)\n",
    "\n",
    "print(b1_8,b0_8)"
   ]
  },
  {
   "cell_type": "code",
   "execution_count": 846,
   "id": "1eac7325-80f7-4921-8e53-4521bc360dd3",
   "metadata": {
    "tags": []
   },
   "outputs": [
    {
     "data": {
      "text/plain": [
       "23008.114150759764"
      ]
     },
     "execution_count": 846,
     "metadata": {},
     "output_type": "execute_result"
    }
   ],
   "source": [
    "x8 =2024\n",
    "y8 = b1_8*x8 + b0_8\n",
    "y8"
   ]
  },
  {
   "cell_type": "code",
   "execution_count": 848,
   "id": "c2b6a5b7-59e3-4ea9-b7c3-334026b8a172",
   "metadata": {
    "tags": []
   },
   "outputs": [
    {
     "data": {
      "text/html": [
       "<div>\n",
       "<style scoped>\n",
       "    .dataframe tbody tr th:only-of-type {\n",
       "        vertical-align: middle;\n",
       "    }\n",
       "\n",
       "    .dataframe tbody tr th {\n",
       "        vertical-align: top;\n",
       "    }\n",
       "\n",
       "    .dataframe thead th {\n",
       "        text-align: right;\n",
       "    }\n",
       "</style>\n",
       "<table border=\"1\" class=\"dataframe\">\n",
       "  <thead>\n",
       "    <tr style=\"text-align: right;\">\n",
       "      <th></th>\n",
       "      <th>State</th>\n",
       "      <th>Year</th>\n",
       "      <th>Total(avg rain)</th>\n",
       "    </tr>\n",
       "  </thead>\n",
       "  <tbody>\n",
       "    <tr>\n",
       "      <th>0</th>\n",
       "      <td>Maharashtra</td>\n",
       "      <td>2024</td>\n",
       "      <td>23008.114151</td>\n",
       "    </tr>\n",
       "    <tr>\n",
       "      <th>0</th>\n",
       "      <td>Maharastra</td>\n",
       "      <td>2023</td>\n",
       "      <td>12397.348808</td>\n",
       "    </tr>\n",
       "    <tr>\n",
       "      <th>1</th>\n",
       "      <td>Maharastra</td>\n",
       "      <td>2022</td>\n",
       "      <td>21979.864357</td>\n",
       "    </tr>\n",
       "    <tr>\n",
       "      <th>2</th>\n",
       "      <td>Maharastra</td>\n",
       "      <td>2021</td>\n",
       "      <td>16740.805297</td>\n",
       "    </tr>\n",
       "    <tr>\n",
       "      <th>3</th>\n",
       "      <td>Maharastra</td>\n",
       "      <td>2020</td>\n",
       "      <td>758.333671</td>\n",
       "    </tr>\n",
       "  </tbody>\n",
       "</table>\n",
       "</div>"
      ],
      "text/plain": [
       "         State  Year  Total(avg rain)\n",
       "0  Maharashtra  2024     23008.114151\n",
       "0   Maharastra  2023     12397.348808\n",
       "1   Maharastra  2022     21979.864357\n",
       "2   Maharastra  2021     16740.805297\n",
       "3   Maharastra  2020       758.333671"
      ]
     },
     "execution_count": 848,
     "metadata": {},
     "output_type": "execute_result"
    }
   ],
   "source": [
    "mh_pd2 = pd.DataFrame({\"State\":[\"Maharashtra\"],\"Year\":[2024],\"Total(avg rain)\":[y8]})\n",
    "frames8= [mh_pd2,MH_TFRAME]\n",
    "MH_TFRAMEp= pd.concat(frames8)\n",
    "MH_TFRAMEp"
   ]
  },
  {
   "cell_type": "code",
   "execution_count": 849,
   "id": "385c0848-a8ac-428c-bdd2-860766b9fab3",
   "metadata": {
    "tags": []
   },
   "outputs": [
    {
     "name": "stdout",
     "output_type": "stream",
     "text": [
      "478.67222754593 -964876.4229740587\n"
     ]
    }
   ],
   "source": [
    "X9= TN_TFRAME['Year'].values\n",
    "Y9= TN_TFRAME['Total(avg rain)'].values\n",
    "mean_x9= np.mean(X9)\n",
    "mean_y9= np.mean(Y9)\n",
    "numer =0 \n",
    "denom =0\n",
    "\n",
    "m9 = len(X9)\n",
    "for i in range(m9):\n",
    "    numer += (X9[i]-mean_x9)*(Y9[i]-mean_y9)\n",
    "    denom += (X9[i]-mean_x9) **2\n",
    "b1_9 = numer  / denom\n",
    "b0_9 = mean_y9 -(b1_9*mean_x9)\n",
    "\n",
    "print(b1_9,b0_9)"
   ]
  },
  {
   "cell_type": "code",
   "execution_count": 850,
   "id": "b2be18af-c74a-4a98-a49d-4e2dfcf15190",
   "metadata": {
    "tags": []
   },
   "outputs": [
    {
     "data": {
      "text/plain": [
       "3956.1655789036304"
      ]
     },
     "execution_count": 850,
     "metadata": {},
     "output_type": "execute_result"
    }
   ],
   "source": [
    "x9 = 2024\n",
    "y9 = (b1_9*x9) + b0_9\n",
    "y9"
   ]
  },
  {
   "cell_type": "code",
   "execution_count": 851,
   "id": "0da73c92-e0ac-4469-a303-04211cd5bf92",
   "metadata": {
    "tags": []
   },
   "outputs": [
    {
     "data": {
      "text/html": [
       "<div>\n",
       "<style scoped>\n",
       "    .dataframe tbody tr th:only-of-type {\n",
       "        vertical-align: middle;\n",
       "    }\n",
       "\n",
       "    .dataframe tbody tr th {\n",
       "        vertical-align: top;\n",
       "    }\n",
       "\n",
       "    .dataframe thead th {\n",
       "        text-align: right;\n",
       "    }\n",
       "</style>\n",
       "<table border=\"1\" class=\"dataframe\">\n",
       "  <thead>\n",
       "    <tr style=\"text-align: right;\">\n",
       "      <th></th>\n",
       "      <th>State</th>\n",
       "      <th>Year</th>\n",
       "      <th>Total(avg rain)</th>\n",
       "    </tr>\n",
       "  </thead>\n",
       "  <tbody>\n",
       "    <tr>\n",
       "      <th>0</th>\n",
       "      <td>Tamil Nadu</td>\n",
       "      <td>2024</td>\n",
       "      <td>3956.165579</td>\n",
       "    </tr>\n",
       "    <tr>\n",
       "      <th>0</th>\n",
       "      <td>Tamil Nadu</td>\n",
       "      <td>2023</td>\n",
       "      <td>1949.910215</td>\n",
       "    </tr>\n",
       "    <tr>\n",
       "      <th>1</th>\n",
       "      <td>Tamil Nadu</td>\n",
       "      <td>2022</td>\n",
       "      <td>4298.754143</td>\n",
       "    </tr>\n",
       "    <tr>\n",
       "      <th>2</th>\n",
       "      <td>Tamil Nadu</td>\n",
       "      <td>2021</td>\n",
       "      <td>4503.032269</td>\n",
       "    </tr>\n",
       "    <tr>\n",
       "      <th>3</th>\n",
       "      <td>Tamil Nadu</td>\n",
       "      <td>2020</td>\n",
       "      <td>286.243414</td>\n",
       "    </tr>\n",
       "  </tbody>\n",
       "</table>\n",
       "</div>"
      ],
      "text/plain": [
       "        State  Year  Total(avg rain)\n",
       "0  Tamil Nadu  2024      3956.165579\n",
       "0  Tamil Nadu  2023      1949.910215\n",
       "1  Tamil Nadu  2022      4298.754143\n",
       "2  Tamil Nadu  2021      4503.032269\n",
       "3  Tamil Nadu  2020       286.243414"
      ]
     },
     "execution_count": 851,
     "metadata": {},
     "output_type": "execute_result"
    }
   ],
   "source": [
    "tn_pd2 = pd.DataFrame({\"State\":[\"Tamil Nadu\"],\"Year\":[2024],\"Total(avg rain)\":[y9]})\n",
    "frames9= [tn_pd2,TN_TFRAME]\n",
    "TN_TFRAMEp= pd.concat(frames9)\n",
    "TN_TFRAMEp"
   ]
  },
  {
   "cell_type": "code",
   "execution_count": 852,
   "id": "31a3497e-400a-443a-b7a7-b13df913cd70",
   "metadata": {
    "tags": []
   },
   "outputs": [
    {
     "name": "stdout",
     "output_type": "stream",
     "text": [
      "1554.982160199 -3137769.362738457\n"
     ]
    }
   ],
   "source": [
    "X10= KL_TFRAME['Year'].values\n",
    "Y10= KL_TFRAME['Total(avg rain)'].values\n",
    "mean_x10= np.mean(X10)\n",
    "mean_y10= np.mean(Y10)\n",
    "numer =0 \n",
    "denom =0\n",
    "\n",
    "m10 = len(X10)\n",
    "for i in range(m10):\n",
    "    numer += (X10[i]-mean_x10)*(Y10[i]-mean_y10)\n",
    "    denom += (X10[i]-mean_x10) **2\n",
    "b1_10 = numer  / denom\n",
    "b0_10 = mean_y10 -(b1_10*mean_x10)\n",
    "\n",
    "print(b1_10,b0_10)"
   ]
  },
  {
   "cell_type": "code",
   "execution_count": 853,
   "id": "b110b25b-9110-40f6-b042-24caf28e4e82",
   "metadata": {
    "tags": []
   },
   "outputs": [
    {
     "data": {
      "text/plain": [
       "9514.529504318722"
      ]
     },
     "execution_count": 853,
     "metadata": {},
     "output_type": "execute_result"
    }
   ],
   "source": [
    "x10= 2024\n",
    "y10 = (b1_10*x10) + b0_10\n",
    "y10"
   ]
  },
  {
   "cell_type": "code",
   "execution_count": 854,
   "id": "ed8b03ee-e43c-429a-b5e3-4479ec7dca51",
   "metadata": {
    "tags": []
   },
   "outputs": [
    {
     "data": {
      "text/html": [
       "<div>\n",
       "<style scoped>\n",
       "    .dataframe tbody tr th:only-of-type {\n",
       "        vertical-align: middle;\n",
       "    }\n",
       "\n",
       "    .dataframe tbody tr th {\n",
       "        vertical-align: top;\n",
       "    }\n",
       "\n",
       "    .dataframe thead th {\n",
       "        text-align: right;\n",
       "    }\n",
       "</style>\n",
       "<table border=\"1\" class=\"dataframe\">\n",
       "  <thead>\n",
       "    <tr style=\"text-align: right;\">\n",
       "      <th></th>\n",
       "      <th>State</th>\n",
       "      <th>Year</th>\n",
       "      <th>Total(avg rain)</th>\n",
       "    </tr>\n",
       "  </thead>\n",
       "  <tbody>\n",
       "    <tr>\n",
       "      <th>0</th>\n",
       "      <td>Kerala</td>\n",
       "      <td>2024</td>\n",
       "      <td>9514.529504</td>\n",
       "    </tr>\n",
       "    <tr>\n",
       "      <th>0</th>\n",
       "      <td>Kerala</td>\n",
       "      <td>2023</td>\n",
       "      <td>5060.319047</td>\n",
       "    </tr>\n",
       "    <tr>\n",
       "      <th>1</th>\n",
       "      <td>Kerala</td>\n",
       "      <td>2022</td>\n",
       "      <td>9385.189496</td>\n",
       "    </tr>\n",
       "    <tr>\n",
       "      <th>2</th>\n",
       "      <td>Kerala</td>\n",
       "      <td>2021</td>\n",
       "      <td>7586.019293</td>\n",
       "    </tr>\n",
       "    <tr>\n",
       "      <th>3</th>\n",
       "      <td>Kerala</td>\n",
       "      <td>2020</td>\n",
       "      <td>476.768580</td>\n",
       "    </tr>\n",
       "  </tbody>\n",
       "</table>\n",
       "</div>"
      ],
      "text/plain": [
       "    State  Year  Total(avg rain)\n",
       "0  Kerala  2024      9514.529504\n",
       "0  Kerala  2023      5060.319047\n",
       "1  Kerala  2022      9385.189496\n",
       "2  Kerala  2021      7586.019293\n",
       "3  Kerala  2020       476.768580"
      ]
     },
     "execution_count": 854,
     "metadata": {},
     "output_type": "execute_result"
    }
   ],
   "source": [
    "kl_pd2 = pd.DataFrame({\"State\":[\"Kerala\"],\"Year\":[2024],\"Total(avg rain)\":[y10]})\n",
    "frames10=[kl_pd2,KL_TFRAME]\n",
    "KL_TFRAMEp= pd.concat(frames10)\n",
    "KL_TFRAMEp"
   ]
  },
  {
   "cell_type": "code",
   "execution_count": 778,
   "id": "4e64ee21-e8a3-4bbb-8419-74a220190aee",
   "metadata": {
    "tags": []
   },
   "outputs": [
    {
     "name": "stdout",
     "output_type": "stream",
     "text": [
      "695.9880025835998 -1405002.017684701\n"
     ]
    }
   ],
   "source": [
    "X11= GA_TFRAME['Year'].values\n",
    "Y11= GA_TFRAME['Total(avg rain)'].values\n",
    "mean_x11= np.mean(X11)\n",
    "mean_y11= np.mean(Y11)\n",
    "numer =0 \n",
    "denom =0\n",
    "\n",
    "m11 = len(X11)\n",
    "for i in range(m11):\n",
    "    numer += (X11[i]-mean_x11)*(Y11[i]-mean_y11)\n",
    "    denom += (X11[i]-mean_x11) **2\n",
    "b1_11 = numer  / denom\n",
    "b0_11 = mean_y11 -(b1_11*mean_x11)\n",
    "\n",
    "print(b1_11,b0_11)"
   ]
  },
  {
   "cell_type": "code",
   "execution_count": 779,
   "id": "7820fd6e-9ebe-4761-8856-276d5b984d09",
   "metadata": {
    "tags": []
   },
   "outputs": [
    {
     "data": {
      "text/plain": [
       "3677.699544505216"
      ]
     },
     "execution_count": 779,
     "metadata": {},
     "output_type": "execute_result"
    }
   ],
   "source": [
    "x11 = 2024\n",
    "y11 = (b1_11*x11)+b0_11\n",
    "y11"
   ]
  },
  {
   "cell_type": "code",
   "execution_count": 855,
   "id": "2e8c402e-8d4e-455c-880b-f19328e8cf94",
   "metadata": {
    "tags": []
   },
   "outputs": [
    {
     "data": {
      "text/html": [
       "<div>\n",
       "<style scoped>\n",
       "    .dataframe tbody tr th:only-of-type {\n",
       "        vertical-align: middle;\n",
       "    }\n",
       "\n",
       "    .dataframe tbody tr th {\n",
       "        vertical-align: top;\n",
       "    }\n",
       "\n",
       "    .dataframe thead th {\n",
       "        text-align: right;\n",
       "    }\n",
       "</style>\n",
       "<table border=\"1\" class=\"dataframe\">\n",
       "  <thead>\n",
       "    <tr style=\"text-align: right;\">\n",
       "      <th></th>\n",
       "      <th>State</th>\n",
       "      <th>Year</th>\n",
       "      <th>Total(avg rain)</th>\n",
       "    </tr>\n",
       "  </thead>\n",
       "  <tbody>\n",
       "    <tr>\n",
       "      <th>0</th>\n",
       "      <td>Goa</td>\n",
       "      <td>2024</td>\n",
       "      <td>3677.699545</td>\n",
       "    </tr>\n",
       "    <tr>\n",
       "      <th>0</th>\n",
       "      <td>Goa</td>\n",
       "      <td>2023</td>\n",
       "      <td>2205.637092</td>\n",
       "    </tr>\n",
       "    <tr>\n",
       "      <th>1</th>\n",
       "      <td>Goa</td>\n",
       "      <td>2022</td>\n",
       "      <td>2951.034767</td>\n",
       "    </tr>\n",
       "    <tr>\n",
       "      <th>2</th>\n",
       "      <td>Goa</td>\n",
       "      <td>2021</td>\n",
       "      <td>2587.336432</td>\n",
       "    </tr>\n",
       "    <tr>\n",
       "      <th>3</th>\n",
       "      <td>Goa</td>\n",
       "      <td>2020</td>\n",
       "      <td>6.909861</td>\n",
       "    </tr>\n",
       "  </tbody>\n",
       "</table>\n",
       "</div>"
      ],
      "text/plain": [
       "  State  Year  Total(avg rain)\n",
       "0   Goa  2024      3677.699545\n",
       "0   Goa  2023      2205.637092\n",
       "1   Goa  2022      2951.034767\n",
       "2   Goa  2021      2587.336432\n",
       "3   Goa  2020         6.909861"
      ]
     },
     "execution_count": 855,
     "metadata": {},
     "output_type": "execute_result"
    }
   ],
   "source": [
    "ga_pd2 = pd.DataFrame({\"State\":[\"Goa\"],\"Year\":[2024],\"Total(avg rain)\":[y11]})\n",
    "frames11=[ga_pd2,GA_TFRAME]\n",
    "GA_TFRAMEp= pd.concat(frames11)\n",
    "GA_TFRAMEp"
   ]
  },
  {
   "cell_type": "code",
   "execution_count": 856,
   "id": "c7295959-b49f-4b2f-981c-62bfd894e183",
   "metadata": {
    "tags": []
   },
   "outputs": [
    {
     "name": "stdout",
     "output_type": "stream",
     "text": [
      "4411.5690680846 -8909137.475967038\n"
     ]
    }
   ],
   "source": [
    "X12= GJ_TFRAME['Year'].values\n",
    "Y12= GJ_TFRAME['Total(avg rain)'].values\n",
    "mean_x12= np.mean(X12)\n",
    "mean_y12= np.mean(Y12)\n",
    "numer =0 \n",
    "denom =0\n",
    "\n",
    "m12 = len(X12)\n",
    "for i in range(m12):\n",
    "    numer += (X12[i]-mean_x12)*(Y12[i]-mean_y12)\n",
    "    denom += (X12[i]-mean_x12) **2\n",
    "b1_12 = numer  / denom\n",
    "b0_12 = mean_y12 -(b1_12*mean_x12)\n",
    "\n",
    "print(b1_12,b0_12)"
   ]
  },
  {
   "cell_type": "code",
   "execution_count": 857,
   "id": "6733a17e-9b28-43e8-8af1-3b9380131e37",
   "metadata": {
    "tags": []
   },
   "outputs": [
    {
     "data": {
      "text/plain": [
       "19878.317836191505"
      ]
     },
     "execution_count": 857,
     "metadata": {},
     "output_type": "execute_result"
    }
   ],
   "source": [
    "x12= 2024\n",
    "y12 = (b1_12*x12)+ b0_12\n",
    "y12"
   ]
  },
  {
   "cell_type": "code",
   "execution_count": 858,
   "id": "b6b29af5-ccfd-4537-8797-d02053eca05c",
   "metadata": {
    "tags": []
   },
   "outputs": [
    {
     "data": {
      "text/html": [
       "<div>\n",
       "<style scoped>\n",
       "    .dataframe tbody tr th:only-of-type {\n",
       "        vertical-align: middle;\n",
       "    }\n",
       "\n",
       "    .dataframe tbody tr th {\n",
       "        vertical-align: top;\n",
       "    }\n",
       "\n",
       "    .dataframe thead th {\n",
       "        text-align: right;\n",
       "    }\n",
       "</style>\n",
       "<table border=\"1\" class=\"dataframe\">\n",
       "  <thead>\n",
       "    <tr style=\"text-align: right;\">\n",
       "      <th></th>\n",
       "      <th>State</th>\n",
       "      <th>Year</th>\n",
       "      <th>Total(avg rain)</th>\n",
       "    </tr>\n",
       "  </thead>\n",
       "  <tbody>\n",
       "    <tr>\n",
       "      <th>0</th>\n",
       "      <td>Gujarat</td>\n",
       "      <td>2024</td>\n",
       "      <td>19878.317836</td>\n",
       "    </tr>\n",
       "    <tr>\n",
       "      <th>0</th>\n",
       "      <td>Gujarat</td>\n",
       "      <td>2023</td>\n",
       "      <td>10769.716071</td>\n",
       "    </tr>\n",
       "    <tr>\n",
       "      <th>1</th>\n",
       "      <td>Gujarat</td>\n",
       "      <td>2022</td>\n",
       "      <td>18287.776731</td>\n",
       "    </tr>\n",
       "    <tr>\n",
       "      <th>2</th>\n",
       "      <td>Gujarat</td>\n",
       "      <td>2021</td>\n",
       "      <td>6269.514660</td>\n",
       "    </tr>\n",
       "    <tr>\n",
       "      <th>3</th>\n",
       "      <td>Gujarat</td>\n",
       "      <td>2020</td>\n",
       "      <td>70.573202</td>\n",
       "    </tr>\n",
       "  </tbody>\n",
       "</table>\n",
       "</div>"
      ],
      "text/plain": [
       "     State  Year  Total(avg rain)\n",
       "0  Gujarat  2024     19878.317836\n",
       "0  Gujarat  2023     10769.716071\n",
       "1  Gujarat  2022     18287.776731\n",
       "2  Gujarat  2021      6269.514660\n",
       "3  Gujarat  2020        70.573202"
      ]
     },
     "execution_count": 858,
     "metadata": {},
     "output_type": "execute_result"
    }
   ],
   "source": [
    "gj_pd2 = pd.DataFrame({\"State\":[\"Gujarat\"],\"Year\":[2024],\"Total(avg rain)\":[y12]})\n",
    "frames12=[gj_pd2,GJ_TFRAME]\n",
    "GJ_TFRAMEp= pd.concat(frames12)\n",
    "GJ_TFRAMEp"
   ]
  },
  {
   "cell_type": "code",
   "execution_count": 859,
   "id": "273a1a52-150e-4caa-a68e-d9273c6bc98e",
   "metadata": {
    "tags": []
   },
   "outputs": [
    {
     "data": {
      "text/html": [
       "<div>\n",
       "<style scoped>\n",
       "    .dataframe tbody tr th:only-of-type {\n",
       "        vertical-align: middle;\n",
       "    }\n",
       "\n",
       "    .dataframe tbody tr th {\n",
       "        vertical-align: top;\n",
       "    }\n",
       "\n",
       "    .dataframe thead th {\n",
       "        text-align: right;\n",
       "    }\n",
       "</style>\n",
       "<table border=\"1\" class=\"dataframe\">\n",
       "  <thead>\n",
       "    <tr style=\"text-align: right;\">\n",
       "      <th></th>\n",
       "      <th>State</th>\n",
       "      <th>Year</th>\n",
       "      <th>Avg(avgRain)</th>\n",
       "    </tr>\n",
       "  </thead>\n",
       "  <tbody>\n",
       "    <tr>\n",
       "      <th>0</th>\n",
       "      <td>A.P</td>\n",
       "      <td>2024</td>\n",
       "      <td>7.238561</td>\n",
       "    </tr>\n",
       "    <tr>\n",
       "      <th>0</th>\n",
       "      <td>A.P</td>\n",
       "      <td>2023</td>\n",
       "      <td>5.128567</td>\n",
       "    </tr>\n",
       "    <tr>\n",
       "      <th>1</th>\n",
       "      <td>A.P</td>\n",
       "      <td>2022</td>\n",
       "      <td>5.987308</td>\n",
       "    </tr>\n",
       "    <tr>\n",
       "      <th>2</th>\n",
       "      <td>A.P</td>\n",
       "      <td>2021</td>\n",
       "      <td>7.244671</td>\n",
       "    </tr>\n",
       "    <tr>\n",
       "      <th>3</th>\n",
       "      <td>A.P</td>\n",
       "      <td>2020</td>\n",
       "      <td>1.767320</td>\n",
       "    </tr>\n",
       "  </tbody>\n",
       "</table>\n",
       "</div>"
      ],
      "text/plain": [
       "  State  Year  Avg(avgRain)\n",
       "0   A.P  2024      7.238561\n",
       "0   A.P  2023      5.128567\n",
       "1   A.P  2022      5.987308\n",
       "2   A.P  2021      7.244671\n",
       "3   A.P  2020      1.767320"
      ]
     },
     "execution_count": 859,
     "metadata": {},
     "output_type": "execute_result"
    }
   ],
   "source": [
    "AP_FRAMEp"
   ]
  },
  {
   "cell_type": "code",
   "execution_count": 860,
   "id": "33498199-3e84-49ed-bdce-680a97a38117",
   "metadata": {
    "tags": []
   },
   "outputs": [
    {
     "data": {
      "text/html": [
       "<div>\n",
       "<style scoped>\n",
       "    .dataframe tbody tr th:only-of-type {\n",
       "        vertical-align: middle;\n",
       "    }\n",
       "\n",
       "    .dataframe tbody tr th {\n",
       "        vertical-align: top;\n",
       "    }\n",
       "\n",
       "    .dataframe thead th {\n",
       "        text-align: right;\n",
       "    }\n",
       "</style>\n",
       "<table border=\"1\" class=\"dataframe\">\n",
       "  <thead>\n",
       "    <tr style=\"text-align: right;\">\n",
       "      <th></th>\n",
       "      <th>State</th>\n",
       "      <th>Year</th>\n",
       "      <th>Avg(avg rainfall)</th>\n",
       "    </tr>\n",
       "  </thead>\n",
       "  <tbody>\n",
       "    <tr>\n",
       "      <th>0</th>\n",
       "      <td>Maharastra</td>\n",
       "      <td>2024</td>\n",
       "      <td>26.027490</td>\n",
       "    </tr>\n",
       "    <tr>\n",
       "      <th>0</th>\n",
       "      <td>Maharastra</td>\n",
       "      <td>2023</td>\n",
       "      <td>16.398610</td>\n",
       "    </tr>\n",
       "    <tr>\n",
       "      <th>1</th>\n",
       "      <td>Maharastra</td>\n",
       "      <td>2022</td>\n",
       "      <td>21.093920</td>\n",
       "    </tr>\n",
       "    <tr>\n",
       "      <th>2</th>\n",
       "      <td>Maharastra</td>\n",
       "      <td>2021</td>\n",
       "      <td>15.645612</td>\n",
       "    </tr>\n",
       "    <tr>\n",
       "      <th>3</th>\n",
       "      <td>Maharastra</td>\n",
       "      <td>2020</td>\n",
       "      <td>1.836159</td>\n",
       "    </tr>\n",
       "  </tbody>\n",
       "</table>\n",
       "</div>"
      ],
      "text/plain": [
       "        State  Year  Avg(avg rainfall)\n",
       "0  Maharastra  2024          26.027490\n",
       "0  Maharastra  2023          16.398610\n",
       "1  Maharastra  2022          21.093920\n",
       "2  Maharastra  2021          15.645612\n",
       "3  Maharastra  2020           1.836159"
      ]
     },
     "execution_count": 860,
     "metadata": {},
     "output_type": "execute_result"
    }
   ],
   "source": [
    "MH_FRAMEp"
   ]
  },
  {
   "cell_type": "code",
   "execution_count": 861,
   "id": "519d6f88-2c2c-492c-893f-40ce3fe5f2d2",
   "metadata": {
    "tags": []
   },
   "outputs": [
    {
     "data": {
      "text/html": [
       "<div>\n",
       "<style scoped>\n",
       "    .dataframe tbody tr th:only-of-type {\n",
       "        vertical-align: middle;\n",
       "    }\n",
       "\n",
       "    .dataframe tbody tr th {\n",
       "        vertical-align: top;\n",
       "    }\n",
       "\n",
       "    .dataframe thead th {\n",
       "        text-align: right;\n",
       "    }\n",
       "</style>\n",
       "<table border=\"1\" class=\"dataframe\">\n",
       "  <thead>\n",
       "    <tr style=\"text-align: right;\">\n",
       "      <th></th>\n",
       "      <th>State</th>\n",
       "      <th>Year</th>\n",
       "      <th>Avg(Avg Rainfall)</th>\n",
       "    </tr>\n",
       "  </thead>\n",
       "  <tbody>\n",
       "    <tr>\n",
       "      <th>0</th>\n",
       "      <td>Tamil Nadu</td>\n",
       "      <td>2024</td>\n",
       "      <td>4.257981</td>\n",
       "    </tr>\n",
       "    <tr>\n",
       "      <th>0</th>\n",
       "      <td>Tamil Nadu</td>\n",
       "      <td>2023</td>\n",
       "      <td>2.715752</td>\n",
       "    </tr>\n",
       "    <tr>\n",
       "      <th>1</th>\n",
       "      <td>Tamil Nadu</td>\n",
       "      <td>2022</td>\n",
       "      <td>4.992746</td>\n",
       "    </tr>\n",
       "    <tr>\n",
       "      <th>2</th>\n",
       "      <td>Tamil Nadu</td>\n",
       "      <td>2021</td>\n",
       "      <td>5.392853</td>\n",
       "    </tr>\n",
       "    <tr>\n",
       "      <th>3</th>\n",
       "      <td>Tamil Nadu</td>\n",
       "      <td>2020</td>\n",
       "      <td>1.908289</td>\n",
       "    </tr>\n",
       "  </tbody>\n",
       "</table>\n",
       "</div>"
      ],
      "text/plain": [
       "        State  Year  Avg(Avg Rainfall)\n",
       "0  Tamil Nadu  2024           4.257981\n",
       "0  Tamil Nadu  2023           2.715752\n",
       "1  Tamil Nadu  2022           4.992746\n",
       "2  Tamil Nadu  2021           5.392853\n",
       "3  Tamil Nadu  2020           1.908289"
      ]
     },
     "execution_count": 861,
     "metadata": {},
     "output_type": "execute_result"
    }
   ],
   "source": [
    "TN_FRAMEp"
   ]
  },
  {
   "cell_type": "code",
   "execution_count": 862,
   "id": "d19e5dff-d543-4830-a7c0-bd663f383200",
   "metadata": {
    "tags": []
   },
   "outputs": [
    {
     "data": {
      "text/html": [
       "<div>\n",
       "<style scoped>\n",
       "    .dataframe tbody tr th:only-of-type {\n",
       "        vertical-align: middle;\n",
       "    }\n",
       "\n",
       "    .dataframe tbody tr th {\n",
       "        vertical-align: top;\n",
       "    }\n",
       "\n",
       "    .dataframe thead th {\n",
       "        text-align: right;\n",
       "    }\n",
       "</style>\n",
       "<table border=\"1\" class=\"dataframe\">\n",
       "  <thead>\n",
       "    <tr style=\"text-align: right;\">\n",
       "      <th></th>\n",
       "      <th>State</th>\n",
       "      <th>Year</th>\n",
       "      <th>Avg(avg rain)</th>\n",
       "    </tr>\n",
       "  </thead>\n",
       "  <tbody>\n",
       "    <tr>\n",
       "      <th>0</th>\n",
       "      <td>Kerala</td>\n",
       "      <td>2024</td>\n",
       "      <td>27.819762</td>\n",
       "    </tr>\n",
       "    <tr>\n",
       "      <th>0</th>\n",
       "      <td>Kerala</td>\n",
       "      <td>2023</td>\n",
       "      <td>17.329860</td>\n",
       "    </tr>\n",
       "    <tr>\n",
       "      <th>1</th>\n",
       "      <td>Kerala</td>\n",
       "      <td>2022</td>\n",
       "      <td>23.462974</td>\n",
       "    </tr>\n",
       "    <tr>\n",
       "      <th>2</th>\n",
       "      <td>Kerala</td>\n",
       "      <td>2021</td>\n",
       "      <td>17.641905</td>\n",
       "    </tr>\n",
       "    <tr>\n",
       "      <th>3</th>\n",
       "      <td>Kerala</td>\n",
       "      <td>2020</td>\n",
       "      <td>2.483170</td>\n",
       "    </tr>\n",
       "  </tbody>\n",
       "</table>\n",
       "</div>"
      ],
      "text/plain": [
       "    State  Year  Avg(avg rain)\n",
       "0  Kerala  2024      27.819762\n",
       "0  Kerala  2023      17.329860\n",
       "1  Kerala  2022      23.462974\n",
       "2  Kerala  2021      17.641905\n",
       "3  Kerala  2020       2.483170"
      ]
     },
     "execution_count": 862,
     "metadata": {},
     "output_type": "execute_result"
    }
   ],
   "source": [
    "KL_FRAMEp"
   ]
  },
  {
   "cell_type": "code",
   "execution_count": 863,
   "id": "50fe1114-af3a-47b3-9f41-3bf8219447b7",
   "metadata": {
    "tags": []
   },
   "outputs": [
    {
     "data": {
      "text/html": [
       "<div>\n",
       "<style scoped>\n",
       "    .dataframe tbody tr th:only-of-type {\n",
       "        vertical-align: middle;\n",
       "    }\n",
       "\n",
       "    .dataframe tbody tr th {\n",
       "        vertical-align: top;\n",
       "    }\n",
       "\n",
       "    .dataframe thead th {\n",
       "        text-align: right;\n",
       "    }\n",
       "</style>\n",
       "<table border=\"1\" class=\"dataframe\">\n",
       "  <thead>\n",
       "    <tr style=\"text-align: right;\">\n",
       "      <th></th>\n",
       "      <th>State</th>\n",
       "      <th>Year</th>\n",
       "      <th>AVG(avg rain)</th>\n",
       "    </tr>\n",
       "  </thead>\n",
       "  <tbody>\n",
       "    <tr>\n",
       "      <th>0</th>\n",
       "      <td>Goa</td>\n",
       "      <td>2024</td>\n",
       "      <td>77.609631</td>\n",
       "    </tr>\n",
       "    <tr>\n",
       "      <th>0</th>\n",
       "      <td>Goa</td>\n",
       "      <td>2023</td>\n",
       "      <td>52.515169</td>\n",
       "    </tr>\n",
       "    <tr>\n",
       "      <th>1</th>\n",
       "      <td>Goa</td>\n",
       "      <td>2022</td>\n",
       "      <td>50.879910</td>\n",
       "    </tr>\n",
       "    <tr>\n",
       "      <th>2</th>\n",
       "      <td>Goa</td>\n",
       "      <td>2021</td>\n",
       "      <td>41.731233</td>\n",
       "    </tr>\n",
       "    <tr>\n",
       "      <th>3</th>\n",
       "      <td>Goa</td>\n",
       "      <td>2020</td>\n",
       "      <td>0.690986</td>\n",
       "    </tr>\n",
       "  </tbody>\n",
       "</table>\n",
       "</div>"
      ],
      "text/plain": [
       "  State  Year  AVG(avg rain)\n",
       "0   Goa  2024      77.609631\n",
       "0   Goa  2023      52.515169\n",
       "1   Goa  2022      50.879910\n",
       "2   Goa  2021      41.731233\n",
       "3   Goa  2020       0.690986"
      ]
     },
     "execution_count": 863,
     "metadata": {},
     "output_type": "execute_result"
    }
   ],
   "source": [
    "GA_FRAMEp"
   ]
  },
  {
   "cell_type": "code",
   "execution_count": 864,
   "id": "6aa048c3-e865-4278-9363-2d18b6c26d8d",
   "metadata": {
    "tags": []
   },
   "outputs": [
    {
     "data": {
      "text/html": [
       "<div>\n",
       "<style scoped>\n",
       "    .dataframe tbody tr th:only-of-type {\n",
       "        vertical-align: middle;\n",
       "    }\n",
       "\n",
       "    .dataframe tbody tr th {\n",
       "        vertical-align: top;\n",
       "    }\n",
       "\n",
       "    .dataframe thead th {\n",
       "        text-align: right;\n",
       "    }\n",
       "</style>\n",
       "<table border=\"1\" class=\"dataframe\">\n",
       "  <thead>\n",
       "    <tr style=\"text-align: right;\">\n",
       "      <th></th>\n",
       "      <th>State</th>\n",
       "      <th>Year</th>\n",
       "      <th>Avg(avg rain)</th>\n",
       "    </tr>\n",
       "  </thead>\n",
       "  <tbody>\n",
       "    <tr>\n",
       "      <th>0</th>\n",
       "      <td>Gujarat</td>\n",
       "      <td>2024</td>\n",
       "      <td>24.896338</td>\n",
       "    </tr>\n",
       "    <tr>\n",
       "      <th>0</th>\n",
       "      <td>Gujarat</td>\n",
       "      <td>2023</td>\n",
       "      <td>15.768252</td>\n",
       "    </tr>\n",
       "    <tr>\n",
       "      <th>1</th>\n",
       "      <td>Gujarat</td>\n",
       "      <td>2022</td>\n",
       "      <td>19.149504</td>\n",
       "    </tr>\n",
       "    <tr>\n",
       "      <th>2</th>\n",
       "      <td>Gujarat</td>\n",
       "      <td>2021</td>\n",
       "      <td>12.323200</td>\n",
       "    </tr>\n",
       "    <tr>\n",
       "      <th>3</th>\n",
       "      <td>Gujarat</td>\n",
       "      <td>2020</td>\n",
       "      <td>0.893332</td>\n",
       "    </tr>\n",
       "  </tbody>\n",
       "</table>\n",
       "</div>"
      ],
      "text/plain": [
       "     State  Year  Avg(avg rain)\n",
       "0  Gujarat  2024      24.896338\n",
       "0  Gujarat  2023      15.768252\n",
       "1  Gujarat  2022      19.149504\n",
       "2  Gujarat  2021      12.323200\n",
       "3  Gujarat  2020       0.893332"
      ]
     },
     "execution_count": 864,
     "metadata": {},
     "output_type": "execute_result"
    }
   ],
   "source": [
    "GJ_FRAMEp"
   ]
  },
  {
   "cell_type": "code",
   "execution_count": 878,
   "id": "da15080f-6317-4a9b-8e08-920fffe41c3c",
   "metadata": {
    "tags": []
   },
   "outputs": [
    {
     "data": {
      "text/html": [
       "<div>\n",
       "<style scoped>\n",
       "    .dataframe tbody tr th:only-of-type {\n",
       "        vertical-align: middle;\n",
       "    }\n",
       "\n",
       "    .dataframe tbody tr th {\n",
       "        vertical-align: top;\n",
       "    }\n",
       "\n",
       "    .dataframe thead th {\n",
       "        text-align: right;\n",
       "    }\n",
       "</style>\n",
       "<table border=\"1\" class=\"dataframe\">\n",
       "  <thead>\n",
       "    <tr style=\"text-align: right;\">\n",
       "      <th></th>\n",
       "      <th>State</th>\n",
       "      <th>Year</th>\n",
       "      <th>Total_avgrain</th>\n",
       "    </tr>\n",
       "  </thead>\n",
       "  <tbody>\n",
       "    <tr>\n",
       "      <th>0</th>\n",
       "      <td>A.P</td>\n",
       "      <td>2024</td>\n",
       "      <td>2370.087644</td>\n",
       "    </tr>\n",
       "    <tr>\n",
       "      <th>0</th>\n",
       "      <td>AP</td>\n",
       "      <td>2023</td>\n",
       "      <td>1400.098807</td>\n",
       "    </tr>\n",
       "    <tr>\n",
       "      <th>1</th>\n",
       "      <td>AP</td>\n",
       "      <td>2022</td>\n",
       "      <td>2210.377639</td>\n",
       "    </tr>\n",
       "    <tr>\n",
       "      <th>2</th>\n",
       "      <td>AP</td>\n",
       "      <td>2021</td>\n",
       "      <td>2738.485589</td>\n",
       "    </tr>\n",
       "    <tr>\n",
       "      <th>3</th>\n",
       "      <td>AP</td>\n",
       "      <td>2020</td>\n",
       "      <td>270.399964</td>\n",
       "    </tr>\n",
       "  </tbody>\n",
       "</table>\n",
       "</div>"
      ],
      "text/plain": [
       "  State  Year  Total_avgrain\n",
       "0   A.P  2024    2370.087644\n",
       "0    AP  2023    1400.098807\n",
       "1    AP  2022    2210.377639\n",
       "2    AP  2021    2738.485589\n",
       "3    AP  2020     270.399964"
      ]
     },
     "execution_count": 878,
     "metadata": {},
     "output_type": "execute_result"
    }
   ],
   "source": [
    "AP_TFRAMEp= AP_TFRAMEp.rename(columns={\"Total avg rain\": \"Total_avgrain\"})\n",
    "AP_TFRAMEp"
   ]
  },
  {
   "cell_type": "code",
   "execution_count": 876,
   "id": "6d813ac3-ddde-4c00-a93b-ec0c5f6f18f2",
   "metadata": {
    "tags": []
   },
   "outputs": [
    {
     "data": {
      "text/html": [
       "<div>\n",
       "<style scoped>\n",
       "    .dataframe tbody tr th:only-of-type {\n",
       "        vertical-align: middle;\n",
       "    }\n",
       "\n",
       "    .dataframe tbody tr th {\n",
       "        vertical-align: top;\n",
       "    }\n",
       "\n",
       "    .dataframe thead th {\n",
       "        text-align: right;\n",
       "    }\n",
       "</style>\n",
       "<table border=\"1\" class=\"dataframe\">\n",
       "  <thead>\n",
       "    <tr style=\"text-align: right;\">\n",
       "      <th></th>\n",
       "      <th>State</th>\n",
       "      <th>Year</th>\n",
       "      <th>Total_avgrain</th>\n",
       "    </tr>\n",
       "  </thead>\n",
       "  <tbody>\n",
       "    <tr>\n",
       "      <th>0</th>\n",
       "      <td>Maharashtra</td>\n",
       "      <td>2024</td>\n",
       "      <td>23008.114151</td>\n",
       "    </tr>\n",
       "    <tr>\n",
       "      <th>0</th>\n",
       "      <td>Maharastra</td>\n",
       "      <td>2023</td>\n",
       "      <td>12397.348808</td>\n",
       "    </tr>\n",
       "    <tr>\n",
       "      <th>1</th>\n",
       "      <td>Maharastra</td>\n",
       "      <td>2022</td>\n",
       "      <td>21979.864357</td>\n",
       "    </tr>\n",
       "    <tr>\n",
       "      <th>2</th>\n",
       "      <td>Maharastra</td>\n",
       "      <td>2021</td>\n",
       "      <td>16740.805297</td>\n",
       "    </tr>\n",
       "    <tr>\n",
       "      <th>3</th>\n",
       "      <td>Maharastra</td>\n",
       "      <td>2020</td>\n",
       "      <td>758.333671</td>\n",
       "    </tr>\n",
       "  </tbody>\n",
       "</table>\n",
       "</div>"
      ],
      "text/plain": [
       "         State  Year  Total_avgrain\n",
       "0  Maharashtra  2024   23008.114151\n",
       "0   Maharastra  2023   12397.348808\n",
       "1   Maharastra  2022   21979.864357\n",
       "2   Maharastra  2021   16740.805297\n",
       "3   Maharastra  2020     758.333671"
      ]
     },
     "execution_count": 876,
     "metadata": {},
     "output_type": "execute_result"
    }
   ],
   "source": [
    "MH_TFRAMEp = MH_TFRAMEp.rename(columns={\"Total(avg rain)\": \"Total_avgrain\"})\n",
    "MH_TFRAMEp"
   ]
  },
  {
   "cell_type": "code",
   "execution_count": 880,
   "id": "04584f0e-8910-495c-8ba3-5f331c7b9922",
   "metadata": {
    "tags": []
   },
   "outputs": [
    {
     "data": {
      "text/html": [
       "<div>\n",
       "<style scoped>\n",
       "    .dataframe tbody tr th:only-of-type {\n",
       "        vertical-align: middle;\n",
       "    }\n",
       "\n",
       "    .dataframe tbody tr th {\n",
       "        vertical-align: top;\n",
       "    }\n",
       "\n",
       "    .dataframe thead th {\n",
       "        text-align: right;\n",
       "    }\n",
       "</style>\n",
       "<table border=\"1\" class=\"dataframe\">\n",
       "  <thead>\n",
       "    <tr style=\"text-align: right;\">\n",
       "      <th></th>\n",
       "      <th>State</th>\n",
       "      <th>Year</th>\n",
       "      <th>Total_avgrain</th>\n",
       "    </tr>\n",
       "  </thead>\n",
       "  <tbody>\n",
       "    <tr>\n",
       "      <th>0</th>\n",
       "      <td>Tamil Nadu</td>\n",
       "      <td>2024</td>\n",
       "      <td>3956.165579</td>\n",
       "    </tr>\n",
       "    <tr>\n",
       "      <th>0</th>\n",
       "      <td>Tamil Nadu</td>\n",
       "      <td>2023</td>\n",
       "      <td>1949.910215</td>\n",
       "    </tr>\n",
       "    <tr>\n",
       "      <th>1</th>\n",
       "      <td>Tamil Nadu</td>\n",
       "      <td>2022</td>\n",
       "      <td>4298.754143</td>\n",
       "    </tr>\n",
       "    <tr>\n",
       "      <th>2</th>\n",
       "      <td>Tamil Nadu</td>\n",
       "      <td>2021</td>\n",
       "      <td>4503.032269</td>\n",
       "    </tr>\n",
       "    <tr>\n",
       "      <th>3</th>\n",
       "      <td>Tamil Nadu</td>\n",
       "      <td>2020</td>\n",
       "      <td>286.243414</td>\n",
       "    </tr>\n",
       "  </tbody>\n",
       "</table>\n",
       "</div>"
      ],
      "text/plain": [
       "        State  Year  Total_avgrain\n",
       "0  Tamil Nadu  2024    3956.165579\n",
       "0  Tamil Nadu  2023    1949.910215\n",
       "1  Tamil Nadu  2022    4298.754143\n",
       "2  Tamil Nadu  2021    4503.032269\n",
       "3  Tamil Nadu  2020     286.243414"
      ]
     },
     "execution_count": 880,
     "metadata": {},
     "output_type": "execute_result"
    }
   ],
   "source": [
    " TN_TFRAMEp=TN_TFRAMEp.rename(columns={\"Total(avg rain)\": \"Total_avgrain\"})\n",
    "TN_TFRAMEp"
   ]
  },
  {
   "cell_type": "code",
   "execution_count": 867,
   "id": "c4bcf14c-410f-41c3-8ad3-fa66328964c9",
   "metadata": {
    "tags": []
   },
   "outputs": [
    {
     "data": {
      "text/html": [
       "<div>\n",
       "<style scoped>\n",
       "    .dataframe tbody tr th:only-of-type {\n",
       "        vertical-align: middle;\n",
       "    }\n",
       "\n",
       "    .dataframe tbody tr th {\n",
       "        vertical-align: top;\n",
       "    }\n",
       "\n",
       "    .dataframe thead th {\n",
       "        text-align: right;\n",
       "    }\n",
       "</style>\n",
       "<table border=\"1\" class=\"dataframe\">\n",
       "  <thead>\n",
       "    <tr style=\"text-align: right;\">\n",
       "      <th></th>\n",
       "      <th>State</th>\n",
       "      <th>Year</th>\n",
       "      <th>Total_avgrain</th>\n",
       "    </tr>\n",
       "  </thead>\n",
       "  <tbody>\n",
       "    <tr>\n",
       "      <th>0</th>\n",
       "      <td>Kerala</td>\n",
       "      <td>2024</td>\n",
       "      <td>9514.529504</td>\n",
       "    </tr>\n",
       "    <tr>\n",
       "      <th>0</th>\n",
       "      <td>Kerala</td>\n",
       "      <td>2023</td>\n",
       "      <td>5060.319047</td>\n",
       "    </tr>\n",
       "    <tr>\n",
       "      <th>1</th>\n",
       "      <td>Kerala</td>\n",
       "      <td>2022</td>\n",
       "      <td>9385.189496</td>\n",
       "    </tr>\n",
       "    <tr>\n",
       "      <th>2</th>\n",
       "      <td>Kerala</td>\n",
       "      <td>2021</td>\n",
       "      <td>7586.019293</td>\n",
       "    </tr>\n",
       "    <tr>\n",
       "      <th>3</th>\n",
       "      <td>Kerala</td>\n",
       "      <td>2020</td>\n",
       "      <td>476.768580</td>\n",
       "    </tr>\n",
       "  </tbody>\n",
       "</table>\n",
       "</div>"
      ],
      "text/plain": [
       "    State  Year  Total_avgrain\n",
       "0  Kerala  2024    9514.529504\n",
       "0  Kerala  2023    5060.319047\n",
       "1  Kerala  2022    9385.189496\n",
       "2  Kerala  2021    7586.019293\n",
       "3  Kerala  2020     476.768580"
      ]
     },
     "execution_count": 867,
     "metadata": {},
     "output_type": "execute_result"
    }
   ],
   "source": [
    "KL_TFRAMEp= KL_TFRAMEp.rename(columns={\"Total(avg rain)\": \"Total_avgrain\"})\n",
    "KL_TFRAMEp"
   ]
  },
  {
   "cell_type": "code",
   "execution_count": 868,
   "id": "c73806c2-0198-49a9-89a1-1514c6430db0",
   "metadata": {
    "tags": []
   },
   "outputs": [
    {
     "data": {
      "text/html": [
       "<div>\n",
       "<style scoped>\n",
       "    .dataframe tbody tr th:only-of-type {\n",
       "        vertical-align: middle;\n",
       "    }\n",
       "\n",
       "    .dataframe tbody tr th {\n",
       "        vertical-align: top;\n",
       "    }\n",
       "\n",
       "    .dataframe thead th {\n",
       "        text-align: right;\n",
       "    }\n",
       "</style>\n",
       "<table border=\"1\" class=\"dataframe\">\n",
       "  <thead>\n",
       "    <tr style=\"text-align: right;\">\n",
       "      <th></th>\n",
       "      <th>State</th>\n",
       "      <th>Year</th>\n",
       "      <th>Total_avgrain</th>\n",
       "    </tr>\n",
       "  </thead>\n",
       "  <tbody>\n",
       "    <tr>\n",
       "      <th>0</th>\n",
       "      <td>Goa</td>\n",
       "      <td>2024</td>\n",
       "      <td>3677.699545</td>\n",
       "    </tr>\n",
       "    <tr>\n",
       "      <th>0</th>\n",
       "      <td>Goa</td>\n",
       "      <td>2023</td>\n",
       "      <td>2205.637092</td>\n",
       "    </tr>\n",
       "    <tr>\n",
       "      <th>1</th>\n",
       "      <td>Goa</td>\n",
       "      <td>2022</td>\n",
       "      <td>2951.034767</td>\n",
       "    </tr>\n",
       "    <tr>\n",
       "      <th>2</th>\n",
       "      <td>Goa</td>\n",
       "      <td>2021</td>\n",
       "      <td>2587.336432</td>\n",
       "    </tr>\n",
       "    <tr>\n",
       "      <th>3</th>\n",
       "      <td>Goa</td>\n",
       "      <td>2020</td>\n",
       "      <td>6.909861</td>\n",
       "    </tr>\n",
       "  </tbody>\n",
       "</table>\n",
       "</div>"
      ],
      "text/plain": [
       "  State  Year  Total_avgrain\n",
       "0   Goa  2024    3677.699545\n",
       "0   Goa  2023    2205.637092\n",
       "1   Goa  2022    2951.034767\n",
       "2   Goa  2021    2587.336432\n",
       "3   Goa  2020       6.909861"
      ]
     },
     "execution_count": 868,
     "metadata": {},
     "output_type": "execute_result"
    }
   ],
   "source": [
    "GA_TFRAMEp= GA_TFRAMEp.rename(columns={\"Total(avg rain)\": \"Total_avgrain\"})\n",
    "GA_TFRAMEp"
   ]
  },
  {
   "cell_type": "code",
   "execution_count": 869,
   "id": "5ee1b475-815a-47c6-9388-039841d3126a",
   "metadata": {
    "tags": []
   },
   "outputs": [
    {
     "data": {
      "text/html": [
       "<div>\n",
       "<style scoped>\n",
       "    .dataframe tbody tr th:only-of-type {\n",
       "        vertical-align: middle;\n",
       "    }\n",
       "\n",
       "    .dataframe tbody tr th {\n",
       "        vertical-align: top;\n",
       "    }\n",
       "\n",
       "    .dataframe thead th {\n",
       "        text-align: right;\n",
       "    }\n",
       "</style>\n",
       "<table border=\"1\" class=\"dataframe\">\n",
       "  <thead>\n",
       "    <tr style=\"text-align: right;\">\n",
       "      <th></th>\n",
       "      <th>State</th>\n",
       "      <th>Year</th>\n",
       "      <th>Total_avgrain</th>\n",
       "    </tr>\n",
       "  </thead>\n",
       "  <tbody>\n",
       "    <tr>\n",
       "      <th>0</th>\n",
       "      <td>Gujarat</td>\n",
       "      <td>2024</td>\n",
       "      <td>19878.317836</td>\n",
       "    </tr>\n",
       "    <tr>\n",
       "      <th>0</th>\n",
       "      <td>Gujarat</td>\n",
       "      <td>2023</td>\n",
       "      <td>10769.716071</td>\n",
       "    </tr>\n",
       "    <tr>\n",
       "      <th>1</th>\n",
       "      <td>Gujarat</td>\n",
       "      <td>2022</td>\n",
       "      <td>18287.776731</td>\n",
       "    </tr>\n",
       "    <tr>\n",
       "      <th>2</th>\n",
       "      <td>Gujarat</td>\n",
       "      <td>2021</td>\n",
       "      <td>6269.514660</td>\n",
       "    </tr>\n",
       "    <tr>\n",
       "      <th>3</th>\n",
       "      <td>Gujarat</td>\n",
       "      <td>2020</td>\n",
       "      <td>70.573202</td>\n",
       "    </tr>\n",
       "  </tbody>\n",
       "</table>\n",
       "</div>"
      ],
      "text/plain": [
       "     State  Year  Total_avgrain\n",
       "0  Gujarat  2024   19878.317836\n",
       "0  Gujarat  2023   10769.716071\n",
       "1  Gujarat  2022   18287.776731\n",
       "2  Gujarat  2021    6269.514660\n",
       "3  Gujarat  2020      70.573202"
      ]
     },
     "execution_count": 869,
     "metadata": {},
     "output_type": "execute_result"
    }
   ],
   "source": [
    "GJ_TFRAMEp =GJ_TFRAMEp.rename(columns={\"Total(avg rain)\": \"Total_avgrain\"})\n",
    "GJ_TFRAMEp"
   ]
  },
  {
   "cell_type": "code",
   "execution_count": 870,
   "id": "2fd64fcd-943c-47da-ad89-e62d91234ccc",
   "metadata": {},
   "outputs": [],
   "source": [
    "%matplotlib inline\n",
    "import numpy as np\n",
    "import pandas as pd\n",
    "import matplotlib.pyplot as plt\n",
    "\n"
   ]
  },
  {
   "cell_type": "code",
   "execution_count": 908,
   "id": "2d24bb22-cb08-4359-8b49-684162eb4243",
   "metadata": {
    "tags": []
   },
   "outputs": [
    {
     "data": {
      "image/png": "[encoded data removed]",
      "text/plain": [
       "<Figure size 1000x600 with 1 Axes>"
      ]
     },
     "metadata": {},
     "output_type": "display_data"
    },
    {
     "data": {
      "text/plain": [
       "<Figure size 1000x600 with 0 Axes>"
      ]
     },
     "execution_count": 908,
     "metadata": {},
     "output_type": "execute_result"
    },
    {
     "data": {
      "text/plain": [
       "<Figure size 1000x600 with 0 Axes>"
      ]
     },
     "metadata": {},
     "output_type": "display_data"
    }
   ],
   "source": [
    "#GJ_TFRAMEp.plot.bar(y='Total_avgrain',x='Year',rot=0)\n",
    "plt.xlabel('year')\n",
    "plt.ylabel('Total_avgrain')\n",
    "years=[\"2024\",\"2023\",\"2022\",\"2021\",\"2020\"]\n",
    "\n",
    "ap1=AP_TFRAMEp.Total_avgrain\n",
    "mh1=MH_TFRAMEp.Total_avgrain\n",
    "kl1=KL_TFRAMEp.Total_avgrain\n",
    "tn1=TN_TFRAMEp.Total_avgrain\n",
    "gj1=GJ_TFRAMEp.Total_avgrain\n",
    "ga1=GA_TFRAMEp.Total_avgrain\n",
    "\n",
    "w=0.1\n",
    "\n",
    "\n",
    "ap1_bar=np.arange(len(years))\n",
    "mh1_bar=[i+w for i in ap1_bar]\n",
    "kl1_bar=[i+w for i in mh1_bar]\n",
    "tn1_bar=[i+w for i in kl1_bar]\n",
    "gj1_bar=[i+w for i in tn1_bar]\n",
    "ga1_bar=[i+w for i in gj1_bar]\n",
    "#print(ap1_bar)\n",
    "plt.bar(ap1_bar,ap1,width=w,label=\"A.P\")\n",
    "#print(mh1_bar)\n",
    "plt.bar(mh1_bar,mh1,width=w,label=\"Maharashtra\")\n",
    "#print(kl1_bar)\n",
    "plt.bar(kl1_bar,kl1,width=w,label=\"Kerala\")\n",
    "#print(tn1_bar)\n",
    "plt.bar(tn1_bar,tn1,width=w,label=\"Tamil Nadu\")\n",
    "#print(gj1_bar)\n",
    "plt.bar(gj1_bar,gj1,width=w,label=\"Gujarat\")\n",
    "#print(ga1_bar)\n",
    "plt.bar(ga1_bar,ga1,width=w,label=\"Goa\")\n",
    "\n",
    "plt.xticks(ap1_bar+w+w/2,years)\n",
    "plt.title(\"Total Average\")\n",
    "plt.ylim(0,25000)\n",
    "plt.legend()\n",
    "\n",
    "plt.savefig(\"Totalavg.png\",dpi=300)\n",
    "\n",
    "plt.show()\n",
    "plt.figure(figsize=(10,6))\n",
    "\n",
    "#plt.rcParams['figure.figsize']=(10,6)"
   ]
  },
  {
   "cell_type": "code",
   "execution_count": 916,
   "id": "664179fe-4316-479f-80c2-a71550571b71",
   "metadata": {
    "tags": []
   },
   "outputs": [
    {
     "data": {
      "text/html": [
       "<div>\n",
       "<style scoped>\n",
       "    .dataframe tbody tr th:only-of-type {\n",
       "        vertical-align: middle;\n",
       "    }\n",
       "\n",
       "    .dataframe tbody tr th {\n",
       "        vertical-align: top;\n",
       "    }\n",
       "\n",
       "    .dataframe thead th {\n",
       "        text-align: right;\n",
       "    }\n",
       "</style>\n",
       "<table border=\"1\" class=\"dataframe\">\n",
       "  <thead>\n",
       "    <tr style=\"text-align: right;\">\n",
       "      <th></th>\n",
       "      <th>State</th>\n",
       "      <th>Year</th>\n",
       "      <th>avg_avgrain</th>\n",
       "    </tr>\n",
       "  </thead>\n",
       "  <tbody>\n",
       "    <tr>\n",
       "      <th>0</th>\n",
       "      <td>A.P</td>\n",
       "      <td>2024</td>\n",
       "      <td>7.238561</td>\n",
       "    </tr>\n",
       "    <tr>\n",
       "      <th>0</th>\n",
       "      <td>A.P</td>\n",
       "      <td>2023</td>\n",
       "      <td>5.128567</td>\n",
       "    </tr>\n",
       "    <tr>\n",
       "      <th>1</th>\n",
       "      <td>A.P</td>\n",
       "      <td>2022</td>\n",
       "      <td>5.987308</td>\n",
       "    </tr>\n",
       "    <tr>\n",
       "      <th>2</th>\n",
       "      <td>A.P</td>\n",
       "      <td>2021</td>\n",
       "      <td>7.244671</td>\n",
       "    </tr>\n",
       "    <tr>\n",
       "      <th>3</th>\n",
       "      <td>A.P</td>\n",
       "      <td>2020</td>\n",
       "      <td>1.767320</td>\n",
       "    </tr>\n",
       "  </tbody>\n",
       "</table>\n",
       "</div>"
      ],
      "text/plain": [
       "  State  Year  avg_avgrain\n",
       "0   A.P  2024     7.238561\n",
       "0   A.P  2023     5.128567\n",
       "1   A.P  2022     5.987308\n",
       "2   A.P  2021     7.244671\n",
       "3   A.P  2020     1.767320"
      ]
     },
     "execution_count": 916,
     "metadata": {},
     "output_type": "execute_result"
    }
   ],
   "source": [
    "AP_FRAMEp=AP_FRAMEp.rename(columns={\"Avg(avgRain)\": \"avg_avgrain\"})\n",
    "AP_FRAMEp"
   ]
  },
  {
   "cell_type": "code",
   "execution_count": null,
   "id": "d0ce5dfe-78c7-4016-90c2-f0524c37843e",
   "metadata": {},
   "outputs": [],
   "source": [
    "bins = [0,2500,5000,7500,10000,12500,15000,17500,20000]\n",
    "\n",
    "\n",
    "plt.hist(GJ_TFRAMEp.Total_avgrain, bins=bins,color='yellow')\n",
    "plt.xticks(bins)\n",
    "\n",
    "plt.ylabel('year')\n",
    "plt.xlabel('Total_avgrain')\n",
    "plt.show()"
   ]
  },
  {
   "cell_type": "code",
   "execution_count": 917,
   "id": "bc9918ba-f78a-46ae-8faa-38479810b324",
   "metadata": {
    "tags": []
   },
   "outputs": [
    {
     "data": {
      "text/html": [
       "<div>\n",
       "<style scoped>\n",
       "    .dataframe tbody tr th:only-of-type {\n",
       "        vertical-align: middle;\n",
       "    }\n",
       "\n",
       "    .dataframe tbody tr th {\n",
       "        vertical-align: top;\n",
       "    }\n",
       "\n",
       "    .dataframe thead th {\n",
       "        text-align: right;\n",
       "    }\n",
       "</style>\n",
       "<table border=\"1\" class=\"dataframe\">\n",
       "  <thead>\n",
       "    <tr style=\"text-align: right;\">\n",
       "      <th></th>\n",
       "      <th>State</th>\n",
       "      <th>Year</th>\n",
       "      <th>avg_avgrain</th>\n",
       "    </tr>\n",
       "  </thead>\n",
       "  <tbody>\n",
       "    <tr>\n",
       "      <th>0</th>\n",
       "      <td>Maharastra</td>\n",
       "      <td>2024</td>\n",
       "      <td>26.027490</td>\n",
       "    </tr>\n",
       "    <tr>\n",
       "      <th>0</th>\n",
       "      <td>Maharastra</td>\n",
       "      <td>2023</td>\n",
       "      <td>16.398610</td>\n",
       "    </tr>\n",
       "    <tr>\n",
       "      <th>1</th>\n",
       "      <td>Maharastra</td>\n",
       "      <td>2022</td>\n",
       "      <td>21.093920</td>\n",
       "    </tr>\n",
       "    <tr>\n",
       "      <th>2</th>\n",
       "      <td>Maharastra</td>\n",
       "      <td>2021</td>\n",
       "      <td>15.645612</td>\n",
       "    </tr>\n",
       "    <tr>\n",
       "      <th>3</th>\n",
       "      <td>Maharastra</td>\n",
       "      <td>2020</td>\n",
       "      <td>1.836159</td>\n",
       "    </tr>\n",
       "  </tbody>\n",
       "</table>\n",
       "</div>"
      ],
      "text/plain": [
       "        State  Year  avg_avgrain\n",
       "0  Maharastra  2024    26.027490\n",
       "0  Maharastra  2023    16.398610\n",
       "1  Maharastra  2022    21.093920\n",
       "2  Maharastra  2021    15.645612\n",
       "3  Maharastra  2020     1.836159"
      ]
     },
     "execution_count": 917,
     "metadata": {},
     "output_type": "execute_result"
    }
   ],
   "source": [
    "MH_FRAMEp= MH_FRAMEp.rename(columns={\"Avg(avg rainfall)\": \"avg_avgrain\"})\n",
    "MH_FRAMEp"
   ]
  },
  {
   "cell_type": "code",
   "execution_count": 918,
   "id": "dcaa72f6-430d-4e7f-90c2-9738c4ff1d37",
   "metadata": {
    "tags": []
   },
   "outputs": [
    {
     "data": {
      "text/html": [
       "<div>\n",
       "<style scoped>\n",
       "    .dataframe tbody tr th:only-of-type {\n",
       "        vertical-align: middle;\n",
       "    }\n",
       "\n",
       "    .dataframe tbody tr th {\n",
       "        vertical-align: top;\n",
       "    }\n",
       "\n",
       "    .dataframe thead th {\n",
       "        text-align: right;\n",
       "    }\n",
       "</style>\n",
       "<table border=\"1\" class=\"dataframe\">\n",
       "  <thead>\n",
       "    <tr style=\"text-align: right;\">\n",
       "      <th></th>\n",
       "      <th>State</th>\n",
       "      <th>Year</th>\n",
       "      <th>avg_avgrain</th>\n",
       "    </tr>\n",
       "  </thead>\n",
       "  <tbody>\n",
       "    <tr>\n",
       "      <th>0</th>\n",
       "      <td>Tamil Nadu</td>\n",
       "      <td>2024</td>\n",
       "      <td>4.257981</td>\n",
       "    </tr>\n",
       "    <tr>\n",
       "      <th>0</th>\n",
       "      <td>Tamil Nadu</td>\n",
       "      <td>2023</td>\n",
       "      <td>2.715752</td>\n",
       "    </tr>\n",
       "    <tr>\n",
       "      <th>1</th>\n",
       "      <td>Tamil Nadu</td>\n",
       "      <td>2022</td>\n",
       "      <td>4.992746</td>\n",
       "    </tr>\n",
       "    <tr>\n",
       "      <th>2</th>\n",
       "      <td>Tamil Nadu</td>\n",
       "      <td>2021</td>\n",
       "      <td>5.392853</td>\n",
       "    </tr>\n",
       "    <tr>\n",
       "      <th>3</th>\n",
       "      <td>Tamil Nadu</td>\n",
       "      <td>2020</td>\n",
       "      <td>1.908289</td>\n",
       "    </tr>\n",
       "  </tbody>\n",
       "</table>\n",
       "</div>"
      ],
      "text/plain": [
       "        State  Year  avg_avgrain\n",
       "0  Tamil Nadu  2024     4.257981\n",
       "0  Tamil Nadu  2023     2.715752\n",
       "1  Tamil Nadu  2022     4.992746\n",
       "2  Tamil Nadu  2021     5.392853\n",
       "3  Tamil Nadu  2020     1.908289"
      ]
     },
     "execution_count": 918,
     "metadata": {},
     "output_type": "execute_result"
    }
   ],
   "source": [
    "TN_FRAMEp= TN_FRAMEp.rename(columns={\"Avg(Avg Rainfall)\": \"avg_avgrain\"})\n",
    "TN_FRAMEp"
   ]
  },
  {
   "cell_type": "code",
   "execution_count": 922,
   "id": "61a8b734-7728-4423-9897-8512b5d9f1b6",
   "metadata": {
    "tags": []
   },
   "outputs": [
    {
     "data": {
      "text/html": [
       "<div>\n",
       "<style scoped>\n",
       "    .dataframe tbody tr th:only-of-type {\n",
       "        vertical-align: middle;\n",
       "    }\n",
       "\n",
       "    .dataframe tbody tr th {\n",
       "        vertical-align: top;\n",
       "    }\n",
       "\n",
       "    .dataframe thead th {\n",
       "        text-align: right;\n",
       "    }\n",
       "</style>\n",
       "<table border=\"1\" class=\"dataframe\">\n",
       "  <thead>\n",
       "    <tr style=\"text-align: right;\">\n",
       "      <th></th>\n",
       "      <th>State</th>\n",
       "      <th>Year</th>\n",
       "      <th>avg_avgrain</th>\n",
       "    </tr>\n",
       "  </thead>\n",
       "  <tbody>\n",
       "    <tr>\n",
       "      <th>0</th>\n",
       "      <td>Kerala</td>\n",
       "      <td>2024</td>\n",
       "      <td>27.819762</td>\n",
       "    </tr>\n",
       "    <tr>\n",
       "      <th>0</th>\n",
       "      <td>Kerala</td>\n",
       "      <td>2023</td>\n",
       "      <td>17.329860</td>\n",
       "    </tr>\n",
       "    <tr>\n",
       "      <th>1</th>\n",
       "      <td>Kerala</td>\n",
       "      <td>2022</td>\n",
       "      <td>23.462974</td>\n",
       "    </tr>\n",
       "    <tr>\n",
       "      <th>2</th>\n",
       "      <td>Kerala</td>\n",
       "      <td>2021</td>\n",
       "      <td>17.641905</td>\n",
       "    </tr>\n",
       "    <tr>\n",
       "      <th>3</th>\n",
       "      <td>Kerala</td>\n",
       "      <td>2020</td>\n",
       "      <td>2.483170</td>\n",
       "    </tr>\n",
       "  </tbody>\n",
       "</table>\n",
       "</div>"
      ],
      "text/plain": [
       "    State  Year  avg_avgrain\n",
       "0  Kerala  2024    27.819762\n",
       "0  Kerala  2023    17.329860\n",
       "1  Kerala  2022    23.462974\n",
       "2  Kerala  2021    17.641905\n",
       "3  Kerala  2020     2.483170"
      ]
     },
     "execution_count": 922,
     "metadata": {},
     "output_type": "execute_result"
    }
   ],
   "source": [
    "KL_FRAMEp= KL_FRAMEp.rename(columns={\"Avg(avg rain)\": \"avg_avgrain\"})\n",
    "KL_FRAMEp"
   ]
  },
  {
   "cell_type": "code",
   "execution_count": 923,
   "id": "e98e5666-a464-428c-a2e2-8a2be039b430",
   "metadata": {
    "tags": []
   },
   "outputs": [
    {
     "data": {
      "text/html": [
       "<div>\n",
       "<style scoped>\n",
       "    .dataframe tbody tr th:only-of-type {\n",
       "        vertical-align: middle;\n",
       "    }\n",
       "\n",
       "    .dataframe tbody tr th {\n",
       "        vertical-align: top;\n",
       "    }\n",
       "\n",
       "    .dataframe thead th {\n",
       "        text-align: right;\n",
       "    }\n",
       "</style>\n",
       "<table border=\"1\" class=\"dataframe\">\n",
       "  <thead>\n",
       "    <tr style=\"text-align: right;\">\n",
       "      <th></th>\n",
       "      <th>State</th>\n",
       "      <th>Year</th>\n",
       "      <th>avg_avgrain</th>\n",
       "    </tr>\n",
       "  </thead>\n",
       "  <tbody>\n",
       "    <tr>\n",
       "      <th>0</th>\n",
       "      <td>Goa</td>\n",
       "      <td>2024</td>\n",
       "      <td>77.609631</td>\n",
       "    </tr>\n",
       "    <tr>\n",
       "      <th>0</th>\n",
       "      <td>Goa</td>\n",
       "      <td>2023</td>\n",
       "      <td>52.515169</td>\n",
       "    </tr>\n",
       "    <tr>\n",
       "      <th>1</th>\n",
       "      <td>Goa</td>\n",
       "      <td>2022</td>\n",
       "      <td>50.879910</td>\n",
       "    </tr>\n",
       "    <tr>\n",
       "      <th>2</th>\n",
       "      <td>Goa</td>\n",
       "      <td>2021</td>\n",
       "      <td>41.731233</td>\n",
       "    </tr>\n",
       "    <tr>\n",
       "      <th>3</th>\n",
       "      <td>Goa</td>\n",
       "      <td>2020</td>\n",
       "      <td>0.690986</td>\n",
       "    </tr>\n",
       "  </tbody>\n",
       "</table>\n",
       "</div>"
      ],
      "text/plain": [
       "  State  Year  avg_avgrain\n",
       "0   Goa  2024    77.609631\n",
       "0   Goa  2023    52.515169\n",
       "1   Goa  2022    50.879910\n",
       "2   Goa  2021    41.731233\n",
       "3   Goa  2020     0.690986"
      ]
     },
     "execution_count": 923,
     "metadata": {},
     "output_type": "execute_result"
    }
   ],
   "source": [
    "GA_FRAMEp =GA_FRAMEp.rename(columns={\"AVG(avg rain)\": \"avg_avgrain\"})\n",
    "GA_FRAMEp"
   ]
  },
  {
   "cell_type": "code",
   "execution_count": 924,
   "id": "b0b9c314-21e9-407c-ad32-87e05aba6aad",
   "metadata": {
    "tags": []
   },
   "outputs": [
    {
     "data": {
      "text/html": [
       "<div>\n",
       "<style scoped>\n",
       "    .dataframe tbody tr th:only-of-type {\n",
       "        vertical-align: middle;\n",
       "    }\n",
       "\n",
       "    .dataframe tbody tr th {\n",
       "        vertical-align: top;\n",
       "    }\n",
       "\n",
       "    .dataframe thead th {\n",
       "        text-align: right;\n",
       "    }\n",
       "</style>\n",
       "<table border=\"1\" class=\"dataframe\">\n",
       "  <thead>\n",
       "    <tr style=\"text-align: right;\">\n",
       "      <th></th>\n",
       "      <th>State</th>\n",
       "      <th>Year</th>\n",
       "      <th>avg_avgrain</th>\n",
       "    </tr>\n",
       "  </thead>\n",
       "  <tbody>\n",
       "    <tr>\n",
       "      <th>0</th>\n",
       "      <td>Gujarat</td>\n",
       "      <td>2024</td>\n",
       "      <td>24.896338</td>\n",
       "    </tr>\n",
       "    <tr>\n",
       "      <th>0</th>\n",
       "      <td>Gujarat</td>\n",
       "      <td>2023</td>\n",
       "      <td>15.768252</td>\n",
       "    </tr>\n",
       "    <tr>\n",
       "      <th>1</th>\n",
       "      <td>Gujarat</td>\n",
       "      <td>2022</td>\n",
       "      <td>19.149504</td>\n",
       "    </tr>\n",
       "    <tr>\n",
       "      <th>2</th>\n",
       "      <td>Gujarat</td>\n",
       "      <td>2021</td>\n",
       "      <td>12.323200</td>\n",
       "    </tr>\n",
       "    <tr>\n",
       "      <th>3</th>\n",
       "      <td>Gujarat</td>\n",
       "      <td>2020</td>\n",
       "      <td>0.893332</td>\n",
       "    </tr>\n",
       "  </tbody>\n",
       "</table>\n",
       "</div>"
      ],
      "text/plain": [
       "     State  Year  avg_avgrain\n",
       "0  Gujarat  2024    24.896338\n",
       "0  Gujarat  2023    15.768252\n",
       "1  Gujarat  2022    19.149504\n",
       "2  Gujarat  2021    12.323200\n",
       "3  Gujarat  2020     0.893332"
      ]
     },
     "execution_count": 924,
     "metadata": {},
     "output_type": "execute_result"
    }
   ],
   "source": [
    "GJ_FRAMEp=GJ_FRAMEp.rename(columns={\"Avg(avg rain)\": \"avg_avgrain\"})\n",
    "GJ_FRAMEp"
   ]
  },
  {
   "cell_type": "code",
   "execution_count": 929,
   "id": "b3035749-da42-4c9f-8643-9948b7cedfb7",
   "metadata": {
    "tags": []
   },
   "outputs": [
    {
     "data": {
      "image/png": "[encoded data removed]",
      "text/plain": [
       "<Figure size 1000x600 with 1 Axes>"
      ]
     },
     "metadata": {},
     "output_type": "display_data"
    },
    {
     "data": {
      "text/plain": [
       "<Figure size 1000x600 with 0 Axes>"
      ]
     },
     "execution_count": 929,
     "metadata": {},
     "output_type": "execute_result"
    },
    {
     "data": {
      "text/plain": [
       "<Figure size 1000x600 with 0 Axes>"
      ]
     },
     "metadata": {},
     "output_type": "display_data"
    }
   ],
   "source": [
    "plt.xlabel('Year')\n",
    "plt.ylabel('avg_avg rain')\n",
    "Years =[\"2024\",\"2023\",\"2022\",\"2021\",\"2020\"]\n",
    "\n",
    "ap2 = AP_FRAMEp.avg_avgrain\n",
    "mh2=  MH_FRAMEp.avg_avgrain\n",
    "kl2=  KL_FRAMEp.avg_avgrain\n",
    "tn2= TN_FRAMEp.avg_avgrain\n",
    "gj2= GJ_FRAMEp.avg_avgrain\n",
    "ga2= GA_FRAMEp.avg_avgrain\n",
    "\n",
    "w=0.1\n",
    "\n",
    "ap2_bar =np.arange(len(years))\n",
    "mh2_bar=[i+w for i in ap2_bar]\n",
    "kl2_bar=[i+w for i in mh2_bar]\n",
    "tn2_bar=[i+w for i in kl2_bar]\n",
    "gj2_bar=[i+w for i in tn2_bar]\n",
    "ga2_bar=[i+w for i in gj2_bar]\n",
    "         \n",
    "plt.bar(ap2_bar,ap2,width=w,label=\"A.P\")\n",
    "         \n",
    "plt.bar(mh2_bar,mh2,width=w,label=\"Maharashtra\")\n",
    "         \n",
    "plt.bar(kl2_bar,kl2,width=w,label=\"Kerala\")\n",
    "         \n",
    "plt.bar(tn2_bar,tn2,width=w,label=\"Tamil Nadu\")\n",
    "         \n",
    "plt.bar(gj2_bar,gj2,width=w,label=\"Gujarat\")\n",
    "         \n",
    "plt.bar(ga2_bar,ga2,width=w,label=\"Goa\")\n",
    "         \n",
    "plt.xticks(ap2_bar+w+w/2,years)\n",
    "plt.title(\"Avg of Average Rain\")\n",
    "plt.ylim(0,90)\n",
    "plt.legend()\n",
    "\n",
    "plt.savefig(\"avg_avg.png\",dpi=300)\n",
    "\n",
    "plt.show()\n",
    "plt.figure(figsize=(10,6))\n",
    "\n",
    "         \n",
    "\n",
    "         \n",
    "         "
   ]
  },
  {
   "cell_type": "code",
   "execution_count": null,
   "id": "8ceef3b0-8af6-4c8d-b483-eec2f35889f8",
   "metadata": {},
   "outputs": [],
   "source": []
  },
  {
   "cell_type": "code",
   "execution_count": null,
   "id": "f37542e4-0f1c-41ac-b948-832a7a5e60db",
   "metadata": {},
   "outputs": [],
   "source": []
  }
 ],
 "metadata": {
  "kernelspec": {
   "display_name": "Python 3 (ipykernel)",
   "language": "python",
   "name": "python3"
  },
  "language_info": {
   "codemirror_mode": {
    "name": "ipython",
    "version": 3
   },
   "file_extension": ".py",
   "mimetype": "text/x-python",
   "name": "python",
   "nbconvert_exporter": "python",
   "pygments_lexer": "ipython3",
   "version": "3.11.3"
  }
 },
 "nbformat": 4,
 "nbformat_minor": 5
}
